{
 "cells": [
  {
   "cell_type": "code",
   "execution_count": 1,
   "metadata": {},
   "outputs": [],
   "source": [
    "# Import libraries\n",
    "\n",
    "import pandas as pd\n",
    "import numpy as np\n",
    "import seaborn as sns\n",
    "import matplotlib.pyplot as plt\n",
    "from plotnine import *"
   ]
  },
  {
   "cell_type": "code",
   "execution_count": 2,
   "metadata": {},
   "outputs": [],
   "source": [
    "pd.set_option('display.max_columns', None)\n",
    "pd.set_option('display.max_columns', 1000)"
   ]
  },
  {
   "cell_type": "code",
   "execution_count": 3,
   "metadata": {},
   "outputs": [],
   "source": [
    "## Load Data"
   ]
  },
  {
   "cell_type": "code",
   "execution_count": 4,
   "metadata": {},
   "outputs": [
    {
     "data": {
      "text/html": [
       "<div>\n",
       "<style scoped>\n",
       "    .dataframe tbody tr th:only-of-type {\n",
       "        vertical-align: middle;\n",
       "    }\n",
       "\n",
       "    .dataframe tbody tr th {\n",
       "        vertical-align: top;\n",
       "    }\n",
       "\n",
       "    .dataframe thead th {\n",
       "        text-align: right;\n",
       "    }\n",
       "</style>\n",
       "<table border=\"1\" class=\"dataframe\">\n",
       "  <thead>\n",
       "    <tr style=\"text-align: right;\">\n",
       "      <th></th>\n",
       "      <th>DRUG_NAME</th>\n",
       "      <th>MASS</th>\n",
       "      <th>ATC_LEVEL_2</th>\n",
       "      <th>ATC_VECTOR</th>\n",
       "      <th>TARGETS</th>\n",
       "      <th>TARGET_VECTOR</th>\n",
       "      <th>REPORT_NO</th>\n",
       "      <th>DATE_RECEIVED</th>\n",
       "      <th>REPORT_TYPE</th>\n",
       "      <th>GENDER</th>\n",
       "      <th>AGE</th>\n",
       "      <th>SERIOUS_FLAG</th>\n",
       "      <th>REPORTER_TYPE</th>\n",
       "      <th>SOURCE</th>\n",
       "      <th>WEIGHT_KG</th>\n",
       "      <th>ADMIN_ROUTE</th>\n",
       "      <th>DOSAGE_FORM</th>\n",
       "      <th>CONCOMITANT_DRUGS</th>\n",
       "      <th>REACTION</th>\n",
       "      <th>SOC</th>\n",
       "      <th>SIDER</th>\n",
       "    </tr>\n",
       "  </thead>\n",
       "  <tbody>\n",
       "    <tr>\n",
       "      <th>0</th>\n",
       "      <td>BIVALIRUDIN</td>\n",
       "      <td>2180.2853</td>\n",
       "      <td>{'ANTITHROMBOTIC AGENTS': 1}</td>\n",
       "      <td>[0.0, 0.0, 0.0, 0.0, 0.0, 0.0, 0.0, 0.0, 0.0, ...</td>\n",
       "      <td>{'Prothrombin': 1}</td>\n",
       "      <td>[0.0, 0.0, 0.0, 0.0, 0.0, 0.0, 0.0, 0.0, 0.0, ...</td>\n",
       "      <td>226246</td>\n",
       "      <td>2007-12-07</td>\n",
       "      <td>Spontaneous</td>\n",
       "      <td>Male</td>\n",
       "      <td>76.0</td>\n",
       "      <td>No</td>\n",
       "      <td>Other Health Professional</td>\n",
       "      <td>MAH</td>\n",
       "      <td>74.0</td>\n",
       "      <td>Intravenous (not otherwise specified)</td>\n",
       "      <td>POWDER FOR SOLUTION INTRAVENOUS</td>\n",
       "      <td>1.0</td>\n",
       "      <td>Drug ineffective</td>\n",
       "      <td>General disorders and administration site cond...</td>\n",
       "      <td>False</td>\n",
       "    </tr>\n",
       "    <tr>\n",
       "      <th>1</th>\n",
       "      <td>BIVALIRUDIN</td>\n",
       "      <td>2180.2853</td>\n",
       "      <td>{'ANTITHROMBOTIC AGENTS': 1}</td>\n",
       "      <td>[0.0, 0.0, 0.0, 0.0, 0.0, 0.0, 0.0, 0.0, 0.0, ...</td>\n",
       "      <td>{'Prothrombin': 1}</td>\n",
       "      <td>[0.0, 0.0, 0.0, 0.0, 0.0, 0.0, 0.0, 0.0, 0.0, ...</td>\n",
       "      <td>436056</td>\n",
       "      <td>2012-05-09</td>\n",
       "      <td>Spontaneous</td>\n",
       "      <td>Female</td>\n",
       "      <td>53.0</td>\n",
       "      <td>Yes</td>\n",
       "      <td>Physician</td>\n",
       "      <td>MAH</td>\n",
       "      <td>NaN</td>\n",
       "      <td>Intravenous (not otherwise specified)</td>\n",
       "      <td>POWDER FOR SOLUTION INTRAVENOUS</td>\n",
       "      <td>6.0</td>\n",
       "      <td>Bradycardia</td>\n",
       "      <td>Cardiac disorders</td>\n",
       "      <td>False</td>\n",
       "    </tr>\n",
       "  </tbody>\n",
       "</table>\n",
       "</div>"
      ],
      "text/plain": [
       "     DRUG_NAME       MASS                   ATC_LEVEL_2  \\\n",
       "0  BIVALIRUDIN  2180.2853  {'ANTITHROMBOTIC AGENTS': 1}   \n",
       "1  BIVALIRUDIN  2180.2853  {'ANTITHROMBOTIC AGENTS': 1}   \n",
       "\n",
       "                                          ATC_VECTOR             TARGETS  \\\n",
       "0  [0.0, 0.0, 0.0, 0.0, 0.0, 0.0, 0.0, 0.0, 0.0, ...  {'Prothrombin': 1}   \n",
       "1  [0.0, 0.0, 0.0, 0.0, 0.0, 0.0, 0.0, 0.0, 0.0, ...  {'Prothrombin': 1}   \n",
       "\n",
       "                                       TARGET_VECTOR REPORT_NO DATE_RECEIVED  \\\n",
       "0  [0.0, 0.0, 0.0, 0.0, 0.0, 0.0, 0.0, 0.0, 0.0, ...    226246    2007-12-07   \n",
       "1  [0.0, 0.0, 0.0, 0.0, 0.0, 0.0, 0.0, 0.0, 0.0, ...    436056    2012-05-09   \n",
       "\n",
       "   REPORT_TYPE  GENDER   AGE SERIOUS_FLAG              REPORTER_TYPE SOURCE  \\\n",
       "0  Spontaneous    Male  76.0           No  Other Health Professional    MAH   \n",
       "1  Spontaneous  Female  53.0          Yes                  Physician    MAH   \n",
       "\n",
       "   WEIGHT_KG                            ADMIN_ROUTE  \\\n",
       "0       74.0  Intravenous (not otherwise specified)   \n",
       "1        NaN  Intravenous (not otherwise specified)   \n",
       "\n",
       "                       DOSAGE_FORM  CONCOMITANT_DRUGS          REACTION  \\\n",
       "0  POWDER FOR SOLUTION INTRAVENOUS                1.0  Drug ineffective   \n",
       "1  POWDER FOR SOLUTION INTRAVENOUS                6.0       Bradycardia   \n",
       "\n",
       "                                                 SOC  SIDER  \n",
       "0  General disorders and administration site cond...  False  \n",
       "1                                  Cardiac disorders  False  "
      ]
     },
     "execution_count": 4,
     "metadata": {},
     "output_type": "execute_result"
    }
   ],
   "source": [
    "data_dir = '..\\data\\\\'\n",
    "cvadr = pd.read_parquet(data_dir + 'final_dataset.parquet')\n",
    "cvadr.head(2)"
   ]
  },
  {
   "cell_type": "code",
   "execution_count": 6,
   "metadata": {},
   "outputs": [],
   "source": [
    "# name first row as primary key\n",
    "\n",
    "cvadr = cvadr.reset_index()\n",
    "cvadr = cvadr.rename(columns={'index': 'ROW_ID'})\n",
    "cvadr.head(2)\n",
    "\n",
    "# change DATE_RECEIVED to datetime tpye\n",
    "cvadr['DATE_RECEIVED'] = pd.to_datetime(cvadr['DATE_RECEIVED'] , yearfirst=True)\n",
    "\n",
    "# fix dates in the future (these were converted to the wrong century)\n",
    "cvadr['DATE_RECEIVED'] = cvadr['DATE_RECEIVED'].apply(lambda x: x if x.year < 2020 else x - pd.DateOffset(years=100))\n",
    "\n",
    "# change ADMIN_ROUTE and DOSAGE_FORM to category type\n",
    "\n",
    "cvadr[['ADMIN_ROUTE', 'DOSAGE_FORM']] = cvadr[['ADMIN_ROUTE', 'DOSAGE_FORM']].astype('category')"
   ]
  },
  {
   "cell_type": "code",
   "execution_count": null,
   "metadata": {},
   "outputs": [],
   "source": [
    "import h2o\n",
    "from h2o.automl import H2OAutoML, get_leaderboard\n",
    "\n",
    "h2o.init()\n",
    "\n",
    "# Import a sample binary outcome train/test set into H2O\n",
    "train = h2o.import_file(\"https://s3.amazonaws.com/erin-data/higgs/higgs_train_10k.csv\")\n",
    "test = h2o.import_file(\"https://s3.amazonaws.com/erin-data/higgs/higgs_test_5k.csv\")\n",
    "\n",
    "# Identify predictors and response\n",
    "x = train.columns\n",
    "y = \"response\"\n",
    "x.remove(y)\n",
    "\n",
    "# For binary classification, response should be a factor\n",
    "train[y] = train[y].asfactor()\n",
    "test[y] = test[y].asfactor()\n",
    "\n",
    "# Run AutoML for 20 base models (limited to 1 hour max runtime by default)\n",
    "aml = H2OAutoML(max_models=20, seed=1)\n",
    "aml.train(x=x, y=y, training_frame=train)\n",
    "\n",
    "# AutoML Leaderboard\n",
    "lb = aml.leaderboard\n",
    "\n",
    "# Optionally edd extra model information to the leaderboard\n",
    "lb = get_leaderboard(aml, extra_columns='ALL')\n",
    "\n",
    "# Print all rows (instead of default 10 rows)\n",
    "lb.head(rows=lb.nrows)"
   ]
  },
  {
   "cell_type": "code",
   "execution_count": 7,
   "metadata": {},
   "outputs": [
    {
     "ename": "NameError",
     "evalue": "name 'y_test' is not defined",
     "output_type": "error",
     "traceback": [
      "\u001b[1;31m------------------------------\u001b[0m",
      "\u001b[1;31mNameError\u001b[0mTraceback (most recent call last)",
      "\u001b[1;32m<ipython-input-7-a79623656a98>\u001b[0m in \u001b[0;36m<module>\u001b[1;34m\u001b[0m\n\u001b[0;32m      1\u001b[0m \u001b[1;32mfrom\u001b[0m \u001b[0msklearn\u001b[0m \u001b[1;32mimport\u001b[0m \u001b[0mmetrics\u001b[0m\u001b[1;33m\u001b[0m\u001b[1;33m\u001b[0m\u001b[0m\n\u001b[0;32m      2\u001b[0m \u001b[1;33m\u001b[0m\u001b[0m\n\u001b[1;32m----> 3\u001b[1;33m \u001b[0mprint\u001b[0m\u001b[1;33m(\u001b[0m\u001b[1;34m'Mean Absolute Error:'\u001b[0m\u001b[1;33m,\u001b[0m \u001b[0mmetrics\u001b[0m\u001b[1;33m.\u001b[0m\u001b[0mmean_absolute_error\u001b[0m\u001b[1;33m(\u001b[0m\u001b[0my_test\u001b[0m\u001b[1;33m,\u001b[0m \u001b[0my_pred\u001b[0m\u001b[1;33m)\u001b[0m\u001b[1;33m)\u001b[0m\u001b[1;33m\u001b[0m\u001b[1;33m\u001b[0m\u001b[0m\n\u001b[0m\u001b[0;32m      4\u001b[0m \u001b[0mprint\u001b[0m\u001b[1;33m(\u001b[0m\u001b[1;34m'Mean Squared Error:'\u001b[0m\u001b[1;33m,\u001b[0m \u001b[0mmetrics\u001b[0m\u001b[1;33m.\u001b[0m\u001b[0mmean_squared_error\u001b[0m\u001b[1;33m(\u001b[0m\u001b[0my_test\u001b[0m\u001b[1;33m,\u001b[0m \u001b[0my_pred\u001b[0m\u001b[1;33m)\u001b[0m\u001b[1;33m)\u001b[0m\u001b[1;33m\u001b[0m\u001b[1;33m\u001b[0m\u001b[0m\n\u001b[0;32m      5\u001b[0m \u001b[0mprint\u001b[0m\u001b[1;33m(\u001b[0m\u001b[1;34m'Root Mean Squared Error:'\u001b[0m\u001b[1;33m,\u001b[0m \u001b[0mnp\u001b[0m\u001b[1;33m.\u001b[0m\u001b[0msqrt\u001b[0m\u001b[1;33m(\u001b[0m\u001b[0mmetrics\u001b[0m\u001b[1;33m.\u001b[0m\u001b[0mmean_squared_error\u001b[0m\u001b[1;33m(\u001b[0m\u001b[0my_test\u001b[0m\u001b[1;33m,\u001b[0m \u001b[0my_pred\u001b[0m\u001b[1;33m)\u001b[0m\u001b[1;33m)\u001b[0m\u001b[1;33m)\u001b[0m\u001b[1;33m\u001b[0m\u001b[1;33m\u001b[0m\u001b[0m\n",
      "\u001b[1;31mNameError\u001b[0m: name 'y_test' is not defined"
     ]
    }
   ],
   "source": []
  },
  {
   "cell_type": "code",
   "execution_count": null,
   "metadata": {},
   "outputs": [],
   "source": []
  }
 ],
 "metadata": {
  "kernelspec": {
   "display_name": "Python 3",
   "language": "python",
   "name": "python3"
  },
  "language_info": {
   "codemirror_mode": {
    "name": "ipython",
    "version": 3
   },
   "file_extension": ".py",
   "mimetype": "text/x-python",
   "name": "python",
   "nbconvert_exporter": "python",
   "pygments_lexer": "ipython3",
   "version": "3.7.6"
  }
 },
 "nbformat": 4,
 "nbformat_minor": 2
}
