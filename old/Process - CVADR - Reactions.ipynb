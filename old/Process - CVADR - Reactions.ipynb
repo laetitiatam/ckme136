{
 "cells": [
  {
   "cell_type": "code",
   "execution_count": 2,
   "metadata": {},
   "outputs": [],
   "source": [
    "# Import libraries\n",
    "\n",
    "import pandas as pd\n",
    "import numpy as np\n",
    "import seaborn as sns\n",
    "import matplotlib.pyplot as plt"
   ]
  },
  {
   "cell_type": "code",
   "execution_count": 3,
   "metadata": {},
   "outputs": [],
   "source": [
    "pd.set_option('display.max_columns', None)\n",
    "pd.set_option('display.max_columns', 1000)"
   ]
  },
  {
   "cell_type": "markdown",
   "metadata": {},
   "source": [
    "# for changing bar height\n",
    "def change_height(ax, new_value) :\n",
    "    for patch in ax.patches :\n",
    "        current_height = patch.get_height()\n",
    "        diff = current_height - new_value\n",
    "\n",
    "        # change the bar width\n",
    "        patch.set_height(new_value)\n",
    "\n",
    "        # recenter the bar\n",
    "        patch.set_x(patch.get_x() + diff * .5)\n",
    "\n",
    "#change_width(ax, 1)"
   ]
  },
  {
   "cell_type": "markdown",
   "metadata": {},
   "source": [
    "# Contents\n",
    "\n",
    "1. Import data\n",
    "2. Descriptive stats\n",
    " * not using duration because data not meaningful\n",
    "3. Get datatypes\n",
    "4. "
   ]
  },
  {
   "cell_type": "code",
   "execution_count": 4,
   "metadata": {},
   "outputs": [],
   "source": [
    "data_dir = 'data\\\\'"
   ]
  },
  {
   "cell_type": "markdown",
   "metadata": {},
   "source": [
    "## 1. Import Data"
   ]
  },
  {
   "cell_type": "code",
   "execution_count": 5,
   "metadata": {},
   "outputs": [
    {
     "name": "stderr",
     "output_type": "stream",
     "text": [
      "C:\\Users\\lt\\Anaconda3\\lib\\site-packages\\IPython\\core\\interactiveshell.py:3058: DtypeWarning: Columns (3,4) have mixed types. Specify dtype option on import or set low_memory=False.\n",
      "  interactivity=interactivity, compiler=compiler, result=result)\n"
     ]
    }
   ],
   "source": [
    "reactions = reactions = pd.read_csv(data_dir + 'CADVR/reactions.txt', \n",
    "                            delimiter='$',\n",
    "                            header = None,\n",
    "                            names = ['REACTION_ID','REPORT_ID','DURATION','DURATION_UNIT_ENG','DURATION_UNIT_FR','PT_NAME_ENG','PT_NAME_FR','SOC_NAME_ENG','SOC_NAME_FR','MEDDRA_VERSION'],\n",
    "                            dtype = {'REACTION_ID':'object','REPORT_ID':'object', 'PT_NAME_ENG':'category', 'SOC_NAME_ENG':'category', 'MEDDRA_VERSION':'category' })\n",
    "\n",
    "\n",
    "# remove unecessary columns\n",
    "# 'DURATION_UNIT_FR','PT_NAME_FR','SOC_NAME_FR',\n",
    "\n",
    "reactions = reactions[['REACTION_ID','REPORT_ID','DURATION','DURATION_UNIT_ENG','PT_NAME_ENG','SOC_NAME_ENG','MEDDRA_VERSION']]"
   ]
  },
  {
   "cell_type": "markdown",
   "metadata": {},
   "source": [
    "## 2. Descriptive Statistics"
   ]
  },
  {
   "cell_type": "code",
   "execution_count": 6,
   "metadata": {},
   "outputs": [],
   "source": [
    "dtypes = reactions.dtypes\n",
    "counts = reactions.count()\n",
    "distinct_counts = reactions.nunique()"
   ]
  },
  {
   "cell_type": "code",
   "execution_count": 7,
   "metadata": {},
   "outputs": [
    {
     "data": {
      "text/html": [
       "<div>\n",
       "<style scoped>\n",
       "    .dataframe tbody tr th:only-of-type {\n",
       "        vertical-align: middle;\n",
       "    }\n",
       "\n",
       "    .dataframe tbody tr th {\n",
       "        vertical-align: top;\n",
       "    }\n",
       "\n",
       "    .dataframe thead th {\n",
       "        text-align: right;\n",
       "    }\n",
       "</style>\n",
       "<table border=\"1\" class=\"dataframe\">\n",
       "  <thead>\n",
       "    <tr style=\"text-align: right;\">\n",
       "      <th></th>\n",
       "      <th>column</th>\n",
       "      <th>dtypes</th>\n",
       "      <th>counts</th>\n",
       "      <th>distinct_counts</th>\n",
       "    </tr>\n",
       "  </thead>\n",
       "  <tbody>\n",
       "    <tr>\n",
       "      <th>0</th>\n",
       "      <td>REACTION_ID</td>\n",
       "      <td>object</td>\n",
       "      <td>2606282</td>\n",
       "      <td>2606282</td>\n",
       "    </tr>\n",
       "    <tr>\n",
       "      <th>1</th>\n",
       "      <td>REPORT_ID</td>\n",
       "      <td>object</td>\n",
       "      <td>2606282</td>\n",
       "      <td>750583</td>\n",
       "    </tr>\n",
       "    <tr>\n",
       "      <th>2</th>\n",
       "      <td>DURATION</td>\n",
       "      <td>float64</td>\n",
       "      <td>85541</td>\n",
       "      <td>1593</td>\n",
       "    </tr>\n",
       "    <tr>\n",
       "      <th>3</th>\n",
       "      <td>DURATION_UNIT_ENG</td>\n",
       "      <td>object</td>\n",
       "      <td>75806</td>\n",
       "      <td>9</td>\n",
       "    </tr>\n",
       "    <tr>\n",
       "      <th>4</th>\n",
       "      <td>PT_NAME_ENG</td>\n",
       "      <td>category</td>\n",
       "      <td>2606251</td>\n",
       "      <td>11993</td>\n",
       "    </tr>\n",
       "    <tr>\n",
       "      <th>5</th>\n",
       "      <td>SOC_NAME_ENG</td>\n",
       "      <td>category</td>\n",
       "      <td>2606251</td>\n",
       "      <td>27</td>\n",
       "    </tr>\n",
       "    <tr>\n",
       "      <th>6</th>\n",
       "      <td>MEDDRA_VERSION</td>\n",
       "      <td>category</td>\n",
       "      <td>2606251</td>\n",
       "      <td>1</td>\n",
       "    </tr>\n",
       "  </tbody>\n",
       "</table>\n",
       "</div>"
      ],
      "text/plain": [
       "              column    dtypes   counts  distinct_counts\n",
       "0        REACTION_ID    object  2606282          2606282\n",
       "1          REPORT_ID    object  2606282           750583\n",
       "2           DURATION   float64    85541             1593\n",
       "3  DURATION_UNIT_ENG    object    75806                9\n",
       "4        PT_NAME_ENG  category  2606251            11993\n",
       "5       SOC_NAME_ENG  category  2606251               27\n",
       "6     MEDDRA_VERSION  category  2606251                1"
      ]
     },
     "execution_count": 7,
     "metadata": {},
     "output_type": "execute_result"
    }
   ],
   "source": [
    "dstats = pd.concat([dtypes, counts, distinct_counts], axis=1)\n",
    "dstats = dstats.reset_index()\n",
    "dstats.columns = ['column', 'dtypes', 'counts', 'distinct_counts']\n",
    "dstats"
   ]
  },
  {
   "cell_type": "code",
   "execution_count": 8,
   "metadata": {},
   "outputs": [
    {
     "name": "stdout",
     "output_type": "stream",
     "text": [
      "-407.0\n",
      "99378.0\n"
     ]
    }
   ],
   "source": [
    "print(reactions.DURATION.min())\n",
    "print(reactions.DURATION.max())"
   ]
  },
  {
   "cell_type": "code",
   "execution_count": 9,
   "metadata": {},
   "outputs": [
    {
     "data": {
      "text/plain": [
       "DURATION_UNIT_ENG\n",
       "Days       57018\n",
       "Hours       1717\n",
       "Minutes     1298\n",
       "Months     13102\n",
       "Once           0\n",
       "Seconds      362\n",
       "Unknown        3\n",
       "Weeks        820\n",
       "Years       1315\n",
       "Name: DURATION, dtype: int64"
      ]
     },
     "execution_count": 9,
     "metadata": {},
     "output_type": "execute_result"
    }
   ],
   "source": [
    "reactions.groupby('DURATION_UNIT_ENG').\tDURATION.count()"
   ]
  },
  {
   "cell_type": "code",
   "execution_count": 10,
   "metadata": {},
   "outputs": [],
   "source": [
    "# Do not use duration. Data not clean and not very meaningful. Report form is vague. \n",
    "\n",
    "reactions = reactions[['REACTION_ID','REPORT_ID','PT_NAME_ENG','SOC_NAME_ENG','MEDDRA_VERSION']]"
   ]
  },
  {
   "cell_type": "code",
   "execution_count": 11,
   "metadata": {},
   "outputs": [
    {
     "data": {
      "text/plain": [
       "Text(0,0.5,'System Organ Class')"
      ]
     },
     "execution_count": 11,
     "metadata": {},
     "output_type": "execute_result"
    },
    {
     "data": {
      "image/png": "[encoded data removed]",
      "text/plain": [
       "<Figure size 1080x720 with 1 Axes>"
      ]
     },
     "metadata": {},
     "output_type": "display_data"
    }
   ],
   "source": [
    "# Count reports by SOC\n",
    "\n",
    "sns.set_style(\"white\")\n",
    "sns.set_context('notebook')\n",
    "fig, ax = plt.subplots()\n",
    "fig.set_size_inches(15,10)\n",
    "\n",
    "ax = sns.countplot(y=reactions.SOC_NAME_ENG)\n",
    "ax.set_xlabel('Observation Count')\n",
    "ax.set_ylabel('System Organ Class')\n"
   ]
  },
  {
   "cell_type": "markdown",
   "metadata": {},
   "source": [
    "### SE Terms"
   ]
  },
  {
   "cell_type": "code",
   "execution_count": 12,
   "metadata": {},
   "outputs": [
    {
     "data": {
      "text/plain": [
       "[v.22.1, NaN]\n",
       "Categories (1, object): [v.22.1]"
      ]
     },
     "execution_count": 12,
     "metadata": {},
     "output_type": "execute_result"
    }
   ],
   "source": [
    "# this is supposed to contain MedDRA Preferred Terms\n",
    "\n",
    "reactions.MEDDRA_VERSION.unique()"
   ]
  },
  {
   "cell_type": "code",
   "execution_count": 13,
   "metadata": {},
   "outputs": [],
   "source": [
    "# There are 11,993 SEs in CVADR\n",
    "# We need to limit to what is in SIDER"
   ]
  },
  {
   "cell_type": "code",
   "execution_count": 14,
   "metadata": {},
   "outputs": [],
   "source": [
    "# load SE pairs\n",
    "\n",
    "meddra_all_se = pd.read_csv(data_dir + 'SIDER/meddra_all_se.tsv', delimiter='\\t', header=None,\n",
    "                                          names=['STITCH_FLAT','STITCH_STEREO', 'UMLS_CONCEPT_ID_LABEL','MEDDRA_CONCEPT_TYPE','UMLS_CONCEPT_ID_MEDDDRA','SE'])"
   ]
  },
  {
   "cell_type": "code",
   "execution_count": 15,
   "metadata": {},
   "outputs": [],
   "source": [
    "# get unique SE terms\n",
    "\n",
    "sider_se = meddra_all_se[['MEDDRA_CONCEPT_TYPE','UMLS_CONCEPT_ID_MEDDDRA','SE']].drop_duplicates()"
   ]
  },
  {
   "cell_type": "code",
   "execution_count": 16,
   "metadata": {},
   "outputs": [
    {
     "data": {
      "text/plain": [
       "MEDDRA_CONCEPT_TYPE           2\n",
       "UMLS_CONCEPT_ID_MEDDDRA    6060\n",
       "SE                         6123\n",
       "dtype: int64"
      ]
     },
     "execution_count": 16,
     "metadata": {},
     "output_type": "execute_result"
    }
   ],
   "source": [
    "# there are only ~3000 meddra concepts\n",
    "\n",
    "sider_se.nunique()"
   ]
  },
  {
   "cell_type": "code",
   "execution_count": 48,
   "metadata": {},
   "outputs": [],
   "source": [
    "reactions_filtered = reactions[reactions.PT_NAME_ENG.isin(sider_se.SE)]"
   ]
  },
  {
   "cell_type": "code",
   "execution_count": 49,
   "metadata": {},
   "outputs": [
    {
     "data": {
      "text/plain": [
       "REACTION_ID       2254455\n",
       "REPORT_ID         2254455\n",
       "PT_NAME_ENG       2254455\n",
       "SOC_NAME_ENG      2254455\n",
       "MEDDRA_VERSION    2254455\n",
       "dtype: int64"
      ]
     },
     "execution_count": 49,
     "metadata": {},
     "output_type": "execute_result"
    }
   ],
   "source": [
    "reactions_filtered.count()"
   ]
  },
  {
   "cell_type": "code",
   "execution_count": 50,
   "metadata": {},
   "outputs": [],
   "source": [
    "# remove duplcate reactions from each report\n",
    "\n",
    "reactions_filtered_dedup = reactions_filtered.drop_duplicates(subset=['REPORT_ID','PT_NAME_ENG','SOC_NAME_ENG'])"
   ]
  },
  {
   "cell_type": "code",
   "execution_count": 51,
   "metadata": {},
   "outputs": [
    {
     "data": {
      "text/html": [
       "<div>\n",
       "<style scoped>\n",
       "    .dataframe tbody tr th:only-of-type {\n",
       "        vertical-align: middle;\n",
       "    }\n",
       "\n",
       "    .dataframe tbody tr th {\n",
       "        vertical-align: top;\n",
       "    }\n",
       "\n",
       "    .dataframe thead th {\n",
       "        text-align: right;\n",
       "    }\n",
       "</style>\n",
       "<table border=\"1\" class=\"dataframe\">\n",
       "  <thead>\n",
       "    <tr style=\"text-align: right;\">\n",
       "      <th></th>\n",
       "      <th>original</th>\n",
       "      <th>filtered</th>\n",
       "      <th>percent_filtered</th>\n",
       "    </tr>\n",
       "  </thead>\n",
       "  <tbody>\n",
       "    <tr>\n",
       "      <th>REACTION_ID</th>\n",
       "      <td>2606282</td>\n",
       "      <td>2254455</td>\n",
       "      <td>0.865008</td>\n",
       "    </tr>\n",
       "    <tr>\n",
       "      <th>REPORT_ID</th>\n",
       "      <td>750583</td>\n",
       "      <td>713703</td>\n",
       "      <td>0.950865</td>\n",
       "    </tr>\n",
       "    <tr>\n",
       "      <th>PT_NAME_ENG</th>\n",
       "      <td>11993</td>\n",
       "      <td>3904</td>\n",
       "      <td>0.325523</td>\n",
       "    </tr>\n",
       "    <tr>\n",
       "      <th>SOC_NAME_ENG</th>\n",
       "      <td>27</td>\n",
       "      <td>27</td>\n",
       "      <td>1.000000</td>\n",
       "    </tr>\n",
       "    <tr>\n",
       "      <th>MEDDRA_VERSION</th>\n",
       "      <td>1</td>\n",
       "      <td>1</td>\n",
       "      <td>1.000000</td>\n",
       "    </tr>\n",
       "  </tbody>\n",
       "</table>\n",
       "</div>"
      ],
      "text/plain": [
       "                original  filtered  percent_filtered\n",
       "REACTION_ID      2606282   2254455          0.865008\n",
       "REPORT_ID         750583    713703          0.950865\n",
       "PT_NAME_ENG        11993      3904          0.325523\n",
       "SOC_NAME_ENG          27        27          1.000000\n",
       "MEDDRA_VERSION         1         1          1.000000"
      ]
     },
     "execution_count": 51,
     "metadata": {},
     "output_type": "execute_result"
    }
   ],
   "source": [
    "# reactions data before and after filtering for MedDRA concepts in SIDER\n",
    "\n",
    "filtered_reaction_stats = pd.concat([reactions.nunique(),reactions_filtered.nunique()], axis=1)\n",
    "filtered_reaction_stats.columns = ['original', 'filtered']\n",
    "filtered_reaction_stats['percent_filtered'] = filtered_reaction_stats['filtered']/filtered_reaction_stats['original']\n",
    "filtered_reaction_stats"
   ]
  },
  {
   "cell_type": "code",
   "execution_count": 52,
   "metadata": {},
   "outputs": [],
   "source": [
    "# count of reports by SE\n",
    "side_effect_count = reactions_filtered.groupby('PT_NAME_ENG')['REPORT_ID'].count().reset_index().sort_values(by='REPORT_ID', ascending=False)\n",
    "side_effect_count.columns = ['side_effect', 'report_count']\n",
    "side_effect_count = side_effect_count[side_effect_count['report_count'] != 0]"
   ]
  },
  {
   "cell_type": "code",
   "execution_count": 53,
   "metadata": {},
   "outputs": [
    {
     "data": {
      "text/html": [
       "<div>\n",
       "<style scoped>\n",
       "    .dataframe tbody tr th:only-of-type {\n",
       "        vertical-align: middle;\n",
       "    }\n",
       "\n",
       "    .dataframe tbody tr th {\n",
       "        vertical-align: top;\n",
       "    }\n",
       "\n",
       "    .dataframe thead th {\n",
       "        text-align: right;\n",
       "    }\n",
       "</style>\n",
       "<table border=\"1\" class=\"dataframe\">\n",
       "  <thead>\n",
       "    <tr style=\"text-align: right;\">\n",
       "      <th></th>\n",
       "      <th>side_effect</th>\n",
       "      <th>report_count</th>\n",
       "    </tr>\n",
       "  </thead>\n",
       "  <tbody>\n",
       "    <tr>\n",
       "      <th>279</th>\n",
       "      <td>Drug ineffective</td>\n",
       "      <td>119373</td>\n",
       "    </tr>\n",
       "    <tr>\n",
       "      <th>638</th>\n",
       "      <td>Nausea</td>\n",
       "      <td>42586</td>\n",
       "    </tr>\n",
       "    <tr>\n",
       "      <th>794</th>\n",
       "      <td>Rash</td>\n",
       "      <td>35591</td>\n",
       "    </tr>\n",
       "    <tr>\n",
       "      <th>772</th>\n",
       "      <td>Pruritus</td>\n",
       "      <td>34198</td>\n",
       "    </tr>\n",
       "    <tr>\n",
       "      <th>359</th>\n",
       "      <td>Fatigue</td>\n",
       "      <td>33481</td>\n",
       "    </tr>\n",
       "    <tr>\n",
       "      <th>...</th>\n",
       "      <td>...</td>\n",
       "      <td>...</td>\n",
       "    </tr>\n",
       "    <tr>\n",
       "      <th>7766</th>\n",
       "      <td>Application site anaesthesia</td>\n",
       "      <td>1</td>\n",
       "    </tr>\n",
       "    <tr>\n",
       "      <th>10700</th>\n",
       "      <td>Tracheostomy infection</td>\n",
       "      <td>1</td>\n",
       "    </tr>\n",
       "    <tr>\n",
       "      <th>2484</th>\n",
       "      <td>Aplasia cutis congenita</td>\n",
       "      <td>1</td>\n",
       "    </tr>\n",
       "    <tr>\n",
       "      <th>11974</th>\n",
       "      <td>Malignant transformation</td>\n",
       "      <td>1</td>\n",
       "    </tr>\n",
       "    <tr>\n",
       "      <th>2528</th>\n",
       "      <td>Delayed delivery</td>\n",
       "      <td>1</td>\n",
       "    </tr>\n",
       "  </tbody>\n",
       "</table>\n",
       "<p>3904 rows × 2 columns</p>\n",
       "</div>"
      ],
      "text/plain": [
       "                        side_effect  report_count\n",
       "279                Drug ineffective        119373\n",
       "638                          Nausea         42586\n",
       "794                            Rash         35591\n",
       "772                        Pruritus         34198\n",
       "359                         Fatigue         33481\n",
       "...                             ...           ...\n",
       "7766   Application site anaesthesia             1\n",
       "10700        Tracheostomy infection             1\n",
       "2484        Aplasia cutis congenita             1\n",
       "11974      Malignant transformation             1\n",
       "2528               Delayed delivery             1\n",
       "\n",
       "[3904 rows x 2 columns]"
      ]
     },
     "execution_count": 53,
     "metadata": {},
     "output_type": "execute_result"
    }
   ],
   "source": [
    "side_effect_count"
   ]
  },
  {
   "cell_type": "code",
   "execution_count": 54,
   "metadata": {},
   "outputs": [],
   "source": [
    "# count of SE be SOC\n",
    "\n",
    "se_count_by_soc = reactions_filtered.groupby('SOC_NAME_ENG')['PT_NAME_ENG'].nunique().sort_values(ascending=False).reset_index()\n",
    "se_count_by_soc.columns = ['soc','se_count']\n"
   ]
  },
  {
   "cell_type": "code",
   "execution_count": 55,
   "metadata": {},
   "outputs": [
    {
     "data": {
      "text/html": [
       "<div>\n",
       "<style scoped>\n",
       "    .dataframe tbody tr th:only-of-type {\n",
       "        vertical-align: middle;\n",
       "    }\n",
       "\n",
       "    .dataframe tbody tr th {\n",
       "        vertical-align: top;\n",
       "    }\n",
       "\n",
       "    .dataframe thead th {\n",
       "        text-align: right;\n",
       "    }\n",
       "</style>\n",
       "<table border=\"1\" class=\"dataframe\">\n",
       "  <thead>\n",
       "    <tr style=\"text-align: right;\">\n",
       "      <th></th>\n",
       "      <th>soc</th>\n",
       "      <th>se_count</th>\n",
       "    </tr>\n",
       "  </thead>\n",
       "  <tbody>\n",
       "    <tr>\n",
       "      <th>0</th>\n",
       "      <td>Infections and infestations</td>\n",
       "      <td>359</td>\n",
       "    </tr>\n",
       "    <tr>\n",
       "      <th>1</th>\n",
       "      <td>Investigations</td>\n",
       "      <td>323</td>\n",
       "    </tr>\n",
       "    <tr>\n",
       "      <th>2</th>\n",
       "      <td>Nervous system disorders</td>\n",
       "      <td>301</td>\n",
       "    </tr>\n",
       "    <tr>\n",
       "      <th>3</th>\n",
       "      <td>Gastrointestinal disorders</td>\n",
       "      <td>280</td>\n",
       "    </tr>\n",
       "    <tr>\n",
       "      <th>4</th>\n",
       "      <td>General disorders and administration site cond...</td>\n",
       "      <td>239</td>\n",
       "    </tr>\n",
       "    <tr>\n",
       "      <th>5</th>\n",
       "      <td>Eye disorders</td>\n",
       "      <td>216</td>\n",
       "    </tr>\n",
       "    <tr>\n",
       "      <th>6</th>\n",
       "      <td>Neoplasms benign, malignant and unspecified (i...</td>\n",
       "      <td>206</td>\n",
       "    </tr>\n",
       "    <tr>\n",
       "      <th>7</th>\n",
       "      <td>Skin and subcutaneous tissue disorders</td>\n",
       "      <td>203</td>\n",
       "    </tr>\n",
       "    <tr>\n",
       "      <th>8</th>\n",
       "      <td>Injury, poisoning and procedural complications</td>\n",
       "      <td>184</td>\n",
       "    </tr>\n",
       "    <tr>\n",
       "      <th>9</th>\n",
       "      <td>Reproductive system and breast disorders</td>\n",
       "      <td>182</td>\n",
       "    </tr>\n",
       "    <tr>\n",
       "      <th>10</th>\n",
       "      <td>Psychiatric disorders</td>\n",
       "      <td>180</td>\n",
       "    </tr>\n",
       "    <tr>\n",
       "      <th>11</th>\n",
       "      <td>Respiratory, thoracic and mediastinal disorders</td>\n",
       "      <td>174</td>\n",
       "    </tr>\n",
       "    <tr>\n",
       "      <th>12</th>\n",
       "      <td>Musculoskeletal and connective tissue disorders</td>\n",
       "      <td>144</td>\n",
       "    </tr>\n",
       "    <tr>\n",
       "      <th>13</th>\n",
       "      <td>Cardiac disorders</td>\n",
       "      <td>126</td>\n",
       "    </tr>\n",
       "    <tr>\n",
       "      <th>14</th>\n",
       "      <td>Renal and urinary disorders</td>\n",
       "      <td>116</td>\n",
       "    </tr>\n",
       "    <tr>\n",
       "      <th>15</th>\n",
       "      <td>Vascular disorders</td>\n",
       "      <td>109</td>\n",
       "    </tr>\n",
       "    <tr>\n",
       "      <th>16</th>\n",
       "      <td>Metabolism and nutrition disorders</td>\n",
       "      <td>108</td>\n",
       "    </tr>\n",
       "    <tr>\n",
       "      <th>17</th>\n",
       "      <td>Congenital, familial and genetic disorders</td>\n",
       "      <td>108</td>\n",
       "    </tr>\n",
       "    <tr>\n",
       "      <th>18</th>\n",
       "      <td>Blood and lymphatic system disorders</td>\n",
       "      <td>93</td>\n",
       "    </tr>\n",
       "    <tr>\n",
       "      <th>19</th>\n",
       "      <td>Hepatobiliary disorders</td>\n",
       "      <td>68</td>\n",
       "    </tr>\n",
       "    <tr>\n",
       "      <th>20</th>\n",
       "      <td>Pregnancy, puerperium and perinatal conditions</td>\n",
       "      <td>48</td>\n",
       "    </tr>\n",
       "    <tr>\n",
       "      <th>21</th>\n",
       "      <td>Endocrine disorders</td>\n",
       "      <td>44</td>\n",
       "    </tr>\n",
       "    <tr>\n",
       "      <th>22</th>\n",
       "      <td>Ear and labyrinth disorders</td>\n",
       "      <td>34</td>\n",
       "    </tr>\n",
       "    <tr>\n",
       "      <th>23</th>\n",
       "      <td>Immune system disorders</td>\n",
       "      <td>33</td>\n",
       "    </tr>\n",
       "    <tr>\n",
       "      <th>24</th>\n",
       "      <td>Social circumstances</td>\n",
       "      <td>12</td>\n",
       "    </tr>\n",
       "    <tr>\n",
       "      <th>25</th>\n",
       "      <td>Surgical and medical procedures</td>\n",
       "      <td>7</td>\n",
       "    </tr>\n",
       "    <tr>\n",
       "      <th>26</th>\n",
       "      <td>Product issues</td>\n",
       "      <td>7</td>\n",
       "    </tr>\n",
       "  </tbody>\n",
       "</table>\n",
       "</div>"
      ],
      "text/plain": [
       "                                                  soc  se_count\n",
       "0                         Infections and infestations       359\n",
       "1                                      Investigations       323\n",
       "2                            Nervous system disorders       301\n",
       "3                          Gastrointestinal disorders       280\n",
       "4   General disorders and administration site cond...       239\n",
       "5                                       Eye disorders       216\n",
       "6   Neoplasms benign, malignant and unspecified (i...       206\n",
       "7              Skin and subcutaneous tissue disorders       203\n",
       "8      Injury, poisoning and procedural complications       184\n",
       "9            Reproductive system and breast disorders       182\n",
       "10                              Psychiatric disorders       180\n",
       "11    Respiratory, thoracic and mediastinal disorders       174\n",
       "12    Musculoskeletal and connective tissue disorders       144\n",
       "13                                  Cardiac disorders       126\n",
       "14                        Renal and urinary disorders       116\n",
       "15                                 Vascular disorders       109\n",
       "16                 Metabolism and nutrition disorders       108\n",
       "17         Congenital, familial and genetic disorders       108\n",
       "18               Blood and lymphatic system disorders        93\n",
       "19                            Hepatobiliary disorders        68\n",
       "20     Pregnancy, puerperium and perinatal conditions        48\n",
       "21                                Endocrine disorders        44\n",
       "22                        Ear and labyrinth disorders        34\n",
       "23                            Immune system disorders        33\n",
       "24                               Social circumstances        12\n",
       "25                    Surgical and medical procedures         7\n",
       "26                                     Product issues         7"
      ]
     },
     "execution_count": 55,
     "metadata": {},
     "output_type": "execute_result"
    }
   ],
   "source": [
    "se_count_by_soc"
   ]
  },
  {
   "cell_type": "code",
   "execution_count": 56,
   "metadata": {},
   "outputs": [
    {
     "data": {
      "image/png": "[encoded data removed]",
      "text/plain": [
       "<Figure size 1080x720 with 1 Axes>"
      ]
     },
     "metadata": {},
     "output_type": "display_data"
    }
   ],
   "source": [
    "sns.set_style(\"white\")\n",
    "sns.set_context('notebook')\n",
    "fig, ax = plt.subplots()\n",
    "fig.set_size_inches(15,10)\n",
    "\n",
    "ax = sns.barplot(data=se_count_by_soc, y='soc', x='se_count', order=se_count_by_soc.soc)\n",
    "ax.set_xlabel('Side Effect Count')\n",
    "ax.set_ylabel('System Organ Class')\n",
    "\n",
    "plt.show()"
   ]
  },
  {
   "cell_type": "code",
   "execution_count": 68,
   "metadata": {},
   "outputs": [
    {
     "data": {
      "text/html": [
       "<div>\n",
       "<style scoped>\n",
       "    .dataframe tbody tr th:only-of-type {\n",
       "        vertical-align: middle;\n",
       "    }\n",
       "\n",
       "    .dataframe tbody tr th {\n",
       "        vertical-align: top;\n",
       "    }\n",
       "\n",
       "    .dataframe thead th {\n",
       "        text-align: right;\n",
       "    }\n",
       "</style>\n",
       "<table border=\"1\" class=\"dataframe\">\n",
       "  <thead>\n",
       "    <tr style=\"text-align: right;\">\n",
       "      <th></th>\n",
       "      <th>REPORT_ID</th>\n",
       "      <th>PT_NAME_ENG</th>\n",
       "      <th>SOC_NAME_ENG</th>\n",
       "    </tr>\n",
       "  </thead>\n",
       "  <tbody>\n",
       "    <tr>\n",
       "      <th>713693</th>\n",
       "      <td>901499992</td>\n",
       "      <td>82</td>\n",
       "      <td>82</td>\n",
       "    </tr>\n",
       "    <tr>\n",
       "      <th>713694</th>\n",
       "      <td>901425606</td>\n",
       "      <td>82</td>\n",
       "      <td>82</td>\n",
       "    </tr>\n",
       "    <tr>\n",
       "      <th>713695</th>\n",
       "      <td>900392005</td>\n",
       "      <td>82</td>\n",
       "      <td>82</td>\n",
       "    </tr>\n",
       "    <tr>\n",
       "      <th>713696</th>\n",
       "      <td>470954</td>\n",
       "      <td>85</td>\n",
       "      <td>85</td>\n",
       "    </tr>\n",
       "    <tr>\n",
       "      <th>713697</th>\n",
       "      <td>902706836</td>\n",
       "      <td>87</td>\n",
       "      <td>87</td>\n",
       "    </tr>\n",
       "    <tr>\n",
       "      <th>713698</th>\n",
       "      <td>901196891</td>\n",
       "      <td>88</td>\n",
       "      <td>88</td>\n",
       "    </tr>\n",
       "    <tr>\n",
       "      <th>713699</th>\n",
       "      <td>337926</td>\n",
       "      <td>91</td>\n",
       "      <td>91</td>\n",
       "    </tr>\n",
       "    <tr>\n",
       "      <th>713700</th>\n",
       "      <td>900576831</td>\n",
       "      <td>96</td>\n",
       "      <td>96</td>\n",
       "    </tr>\n",
       "    <tr>\n",
       "      <th>713701</th>\n",
       "      <td>901310074</td>\n",
       "      <td>111</td>\n",
       "      <td>111</td>\n",
       "    </tr>\n",
       "    <tr>\n",
       "      <th>713702</th>\n",
       "      <td>902642787</td>\n",
       "      <td>111</td>\n",
       "      <td>111</td>\n",
       "    </tr>\n",
       "  </tbody>\n",
       "</table>\n",
       "</div>"
      ],
      "text/plain": [
       "        REPORT_ID  PT_NAME_ENG  SOC_NAME_ENG\n",
       "713693  901499992           82            82\n",
       "713694  901425606           82            82\n",
       "713695  900392005           82            82\n",
       "713696     470954           85            85\n",
       "713697  902706836           87            87\n",
       "713698  901196891           88            88\n",
       "713699     337926           91            91\n",
       "713700  900576831           96            96\n",
       "713701  901310074          111           111\n",
       "713702  902642787          111           111"
      ]
     },
     "execution_count": 68,
     "metadata": {},
     "output_type": "execute_result"
    }
   ],
   "source": [
    "# count of SE by report\n",
    "\n",
    "se_count_by_report = reactions_filtered_dedup.groupby('REPORT_ID')['PT_NAME_ENG','SOC_NAME_ENG'].count().sort_values(by='PT_NAME_ENG',ascending=True).reset_index()\n",
    "se_count_by_report.tail(10)"
   ]
  },
  {
   "cell_type": "code",
   "execution_count": 69,
   "metadata": {},
   "outputs": [
    {
     "data": {
      "image/png": "[encoded data removed]",
      "text/plain": [
       "<Figure size 1080x360 with 1 Axes>"
      ]
     },
     "metadata": {},
     "output_type": "display_data"
    }
   ],
   "source": [
    "sns.set_style(\"white\")\n",
    "sns.set_context('notebook')\n",
    "fig, ax = plt.subplots()\n",
    "fig.set_size_inches(15,5)\n",
    "\n",
    "ax = sns.distplot(se_count_by_report.PT_NAME_ENG, kde=False, rug=True)\n",
    "ax.set_xlabel('Count of Side Effects by Report')\n",
    "ax.set_ylabel('% of Reports')\n",
    "\n",
    "plt.show()"
   ]
  },
  {
   "cell_type": "code",
   "execution_count": 70,
   "metadata": {},
   "outputs": [
    {
     "name": "stdout",
     "output_type": "stream",
     "text": [
      "['Mood altered', 'Visual impairment', 'Swelling', 'Sensory disturbance', 'Balance disorder', 'Hypoaesthesia', 'Vision blurred', 'Menstruation irregular', 'Menorrhagia', 'Acne', 'Pain', 'Erythema', 'Fatigue', 'Hot flush', 'Decreased appetite', 'Pain in extremity', 'Pain in extremity', 'Anxiety', 'Peripheral swelling', 'Gastrointestinal disorder', 'Paraesthesia oral', 'Back pain', 'Dysuria', 'Paraesthesia', 'Rhinorrhoea', 'Poor quality sleep', 'Urine abnormality', 'Palpitations', 'Hyperhidrosis', 'Gait disturbance', 'Throat irritation', 'Feeling cold', 'Weight decreased', 'Muscle spasms', 'Hyperhidrosis', 'Tremor', 'Initial insomnia', 'Bacterial test positive', 'Abdominal discomfort', 'Neutropenia', 'Vitreous floaters', 'Breast inflammation', 'Visual impairment', 'Vitamin D decreased', 'Discomfort', 'Paraesthesia', 'Sensory loss', 'Muscle tightness', 'Varicose vein', 'Chest pain', 'Eye irritation', 'Panic attack', 'Confusional state', 'Epistaxis', 'Feeling hot', 'Photophobia', 'Hypoacusis', 'Platelet count increased', 'Migraine', 'Hyperacusis', 'Photophobia', 'Dyspepsia', 'Red cell distribution width increased', 'Specific gravity urine increased', 'Protein urine present', 'Red blood cells urine positive', 'Urine analysis abnormal', 'Urine ketone body present', 'Crystal urine present', 'Nail disorder', 'Burning sensation', 'Seasonal allergy', 'Sinonasal obstruction', 'Blood pressure decreased', 'Erythema', 'Dyspnoea', 'Fatigue', 'Pruritus', 'Asthenia', 'Sinusitis', 'Infusion site pain', 'Nasopharyngitis', 'Chills', 'Throat irritation', 'Throat clearing', 'Malaise', 'Headache', 'Tachycardia', 'Nausea', 'Dyspepsia', 'Chest discomfort', 'Pruritus', 'Rash', 'Pyrexia', 'Dyspnoea', 'Insomnia', 'Abdominal pain upper', 'Abdominal pain', 'Chills', 'Dizziness', 'Lymphocyte count decreased', 'White blood cell count decreased', 'Blood urine present', 'Multiple sclerosis relapse', 'Musculoskeletal stiffness', 'Inappropriate schedule of product administration', 'Feeling abnormal', 'Peripheral coldness', 'Burning sensation', 'Nightmare', 'Ill-defined disorder', 'Dysmenorrhoea', 'Ecchymosis']\n"
     ]
    }
   ],
   "source": [
    "# Some reports have a ridiculous number of reactions. Should probably remove these because they are non-specific. \n",
    "\n",
    "print(list(reactions[reactions['REPORT_ID']=='901196891'].PT_NAME_ENG))"
   ]
  },
  {
   "cell_type": "code",
   "execution_count": 60,
   "metadata": {},
   "outputs": [
    {
     "data": {
      "text/plain": [
       "0.1000     1.0\n",
       "0.2000     1.0\n",
       "0.3000     1.0\n",
       "0.4000     1.0\n",
       "0.5000     2.0\n",
       "0.6000     2.0\n",
       "0.7000     3.0\n",
       "0.8000     4.0\n",
       "0.9000     6.0\n",
       "0.9900    20.0\n",
       "0.9990    41.0\n",
       "0.9999    65.0\n",
       "Name: PT_NAME_ENG, dtype: float64"
      ]
     },
     "execution_count": 60,
     "metadata": {},
     "output_type": "execute_result"
    }
   ],
   "source": [
    "se_count_by_report.PT_NAME_ENG.quantile([.1,.2,.3,.4,.5,.6,.7,.8,.9,.99,.999,.9999])"
   ]
  },
  {
   "cell_type": "code",
   "execution_count": 61,
   "metadata": {},
   "outputs": [
    {
     "data": {
      "text/plain": [
       "REPORT_ID      6690\n",
       "PT_NAME_ENG    6690\n",
       "dtype: int64"
      ]
     },
     "execution_count": 61,
     "metadata": {},
     "output_type": "execute_result"
    }
   ],
   "source": [
    "se_count_by_report[se_count_by_report.PT_NAME_ENG > 20].count()"
   ]
  },
  {
   "cell_type": "code",
   "execution_count": 62,
   "metadata": {},
   "outputs": [
    {
     "data": {
      "text/plain": [
       "REPORT_ID      707013\n",
       "PT_NAME_ENG    707013\n",
       "dtype: int64"
      ]
     },
     "execution_count": 62,
     "metadata": {},
     "output_type": "execute_result"
    }
   ],
   "source": [
    "se_count_by_report[se_count_by_report.PT_NAME_ENG <= 20].count()"
   ]
  },
  {
   "cell_type": "code",
   "execution_count": 72,
   "metadata": {},
   "outputs": [
    {
     "data": {
      "image/png": "[encoded data removed]",
      "text/plain": [
       "<Figure size 1080x360 with 1 Axes>"
      ]
     },
     "metadata": {},
     "output_type": "display_data"
    }
   ],
   "source": [
    "sns.set_style(\"white\")\n",
    "sns.set_context('notebook')\n",
    "fig, ax = plt.subplots()\n",
    "fig.set_size_inches(15,5)\n",
    "\n",
    "se_count_by_report_2 = se_count_by_report[se_count_by_report.PT_NAME_ENG <= 20]\n",
    "ax = sns.distplot(se_count_by_report_2.PT_NAME_ENG, kde=False, rug=True)\n",
    "ax.set_xlabel('Count of Side Effects by Report')\n",
    "ax.set_ylabel('% of Reports')\n",
    "\n",
    "plt.show()"
   ]
  },
  {
   "cell_type": "code",
   "execution_count": null,
   "metadata": {},
   "outputs": [],
   "source": [
    "sns.jointplot(x='PT_NAME_ENG', y='SOC_NAME_ENG', data=se_count_by_report_2);"
   ]
  },
  {
   "cell_type": "code",
   "execution_count": 77,
   "metadata": {},
   "outputs": [],
   "source": [
    "# add filtered desc stats to summary table\n",
    "filtered_counts = reactions_filtered_2.count()\n",
    "filtered_distinct_counts = reactions_filtered_2.nunique()"
   ]
  },
  {
   "cell_type": "code",
   "execution_count": 85,
   "metadata": {},
   "outputs": [
    {
     "data": {
      "text/plain": [
       "REACTION_ID       2050128\n",
       "REPORT_ID         2050128\n",
       "PT_NAME_ENG       2050128\n",
       "SOC_NAME_ENG      2050128\n",
       "MEDDRA_VERSION    2050128\n",
       "dtype: int64"
      ]
     },
     "execution_count": 85,
     "metadata": {},
     "output_type": "execute_result"
    }
   ],
   "source": [
    "filtered_counts"
   ]
  },
  {
   "cell_type": "code",
   "execution_count": 88,
   "metadata": {},
   "outputs": [
    {
     "data": {
      "text/plain": [
       "REACTION_ID       2050128\n",
       "REPORT_ID          707013\n",
       "PT_NAME_ENG          3892\n",
       "SOC_NAME_ENG           27\n",
       "MEDDRA_VERSION          1\n",
       "dtype: int64"
      ]
     },
     "execution_count": 88,
     "metadata": {},
     "output_type": "execute_result"
    }
   ],
   "source": [
    "filtered_distinct_counts"
   ]
  },
  {
   "cell_type": "code",
   "execution_count": 89,
   "metadata": {},
   "outputs": [
    {
     "data": {
      "text/html": [
       "<div>\n",
       "<style scoped>\n",
       "    .dataframe tbody tr th:only-of-type {\n",
       "        vertical-align: middle;\n",
       "    }\n",
       "\n",
       "    .dataframe tbody tr th {\n",
       "        vertical-align: top;\n",
       "    }\n",
       "\n",
       "    .dataframe thead th {\n",
       "        text-align: right;\n",
       "    }\n",
       "</style>\n",
       "<table border=\"1\" class=\"dataframe\">\n",
       "  <thead>\n",
       "    <tr style=\"text-align: right;\">\n",
       "      <th></th>\n",
       "      <th>column</th>\n",
       "      <th>dtypes</th>\n",
       "      <th>counts</th>\n",
       "      <th>distinct_counts</th>\n",
       "      <th>filtered_counts</th>\n",
       "      <th>filtered_distinct_counts</th>\n",
       "    </tr>\n",
       "  </thead>\n",
       "  <tbody>\n",
       "    <tr>\n",
       "      <th>0</th>\n",
       "      <td>REACTION_ID</td>\n",
       "      <td>object</td>\n",
       "      <td>2606282</td>\n",
       "      <td>2606282</td>\n",
       "      <td>NaN</td>\n",
       "      <td>NaN</td>\n",
       "    </tr>\n",
       "    <tr>\n",
       "      <th>1</th>\n",
       "      <td>REPORT_ID</td>\n",
       "      <td>object</td>\n",
       "      <td>2606282</td>\n",
       "      <td>750583</td>\n",
       "      <td>NaN</td>\n",
       "      <td>NaN</td>\n",
       "    </tr>\n",
       "    <tr>\n",
       "      <th>2</th>\n",
       "      <td>DURATION</td>\n",
       "      <td>float64</td>\n",
       "      <td>85541</td>\n",
       "      <td>1593</td>\n",
       "      <td>NaN</td>\n",
       "      <td>NaN</td>\n",
       "    </tr>\n",
       "    <tr>\n",
       "      <th>3</th>\n",
       "      <td>DURATION_UNIT_ENG</td>\n",
       "      <td>object</td>\n",
       "      <td>75806</td>\n",
       "      <td>9</td>\n",
       "      <td>NaN</td>\n",
       "      <td>NaN</td>\n",
       "    </tr>\n",
       "    <tr>\n",
       "      <th>4</th>\n",
       "      <td>PT_NAME_ENG</td>\n",
       "      <td>category</td>\n",
       "      <td>2606251</td>\n",
       "      <td>11993</td>\n",
       "      <td>NaN</td>\n",
       "      <td>NaN</td>\n",
       "    </tr>\n",
       "    <tr>\n",
       "      <th>5</th>\n",
       "      <td>SOC_NAME_ENG</td>\n",
       "      <td>category</td>\n",
       "      <td>2606251</td>\n",
       "      <td>27</td>\n",
       "      <td>NaN</td>\n",
       "      <td>NaN</td>\n",
       "    </tr>\n",
       "    <tr>\n",
       "      <th>6</th>\n",
       "      <td>MEDDRA_VERSION</td>\n",
       "      <td>category</td>\n",
       "      <td>2606251</td>\n",
       "      <td>1</td>\n",
       "      <td>NaN</td>\n",
       "      <td>NaN</td>\n",
       "    </tr>\n",
       "  </tbody>\n",
       "</table>\n",
       "</div>"
      ],
      "text/plain": [
       "              column    dtypes   counts  distinct_counts  filtered_counts  \\\n",
       "0        REACTION_ID    object  2606282          2606282              NaN   \n",
       "1          REPORT_ID    object  2606282           750583              NaN   \n",
       "2           DURATION   float64    85541             1593              NaN   \n",
       "3  DURATION_UNIT_ENG    object    75806                9              NaN   \n",
       "4        PT_NAME_ENG  category  2606251            11993              NaN   \n",
       "5       SOC_NAME_ENG  category  2606251               27              NaN   \n",
       "6     MEDDRA_VERSION  category  2606251                1              NaN   \n",
       "\n",
       "   filtered_distinct_counts  \n",
       "0                       NaN  \n",
       "1                       NaN  \n",
       "2                       NaN  \n",
       "3                       NaN  \n",
       "4                       NaN  \n",
       "5                       NaN  \n",
       "6                       NaN  "
      ]
     },
     "execution_count": 89,
     "metadata": {},
     "output_type": "execute_result"
    }
   ],
   "source": [
    "dstats\n"
   ]
  },
  {
   "cell_type": "code",
   "execution_count": 90,
   "metadata": {},
   "outputs": [
    {
     "data": {
      "text/plain": [
       "array(['REACTION_ID', 'REPORT_ID', 'PT_NAME_ENG', 'SOC_NAME_ENG',\n",
       "       'MEDDRA_VERSION'], dtype=object)"
      ]
     },
     "execution_count": 90,
     "metadata": {},
     "output_type": "execute_result"
    }
   ],
   "source": [
    "reactions_filtered_2.columns.values"
   ]
  },
  {
   "cell_type": "code",
   "execution_count": 92,
   "metadata": {},
   "outputs": [],
   "source": [
    "# export to csv \n",
    "reactions_filtered_2[['REACTION_ID', 'REPORT_ID', 'PT_NAME_ENG', 'SOC_NAME_ENG']].to_csv(data_dir + 'CADVR/processed_reactions.csv', index=False)"
   ]
  },
  {
   "cell_type": "code",
   "execution_count": null,
   "metadata": {},
   "outputs": [],
   "source": []
  }
 ],
 "metadata": {
  "kernelspec": {
   "display_name": "Python 3",
   "language": "python",
   "name": "python3"
  },
  "language_info": {
   "codemirror_mode": {
    "name": "ipython",
    "version": 3
   },
   "file_extension": ".py",
   "mimetype": "text/x-python",
   "name": "python",
   "nbconvert_exporter": "python",
   "pygments_lexer": "ipython3",
   "version": "3.7.6"
  }
 },
 "nbformat": 4,
 "nbformat_minor": 4
}
