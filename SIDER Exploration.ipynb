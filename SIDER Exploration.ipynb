{
 "cells": [
  {
   "cell_type": "code",
   "execution_count": 1,
   "metadata": {},
   "outputs": [],
   "source": [
    "# Import libraries\n",
    "\n",
    "import pandas as pd\n",
    "import numpy as np"
   ]
  },
  {
   "cell_type": "code",
   "execution_count": 2,
   "metadata": {},
   "outputs": [],
   "source": [
    "pd.set_option('display.max_columns', None)\n",
    "pd.set_option('display.max_columns', 1000)"
   ]
  },
  {
   "cell_type": "code",
   "execution_count": 3,
   "metadata": {},
   "outputs": [],
   "source": [
    "data_dir = 'data//'\n"
   ]
  },
  {
   "cell_type": "code",
   "execution_count": 4,
   "metadata": {},
   "outputs": [],
   "source": [
    "# load SE pairs\n",
    "\n",
    "meddra_all_se = pd.read_csv(data_dir + 'sider/meddra_all_se.tsv', delimiter='\\t', header=None,\n",
    "                                          names=['STITCH_FLAT','STITCH_STEREO', 'UMLS_CONCEPT_ID_LABEL','MEDDRA_CONCEPT_TYPE','UMLS_CONCEPT_ID_MEDDDRA','SE'])"
   ]
  },
  {
   "cell_type": "code",
   "execution_count": 5,
   "metadata": {},
   "outputs": [
    {
     "data": {
      "text/html": [
       "<div>\n",
       "<style scoped>\n",
       "    .dataframe tbody tr th:only-of-type {\n",
       "        vertical-align: middle;\n",
       "    }\n",
       "\n",
       "    .dataframe tbody tr th {\n",
       "        vertical-align: top;\n",
       "    }\n",
       "\n",
       "    .dataframe thead th {\n",
       "        text-align: right;\n",
       "    }\n",
       "</style>\n",
       "<table border=\"1\" class=\"dataframe\">\n",
       "  <thead>\n",
       "    <tr style=\"text-align: right;\">\n",
       "      <th></th>\n",
       "      <th>STITCH_FLAT</th>\n",
       "      <th>STITCH_STEREO</th>\n",
       "      <th>UMLS_CONCEPT_ID_LABEL</th>\n",
       "      <th>MEDDRA_CONCEPT_TYPE</th>\n",
       "      <th>UMLS_CONCEPT_ID_MEDDDRA</th>\n",
       "      <th>SE</th>\n",
       "    </tr>\n",
       "  </thead>\n",
       "  <tbody>\n",
       "    <tr>\n",
       "      <th>0</th>\n",
       "      <td>CID100000085</td>\n",
       "      <td>CID000010917</td>\n",
       "      <td>C0000729</td>\n",
       "      <td>LLT</td>\n",
       "      <td>C0000729</td>\n",
       "      <td>Abdominal cramps</td>\n",
       "    </tr>\n",
       "    <tr>\n",
       "      <th>1</th>\n",
       "      <td>CID100000085</td>\n",
       "      <td>CID000010917</td>\n",
       "      <td>C0000729</td>\n",
       "      <td>PT</td>\n",
       "      <td>C0000737</td>\n",
       "      <td>Abdominal pain</td>\n",
       "    </tr>\n",
       "    <tr>\n",
       "      <th>2</th>\n",
       "      <td>CID100000085</td>\n",
       "      <td>CID000010917</td>\n",
       "      <td>C0000737</td>\n",
       "      <td>LLT</td>\n",
       "      <td>C0000737</td>\n",
       "      <td>Abdominal pain</td>\n",
       "    </tr>\n",
       "    <tr>\n",
       "      <th>3</th>\n",
       "      <td>CID100000085</td>\n",
       "      <td>CID000010917</td>\n",
       "      <td>C0000737</td>\n",
       "      <td>PT</td>\n",
       "      <td>C0687713</td>\n",
       "      <td>Gastrointestinal pain</td>\n",
       "    </tr>\n",
       "    <tr>\n",
       "      <th>4</th>\n",
       "      <td>CID100000085</td>\n",
       "      <td>CID000010917</td>\n",
       "      <td>C0000737</td>\n",
       "      <td>PT</td>\n",
       "      <td>C0000737</td>\n",
       "      <td>Abdominal pain</td>\n",
       "    </tr>\n",
       "  </tbody>\n",
       "</table>\n",
       "</div>"
      ],
      "text/plain": [
       "    STITCH_FLAT STITCH_STEREO UMLS_CONCEPT_ID_LABEL MEDDRA_CONCEPT_TYPE  \\\n",
       "0  CID100000085  CID000010917              C0000729                 LLT   \n",
       "1  CID100000085  CID000010917              C0000729                  PT   \n",
       "2  CID100000085  CID000010917              C0000737                 LLT   \n",
       "3  CID100000085  CID000010917              C0000737                  PT   \n",
       "4  CID100000085  CID000010917              C0000737                  PT   \n",
       "\n",
       "  UMLS_CONCEPT_ID_MEDDDRA                     SE  \n",
       "0                C0000729       Abdominal cramps  \n",
       "1                C0000737         Abdominal pain  \n",
       "2                C0000737         Abdominal pain  \n",
       "3                C0687713  Gastrointestinal pain  \n",
       "4                C0000737         Abdominal pain  "
      ]
     },
     "execution_count": 5,
     "metadata": {},
     "output_type": "execute_result"
    }
   ],
   "source": [
    "meddra_all_se.head()"
   ]
  },
  {
   "cell_type": "code",
   "execution_count": 6,
   "metadata": {},
   "outputs": [
    {
     "data": {
      "text/plain": [
       "(309849, 6)"
      ]
     },
     "execution_count": 6,
     "metadata": {},
     "output_type": "execute_result"
    }
   ],
   "source": [
    "meddra_all_se.shape"
   ]
  },
  {
   "cell_type": "code",
   "execution_count": 7,
   "metadata": {},
   "outputs": [
    {
     "data": {
      "text/plain": [
       "STITCH_FLAT                1430\n",
       "STITCH_STEREO              1556\n",
       "UMLS_CONCEPT_ID_LABEL      5868\n",
       "MEDDRA_CONCEPT_TYPE           2\n",
       "UMLS_CONCEPT_ID_MEDDDRA    6060\n",
       "SE                         6123\n",
       "dtype: int64"
      ]
     },
     "execution_count": 7,
     "metadata": {},
     "output_type": "execute_result"
    }
   ],
   "source": [
    "meddra_all_se.nunique()\n"
   ]
  },
  {
   "cell_type": "code",
   "execution_count": 8,
   "metadata": {},
   "outputs": [],
   "source": [
    "# top side effects - PT\n",
    "\n",
    "all_se_pt = meddra_all_se[meddra_all_se['MEDDRA_CONCEPT_TYPE']=='PT']\n",
    "\n",
    "top_se_pt = all_se_pt.groupby('SE')['SE'].count().sort_values(ascending=False)"
   ]
  },
  {
   "cell_type": "code",
   "execution_count": 9,
   "metadata": {},
   "outputs": [
    {
     "data": {
      "text/plain": [
       "SE\n",
       "Dizziness     1758\n",
       "Asthenia      1513\n",
       "Dermatitis    1433\n",
       "Nausea        1302\n",
       "Rash          1250\n",
       "Name: SE, dtype: int64"
      ]
     },
     "execution_count": 9,
     "metadata": {},
     "output_type": "execute_result"
    }
   ],
   "source": [
    "top_se_pt.head()"
   ]
  },
  {
   "cell_type": "code",
   "execution_count": 10,
   "metadata": {},
   "outputs": [],
   "source": [
    "# top side effects - LLT\n",
    "\n",
    "all_se_llt = meddra_all_se[meddra_all_se['MEDDRA_CONCEPT_TYPE']=='LLT']\n",
    "\n",
    "top_se_llt = all_se_llt.groupby('SE')['SE'].count().sort_values(ascending=False)"
   ]
  },
  {
   "cell_type": "code",
   "execution_count": 11,
   "metadata": {},
   "outputs": [
    {
     "data": {
      "text/plain": [
       "SE\n",
       "Nausea       1299\n",
       "Headache     1197\n",
       "Vomiting     1170\n",
       "Rash         1153\n",
       "Dizziness    1068\n",
       "Name: SE, dtype: int64"
      ]
     },
     "execution_count": 11,
     "metadata": {},
     "output_type": "execute_result"
    }
   ],
   "source": [
    "top_se_llt.head()"
   ]
  },
  {
   "cell_type": "code",
   "execution_count": 12,
   "metadata": {},
   "outputs": [],
   "source": [
    "# Import drug names and ATC"
   ]
  },
  {
   "cell_type": "code",
   "execution_count": 13,
   "metadata": {},
   "outputs": [],
   "source": [
    "drug_names = pd.read_csv(data_dir + 'sider/drug_names.tsv', delimiter='\\t', names=['CID','DRUG'])\n",
    "atc = pd.read_csv(data_dir + 'sider/drug_atc.tsv', delimiter='\\t', names=['CID','ATC'])"
   ]
  },
  {
   "cell_type": "code",
   "execution_count": 14,
   "metadata": {},
   "outputs": [
    {
     "data": {
      "text/html": [
       "<div>\n",
       "<style scoped>\n",
       "    .dataframe tbody tr th:only-of-type {\n",
       "        vertical-align: middle;\n",
       "    }\n",
       "\n",
       "    .dataframe tbody tr th {\n",
       "        vertical-align: top;\n",
       "    }\n",
       "\n",
       "    .dataframe thead th {\n",
       "        text-align: right;\n",
       "    }\n",
       "</style>\n",
       "<table border=\"1\" class=\"dataframe\">\n",
       "  <thead>\n",
       "    <tr style=\"text-align: right;\">\n",
       "      <th></th>\n",
       "      <th>CID</th>\n",
       "      <th>DRUG</th>\n",
       "    </tr>\n",
       "  </thead>\n",
       "  <tbody>\n",
       "    <tr>\n",
       "      <th>0</th>\n",
       "      <td>CID100000085</td>\n",
       "      <td>carnitine</td>\n",
       "    </tr>\n",
       "    <tr>\n",
       "      <th>1</th>\n",
       "      <td>CID100000119</td>\n",
       "      <td>gamma-aminobutyric</td>\n",
       "    </tr>\n",
       "    <tr>\n",
       "      <th>2</th>\n",
       "      <td>CID100000137</td>\n",
       "      <td>5-aminolevulinic</td>\n",
       "    </tr>\n",
       "    <tr>\n",
       "      <th>3</th>\n",
       "      <td>CID100000143</td>\n",
       "      <td>leucovorin</td>\n",
       "    </tr>\n",
       "    <tr>\n",
       "      <th>4</th>\n",
       "      <td>CID100000146</td>\n",
       "      <td>5-methyltetrahydrofolate</td>\n",
       "    </tr>\n",
       "  </tbody>\n",
       "</table>\n",
       "</div>"
      ],
      "text/plain": [
       "            CID                      DRUG\n",
       "0  CID100000085                 carnitine\n",
       "1  CID100000119        gamma-aminobutyric\n",
       "2  CID100000137          5-aminolevulinic\n",
       "3  CID100000143                leucovorin\n",
       "4  CID100000146  5-methyltetrahydrofolate"
      ]
     },
     "execution_count": 14,
     "metadata": {},
     "output_type": "execute_result"
    }
   ],
   "source": [
    "drug_names.head()"
   ]
  },
  {
   "cell_type": "code",
   "execution_count": 15,
   "metadata": {},
   "outputs": [
    {
     "data": {
      "text/plain": [
       "(1430, 2)"
      ]
     },
     "execution_count": 15,
     "metadata": {},
     "output_type": "execute_result"
    }
   ],
   "source": [
    "drug_names.shape"
   ]
  },
  {
   "cell_type": "code",
   "execution_count": 16,
   "metadata": {},
   "outputs": [
    {
     "data": {
      "text/html": [
       "<div>\n",
       "<style scoped>\n",
       "    .dataframe tbody tr th:only-of-type {\n",
       "        vertical-align: middle;\n",
       "    }\n",
       "\n",
       "    .dataframe tbody tr th {\n",
       "        vertical-align: top;\n",
       "    }\n",
       "\n",
       "    .dataframe thead th {\n",
       "        text-align: right;\n",
       "    }\n",
       "</style>\n",
       "<table border=\"1\" class=\"dataframe\">\n",
       "  <thead>\n",
       "    <tr style=\"text-align: right;\">\n",
       "      <th></th>\n",
       "      <th>CID</th>\n",
       "      <th>ATC</th>\n",
       "    </tr>\n",
       "  </thead>\n",
       "  <tbody>\n",
       "    <tr>\n",
       "      <th>0</th>\n",
       "      <td>CID100000085</td>\n",
       "      <td>A16AA01</td>\n",
       "    </tr>\n",
       "    <tr>\n",
       "      <th>1</th>\n",
       "      <td>CID100000119</td>\n",
       "      <td>L03AA03</td>\n",
       "    </tr>\n",
       "    <tr>\n",
       "      <th>2</th>\n",
       "      <td>CID100000119</td>\n",
       "      <td>N03AG03</td>\n",
       "    </tr>\n",
       "    <tr>\n",
       "      <th>3</th>\n",
       "      <td>CID100000137</td>\n",
       "      <td>L01XD04</td>\n",
       "    </tr>\n",
       "    <tr>\n",
       "      <th>4</th>\n",
       "      <td>CID100000143</td>\n",
       "      <td>V03AF03</td>\n",
       "    </tr>\n",
       "  </tbody>\n",
       "</table>\n",
       "</div>"
      ],
      "text/plain": [
       "            CID      ATC\n",
       "0  CID100000085  A16AA01\n",
       "1  CID100000119  L03AA03\n",
       "2  CID100000119  N03AG03\n",
       "3  CID100000137  L01XD04\n",
       "4  CID100000143  V03AF03"
      ]
     },
     "execution_count": 16,
     "metadata": {},
     "output_type": "execute_result"
    }
   ],
   "source": [
    "atc.head()"
   ]
  },
  {
   "cell_type": "code",
   "execution_count": 17,
   "metadata": {},
   "outputs": [
    {
     "data": {
      "text/plain": [
       "(1560, 2)"
      ]
     },
     "execution_count": 17,
     "metadata": {},
     "output_type": "execute_result"
    }
   ],
   "source": [
    "atc.shape"
   ]
  },
  {
   "cell_type": "code",
   "execution_count": 18,
   "metadata": {},
   "outputs": [
    {
     "data": {
      "text/html": [
       "<div>\n",
       "<style scoped>\n",
       "    .dataframe tbody tr th:only-of-type {\n",
       "        vertical-align: middle;\n",
       "    }\n",
       "\n",
       "    .dataframe tbody tr th {\n",
       "        vertical-align: top;\n",
       "    }\n",
       "\n",
       "    .dataframe thead th {\n",
       "        text-align: right;\n",
       "    }\n",
       "</style>\n",
       "<table border=\"1\" class=\"dataframe\">\n",
       "  <thead>\n",
       "    <tr style=\"text-align: right;\">\n",
       "      <th></th>\n",
       "      <th>CID</th>\n",
       "      <th>DRUG</th>\n",
       "      <th>ATC</th>\n",
       "    </tr>\n",
       "  </thead>\n",
       "  <tbody>\n",
       "    <tr>\n",
       "      <th>0</th>\n",
       "      <td>CID100000085</td>\n",
       "      <td>carnitine</td>\n",
       "      <td>A16AA01</td>\n",
       "    </tr>\n",
       "    <tr>\n",
       "      <th>1</th>\n",
       "      <td>CID100000119</td>\n",
       "      <td>gamma-aminobutyric</td>\n",
       "      <td>L03AA03</td>\n",
       "    </tr>\n",
       "    <tr>\n",
       "      <th>2</th>\n",
       "      <td>CID100000119</td>\n",
       "      <td>gamma-aminobutyric</td>\n",
       "      <td>N03AG03</td>\n",
       "    </tr>\n",
       "    <tr>\n",
       "      <th>3</th>\n",
       "      <td>CID100000137</td>\n",
       "      <td>5-aminolevulinic</td>\n",
       "      <td>L01XD04</td>\n",
       "    </tr>\n",
       "    <tr>\n",
       "      <th>4</th>\n",
       "      <td>CID100000143</td>\n",
       "      <td>leucovorin</td>\n",
       "      <td>V03AF03</td>\n",
       "    </tr>\n",
       "  </tbody>\n",
       "</table>\n",
       "</div>"
      ],
      "text/plain": [
       "            CID                DRUG      ATC\n",
       "0  CID100000085           carnitine  A16AA01\n",
       "1  CID100000119  gamma-aminobutyric  L03AA03\n",
       "2  CID100000119  gamma-aminobutyric  N03AG03\n",
       "3  CID100000137    5-aminolevulinic  L01XD04\n",
       "4  CID100000143          leucovorin  V03AF03"
      ]
     },
     "execution_count": 18,
     "metadata": {},
     "output_type": "execute_result"
    }
   ],
   "source": [
    "drug_atc = drug_names.merge(atc, how='left')\n",
    "drug_atc.head()"
   ]
  },
  {
   "cell_type": "code",
   "execution_count": 19,
   "metadata": {},
   "outputs": [
    {
     "data": {
      "text/plain": [
       "CID     1430\n",
       "DRUG    1347\n",
       "ATC     1560\n",
       "dtype: int64"
      ]
     },
     "execution_count": 19,
     "metadata": {},
     "output_type": "execute_result"
    }
   ],
   "source": [
    "drug_atc.nunique()"
   ]
  },
  {
   "cell_type": "code",
   "execution_count": 20,
   "metadata": {},
   "outputs": [
    {
     "data": {
      "text/plain": [
       "DRUG\n",
       "dexamethasone    22\n",
       "Insulin          13\n",
       "glucose          12\n",
       "neomycin         12\n",
       "sodium           11\n",
       "                 ..\n",
       "edrophonium       0\n",
       "spinosad          0\n",
       "pemirolast        0\n",
       "ecallantide       0\n",
       "phenylbutyric     0\n",
       "Name: ATC, Length: 1347, dtype: int64"
      ]
     },
     "execution_count": 20,
     "metadata": {},
     "output_type": "execute_result"
    }
   ],
   "source": [
    "# drugs with more than one ATC\n",
    "\n",
    "drug_atc.groupby('DRUG')['ATC'].count().sort_values(ascending=False)"
   ]
  },
  {
   "cell_type": "code",
   "execution_count": 21,
   "metadata": {},
   "outputs": [],
   "source": [
    "# create df with drug, atc, and r"
   ]
  },
  {
   "cell_type": "code",
   "execution_count": 22,
   "metadata": {},
   "outputs": [],
   "source": [
    "sider = drug_atc.merge(meddra_all_se, how='right', left_on='CID', right_on='STITCH_FLAT')"
   ]
  },
  {
   "cell_type": "code",
   "execution_count": 23,
   "metadata": {},
   "outputs": [
    {
     "data": {
      "text/html": [
       "<div>\n",
       "<style scoped>\n",
       "    .dataframe tbody tr th:only-of-type {\n",
       "        vertical-align: middle;\n",
       "    }\n",
       "\n",
       "    .dataframe tbody tr th {\n",
       "        vertical-align: top;\n",
       "    }\n",
       "\n",
       "    .dataframe thead th {\n",
       "        text-align: right;\n",
       "    }\n",
       "</style>\n",
       "<table border=\"1\" class=\"dataframe\">\n",
       "  <thead>\n",
       "    <tr style=\"text-align: right;\">\n",
       "      <th></th>\n",
       "      <th>CID</th>\n",
       "      <th>DRUG</th>\n",
       "      <th>ATC</th>\n",
       "      <th>STITCH_FLAT</th>\n",
       "      <th>STITCH_STEREO</th>\n",
       "      <th>UMLS_CONCEPT_ID_LABEL</th>\n",
       "      <th>MEDDRA_CONCEPT_TYPE</th>\n",
       "      <th>UMLS_CONCEPT_ID_MEDDDRA</th>\n",
       "      <th>SE</th>\n",
       "    </tr>\n",
       "  </thead>\n",
       "  <tbody>\n",
       "    <tr>\n",
       "      <th>0</th>\n",
       "      <td>CID100000085</td>\n",
       "      <td>carnitine</td>\n",
       "      <td>A16AA01</td>\n",
       "      <td>CID100000085</td>\n",
       "      <td>CID000010917</td>\n",
       "      <td>C0000729</td>\n",
       "      <td>LLT</td>\n",
       "      <td>C0000729</td>\n",
       "      <td>Abdominal cramps</td>\n",
       "    </tr>\n",
       "    <tr>\n",
       "      <th>1</th>\n",
       "      <td>CID100000085</td>\n",
       "      <td>carnitine</td>\n",
       "      <td>A16AA01</td>\n",
       "      <td>CID100000085</td>\n",
       "      <td>CID000010917</td>\n",
       "      <td>C0000729</td>\n",
       "      <td>PT</td>\n",
       "      <td>C0000737</td>\n",
       "      <td>Abdominal pain</td>\n",
       "    </tr>\n",
       "    <tr>\n",
       "      <th>2</th>\n",
       "      <td>CID100000085</td>\n",
       "      <td>carnitine</td>\n",
       "      <td>A16AA01</td>\n",
       "      <td>CID100000085</td>\n",
       "      <td>CID000010917</td>\n",
       "      <td>C0000737</td>\n",
       "      <td>LLT</td>\n",
       "      <td>C0000737</td>\n",
       "      <td>Abdominal pain</td>\n",
       "    </tr>\n",
       "    <tr>\n",
       "      <th>3</th>\n",
       "      <td>CID100000085</td>\n",
       "      <td>carnitine</td>\n",
       "      <td>A16AA01</td>\n",
       "      <td>CID100000085</td>\n",
       "      <td>CID000010917</td>\n",
       "      <td>C0000737</td>\n",
       "      <td>PT</td>\n",
       "      <td>C0687713</td>\n",
       "      <td>Gastrointestinal pain</td>\n",
       "    </tr>\n",
       "    <tr>\n",
       "      <th>4</th>\n",
       "      <td>CID100000085</td>\n",
       "      <td>carnitine</td>\n",
       "      <td>A16AA01</td>\n",
       "      <td>CID100000085</td>\n",
       "      <td>CID000010917</td>\n",
       "      <td>C0000737</td>\n",
       "      <td>PT</td>\n",
       "      <td>C0000737</td>\n",
       "      <td>Abdominal pain</td>\n",
       "    </tr>\n",
       "  </tbody>\n",
       "</table>\n",
       "</div>"
      ],
      "text/plain": [
       "            CID       DRUG      ATC   STITCH_FLAT STITCH_STEREO  \\\n",
       "0  CID100000085  carnitine  A16AA01  CID100000085  CID000010917   \n",
       "1  CID100000085  carnitine  A16AA01  CID100000085  CID000010917   \n",
       "2  CID100000085  carnitine  A16AA01  CID100000085  CID000010917   \n",
       "3  CID100000085  carnitine  A16AA01  CID100000085  CID000010917   \n",
       "4  CID100000085  carnitine  A16AA01  CID100000085  CID000010917   \n",
       "\n",
       "  UMLS_CONCEPT_ID_LABEL MEDDRA_CONCEPT_TYPE UMLS_CONCEPT_ID_MEDDDRA  \\\n",
       "0              C0000729                 LLT                C0000729   \n",
       "1              C0000729                  PT                C0000737   \n",
       "2              C0000737                 LLT                C0000737   \n",
       "3              C0000737                  PT                C0687713   \n",
       "4              C0000737                  PT                C0000737   \n",
       "\n",
       "                      SE  \n",
       "0       Abdominal cramps  \n",
       "1         Abdominal pain  \n",
       "2         Abdominal pain  \n",
       "3  Gastrointestinal pain  \n",
       "4         Abdominal pain  "
      ]
     },
     "execution_count": 23,
     "metadata": {},
     "output_type": "execute_result"
    }
   ],
   "source": [
    "sider.head()"
   ]
  },
  {
   "cell_type": "code",
   "execution_count": 24,
   "metadata": {},
   "outputs": [
    {
     "data": {
      "text/plain": [
       "(426780, 9)"
      ]
     },
     "execution_count": 24,
     "metadata": {},
     "output_type": "execute_result"
    }
   ],
   "source": [
    "sider.shape"
   ]
  },
  {
   "cell_type": "code",
   "execution_count": 25,
   "metadata": {},
   "outputs": [
    {
     "data": {
      "text/plain": [
       "(309849, 6)"
      ]
     },
     "execution_count": 25,
     "metadata": {},
     "output_type": "execute_result"
    }
   ],
   "source": [
    "meddra_all_se.shape"
   ]
  },
  {
   "cell_type": "code",
   "execution_count": 26,
   "metadata": {},
   "outputs": [
    {
     "data": {
      "text/plain": [
       "CID                        1430\n",
       "DRUG                       1347\n",
       "ATC                        1560\n",
       "STITCH_FLAT                1430\n",
       "STITCH_STEREO              1556\n",
       "UMLS_CONCEPT_ID_LABEL      5868\n",
       "MEDDRA_CONCEPT_TYPE           2\n",
       "UMLS_CONCEPT_ID_MEDDDRA    6060\n",
       "SE                         6123\n",
       "dtype: int64"
      ]
     },
     "execution_count": 26,
     "metadata": {},
     "output_type": "execute_result"
    }
   ],
   "source": [
    "sider.nunique()"
   ]
  },
  {
   "cell_type": "code",
   "execution_count": 27,
   "metadata": {},
   "outputs": [],
   "source": [
    "sider.to_csv(data_dir + 'sider.csv')"
   ]
  },
  {
   "cell_type": "code",
   "execution_count": 28,
   "metadata": {},
   "outputs": [
    {
     "name": "stderr",
     "output_type": "stream",
     "text": [
      "C:\\Users\\lt\\Anaconda3\\lib\\site-packages\\IPython\\core\\interactiveshell.py:3058: DtypeWarning: Columns (3,4) have mixed types. Specify dtype option on import or set low_memory=False.\n",
      "  interactivity=interactivity, compiler=compiler, result=result)\n"
     ]
    }
   ],
   "source": [
    "# check which meddra term is used in CVADR\n",
    "\n",
    "CVADR_reactions = pd.read_csv('data/CVADR/reactions.txt', \n",
    "                            delimiter='$',\n",
    "                            header = None,\n",
    "                            names = ['REACTION_ID','REPORT_ID','DURATION','DURATION_UNIT_ENG','DURATION_UNIT_FR','PT_NAME_ENG','PT_NAME_FR','SOC_NAME_ENG','SOC_NAME_FR','MEDDRA_VERSION'],\n",
    "                            dtype = {'REACTION_ID':'object','REPORT_ID':'object'})\n"
   ]
  },
  {
   "cell_type": "code",
   "execution_count": 29,
   "metadata": {},
   "outputs": [
    {
     "data": {
      "text/plain": [
       "11993"
      ]
     },
     "execution_count": 29,
     "metadata": {},
     "output_type": "execute_result"
    }
   ],
   "source": [
    "CVADR_reactions.PT_NAME_ENG.nunique()"
   ]
  },
  {
   "cell_type": "code",
   "execution_count": 30,
   "metadata": {},
   "outputs": [
    {
     "data": {
      "text/html": [
       "<div>\n",
       "<style scoped>\n",
       "    .dataframe tbody tr th:only-of-type {\n",
       "        vertical-align: middle;\n",
       "    }\n",
       "\n",
       "    .dataframe tbody tr th {\n",
       "        vertical-align: top;\n",
       "    }\n",
       "\n",
       "    .dataframe thead th {\n",
       "        text-align: right;\n",
       "    }\n",
       "</style>\n",
       "<table border=\"1\" class=\"dataframe\">\n",
       "  <thead>\n",
       "    <tr style=\"text-align: right;\">\n",
       "      <th></th>\n",
       "      <th>REACTION_ID</th>\n",
       "      <th>REPORT_ID</th>\n",
       "      <th>DURATION</th>\n",
       "      <th>DURATION_UNIT_ENG</th>\n",
       "      <th>DURATION_UNIT_FR</th>\n",
       "      <th>PT_NAME_ENG</th>\n",
       "      <th>PT_NAME_FR</th>\n",
       "      <th>SOC_NAME_ENG</th>\n",
       "      <th>SOC_NAME_FR</th>\n",
       "      <th>MEDDRA_VERSION</th>\n",
       "    </tr>\n",
       "  </thead>\n",
       "  <tbody>\n",
       "    <tr>\n",
       "      <th>0</th>\n",
       "      <td>13501</td>\n",
       "      <td>135</td>\n",
       "      <td>NaN</td>\n",
       "      <td>NaN</td>\n",
       "      <td>NaN</td>\n",
       "      <td>Dysuria</td>\n",
       "      <td>Dysurie</td>\n",
       "      <td>Renal and urinary disorders</td>\n",
       "      <td>Affections du rein et des voies urinaires</td>\n",
       "      <td>v.22.1</td>\n",
       "    </tr>\n",
       "    <tr>\n",
       "      <th>1</th>\n",
       "      <td>13502</td>\n",
       "      <td>135</td>\n",
       "      <td>NaN</td>\n",
       "      <td>NaN</td>\n",
       "      <td>NaN</td>\n",
       "      <td>Nocturia</td>\n",
       "      <td>Nycturie</td>\n",
       "      <td>Renal and urinary disorders</td>\n",
       "      <td>Affections du rein et des voies urinaires</td>\n",
       "      <td>v.22.1</td>\n",
       "    </tr>\n",
       "    <tr>\n",
       "      <th>2</th>\n",
       "      <td>13601</td>\n",
       "      <td>136</td>\n",
       "      <td>NaN</td>\n",
       "      <td>NaN</td>\n",
       "      <td>NaN</td>\n",
       "      <td>Nausea</td>\n",
       "      <td>Nausée</td>\n",
       "      <td>Gastrointestinal disorders</td>\n",
       "      <td>Affections gastro-intestinales</td>\n",
       "      <td>v.22.1</td>\n",
       "    </tr>\n",
       "  </tbody>\n",
       "</table>\n",
       "</div>"
      ],
      "text/plain": [
       "  REACTION_ID REPORT_ID  DURATION DURATION_UNIT_ENG DURATION_UNIT_FR  \\\n",
       "0       13501       135       NaN               NaN              NaN   \n",
       "1       13502       135       NaN               NaN              NaN   \n",
       "2       13601       136       NaN               NaN              NaN   \n",
       "\n",
       "  PT_NAME_ENG PT_NAME_FR                 SOC_NAME_ENG  \\\n",
       "0     Dysuria    Dysurie  Renal and urinary disorders   \n",
       "1    Nocturia   Nycturie  Renal and urinary disorders   \n",
       "2      Nausea     Nausée   Gastrointestinal disorders   \n",
       "\n",
       "                                 SOC_NAME_FR MEDDRA_VERSION  \n",
       "0  Affections du rein et des voies urinaires         v.22.1  \n",
       "1  Affections du rein et des voies urinaires         v.22.1  \n",
       "2             Affections gastro-intestinales         v.22.1  "
      ]
     },
     "execution_count": 30,
     "metadata": {},
     "output_type": "execute_result"
    }
   ],
   "source": [
    "CVADR_reactions.head(3)"
   ]
  },
  {
   "cell_type": "code",
   "execution_count": 31,
   "metadata": {},
   "outputs": [
    {
     "name": "stdout",
     "output_type": "stream",
     "text": [
      "CVADR reactions not in SIDER PT: 8126\n",
      "CVADR reactions not in SIDER PT or LLT: 8089\n",
      "CVADR reactions in SIDER PT or LLT: 3904\n"
     ]
    }
   ],
   "source": [
    "\n",
    "print('CVADR reactions not in SIDER PT: ' + str(CVADR_reactions.PT_NAME_ENG[~CVADR_reactions.PT_NAME_ENG.isin(all_se_pt.SE)].nunique()))\n",
    "print('CVADR reactions not in SIDER PT or LLT: ' + str(CVADR_reactions.PT_NAME_ENG[~CVADR_reactions.PT_NAME_ENG.isin(meddra_all_se.SE)].nunique()))\n",
    "print('CVADR reactions in SIDER PT or LLT: ' + str(CVADR_reactions.PT_NAME_ENG[CVADR_reactions.PT_NAME_ENG.isin(meddra_all_se.SE)].nunique()))"
   ]
  },
  {
   "cell_type": "code",
   "execution_count": 32,
   "metadata": {},
   "outputs": [
    {
     "data": {
      "text/plain": [
       "array(['Pyrexia', 'Normocytic anaemia', 'Lacrimation disorder', ...,\n",
       "       'Sexual inhibition', 'Congenital heart valve incompetence',\n",
       "       'Ultrasound foetal abnormal'], dtype=object)"
      ]
     },
     "execution_count": 32,
     "metadata": {},
     "output_type": "execute_result"
    }
   ],
   "source": [
    "CVADR_reactions.PT_NAME_ENG[~CVADR_reactions.PT_NAME_ENG.isin(meddra_all_se.SE)].unique()"
   ]
  },
  {
   "cell_type": "code",
   "execution_count": 33,
   "metadata": {},
   "outputs": [],
   "source": [
    "# filter reaction by SIDER SEs"
   ]
  },
  {
   "cell_type": "code",
   "execution_count": 34,
   "metadata": {},
   "outputs": [],
   "source": [
    "CVADR_se_fltrd = CVADR_reactions[CVADR_reactions.PT_NAME_ENG.isin(meddra_all_se.SE)]"
   ]
  },
  {
   "cell_type": "code",
   "execution_count": 35,
   "metadata": {},
   "outputs": [
    {
     "data": {
      "text/html": [
       "<div>\n",
       "<style scoped>\n",
       "    .dataframe tbody tr th:only-of-type {\n",
       "        vertical-align: middle;\n",
       "    }\n",
       "\n",
       "    .dataframe tbody tr th {\n",
       "        vertical-align: top;\n",
       "    }\n",
       "\n",
       "    .dataframe thead th {\n",
       "        text-align: right;\n",
       "    }\n",
       "</style>\n",
       "<table border=\"1\" class=\"dataframe\">\n",
       "  <thead>\n",
       "    <tr style=\"text-align: right;\">\n",
       "      <th></th>\n",
       "      <th>REACTION_ID</th>\n",
       "      <th>REPORT_ID</th>\n",
       "      <th>DURATION</th>\n",
       "      <th>DURATION_UNIT_ENG</th>\n",
       "      <th>DURATION_UNIT_FR</th>\n",
       "      <th>PT_NAME_ENG</th>\n",
       "      <th>PT_NAME_FR</th>\n",
       "      <th>SOC_NAME_ENG</th>\n",
       "      <th>SOC_NAME_FR</th>\n",
       "      <th>MEDDRA_VERSION</th>\n",
       "    </tr>\n",
       "  </thead>\n",
       "  <tbody>\n",
       "    <tr>\n",
       "      <th>0</th>\n",
       "      <td>13501</td>\n",
       "      <td>135</td>\n",
       "      <td>NaN</td>\n",
       "      <td>NaN</td>\n",
       "      <td>NaN</td>\n",
       "      <td>Dysuria</td>\n",
       "      <td>Dysurie</td>\n",
       "      <td>Renal and urinary disorders</td>\n",
       "      <td>Affections du rein et des voies urinaires</td>\n",
       "      <td>v.22.1</td>\n",
       "    </tr>\n",
       "    <tr>\n",
       "      <th>1</th>\n",
       "      <td>13502</td>\n",
       "      <td>135</td>\n",
       "      <td>NaN</td>\n",
       "      <td>NaN</td>\n",
       "      <td>NaN</td>\n",
       "      <td>Nocturia</td>\n",
       "      <td>Nycturie</td>\n",
       "      <td>Renal and urinary disorders</td>\n",
       "      <td>Affections du rein et des voies urinaires</td>\n",
       "      <td>v.22.1</td>\n",
       "    </tr>\n",
       "    <tr>\n",
       "      <th>2</th>\n",
       "      <td>13601</td>\n",
       "      <td>136</td>\n",
       "      <td>NaN</td>\n",
       "      <td>NaN</td>\n",
       "      <td>NaN</td>\n",
       "      <td>Nausea</td>\n",
       "      <td>Nausée</td>\n",
       "      <td>Gastrointestinal disorders</td>\n",
       "      <td>Affections gastro-intestinales</td>\n",
       "      <td>v.22.1</td>\n",
       "    </tr>\n",
       "    <tr>\n",
       "      <th>3</th>\n",
       "      <td>13701</td>\n",
       "      <td>137</td>\n",
       "      <td>NaN</td>\n",
       "      <td>NaN</td>\n",
       "      <td>NaN</td>\n",
       "      <td>Headache</td>\n",
       "      <td>Céphalée</td>\n",
       "      <td>Nervous system disorders</td>\n",
       "      <td>Affections du système nerveux</td>\n",
       "      <td>v.22.1</td>\n",
       "    </tr>\n",
       "    <tr>\n",
       "      <th>4</th>\n",
       "      <td>13801</td>\n",
       "      <td>138</td>\n",
       "      <td>NaN</td>\n",
       "      <td>NaN</td>\n",
       "      <td>NaN</td>\n",
       "      <td>Pruritus</td>\n",
       "      <td>Prurit</td>\n",
       "      <td>Skin and subcutaneous tissue disorders</td>\n",
       "      <td>Affections de la peau et du tissu sous-cutané</td>\n",
       "      <td>v.22.1</td>\n",
       "    </tr>\n",
       "  </tbody>\n",
       "</table>\n",
       "</div>"
      ],
      "text/plain": [
       "  REACTION_ID REPORT_ID  DURATION DURATION_UNIT_ENG DURATION_UNIT_FR  \\\n",
       "0       13501       135       NaN               NaN              NaN   \n",
       "1       13502       135       NaN               NaN              NaN   \n",
       "2       13601       136       NaN               NaN              NaN   \n",
       "3       13701       137       NaN               NaN              NaN   \n",
       "4       13801       138       NaN               NaN              NaN   \n",
       "\n",
       "  PT_NAME_ENG PT_NAME_FR                            SOC_NAME_ENG  \\\n",
       "0     Dysuria    Dysurie             Renal and urinary disorders   \n",
       "1    Nocturia   Nycturie             Renal and urinary disorders   \n",
       "2      Nausea     Nausée              Gastrointestinal disorders   \n",
       "3    Headache   Céphalée                Nervous system disorders   \n",
       "4    Pruritus     Prurit  Skin and subcutaneous tissue disorders   \n",
       "\n",
       "                                     SOC_NAME_FR MEDDRA_VERSION  \n",
       "0      Affections du rein et des voies urinaires         v.22.1  \n",
       "1      Affections du rein et des voies urinaires         v.22.1  \n",
       "2                 Affections gastro-intestinales         v.22.1  \n",
       "3                  Affections du système nerveux         v.22.1  \n",
       "4  Affections de la peau et du tissu sous-cutané         v.22.1  "
      ]
     },
     "execution_count": 35,
     "metadata": {},
     "output_type": "execute_result"
    }
   ],
   "source": [
    "CVADR_se_fltrd.head()"
   ]
  },
  {
   "cell_type": "code",
   "execution_count": 36,
   "metadata": {},
   "outputs": [],
   "source": [
    "reactions_matched = pd.DataFrame(CVADR_se_fltrd.nunique(), columns=['fltrd'])\n",
    "\n",
    "reactions_matched['all'] = CVADR_reactions.nunique()\n",
    "reactions_matched['pct_fltrd'] = reactions_matched['fltrd']/reactions_matched['all']"
   ]
  },
  {
   "cell_type": "code",
   "execution_count": 37,
   "metadata": {},
   "outputs": [
    {
     "data": {
      "text/html": [
       "<div>\n",
       "<style scoped>\n",
       "    .dataframe tbody tr th:only-of-type {\n",
       "        vertical-align: middle;\n",
       "    }\n",
       "\n",
       "    .dataframe tbody tr th {\n",
       "        vertical-align: top;\n",
       "    }\n",
       "\n",
       "    .dataframe thead th {\n",
       "        text-align: right;\n",
       "    }\n",
       "</style>\n",
       "<table border=\"1\" class=\"dataframe\">\n",
       "  <thead>\n",
       "    <tr style=\"text-align: right;\">\n",
       "      <th></th>\n",
       "      <th>fltrd</th>\n",
       "      <th>all</th>\n",
       "      <th>pct_fltrd</th>\n",
       "    </tr>\n",
       "  </thead>\n",
       "  <tbody>\n",
       "    <tr>\n",
       "      <th>REACTION_ID</th>\n",
       "      <td>2254455</td>\n",
       "      <td>2606282</td>\n",
       "      <td>0.865008</td>\n",
       "    </tr>\n",
       "    <tr>\n",
       "      <th>REPORT_ID</th>\n",
       "      <td>713703</td>\n",
       "      <td>750583</td>\n",
       "      <td>0.950865</td>\n",
       "    </tr>\n",
       "    <tr>\n",
       "      <th>DURATION</th>\n",
       "      <td>1431</td>\n",
       "      <td>1593</td>\n",
       "      <td>0.898305</td>\n",
       "    </tr>\n",
       "    <tr>\n",
       "      <th>DURATION_UNIT_ENG</th>\n",
       "      <td>9</td>\n",
       "      <td>9</td>\n",
       "      <td>1.000000</td>\n",
       "    </tr>\n",
       "    <tr>\n",
       "      <th>DURATION_UNIT_FR</th>\n",
       "      <td>9</td>\n",
       "      <td>9</td>\n",
       "      <td>1.000000</td>\n",
       "    </tr>\n",
       "    <tr>\n",
       "      <th>PT_NAME_ENG</th>\n",
       "      <td>3904</td>\n",
       "      <td>11993</td>\n",
       "      <td>0.325523</td>\n",
       "    </tr>\n",
       "    <tr>\n",
       "      <th>PT_NAME_FR</th>\n",
       "      <td>3904</td>\n",
       "      <td>11993</td>\n",
       "      <td>0.325523</td>\n",
       "    </tr>\n",
       "    <tr>\n",
       "      <th>SOC_NAME_ENG</th>\n",
       "      <td>27</td>\n",
       "      <td>27</td>\n",
       "      <td>1.000000</td>\n",
       "    </tr>\n",
       "    <tr>\n",
       "      <th>SOC_NAME_FR</th>\n",
       "      <td>27</td>\n",
       "      <td>27</td>\n",
       "      <td>1.000000</td>\n",
       "    </tr>\n",
       "    <tr>\n",
       "      <th>MEDDRA_VERSION</th>\n",
       "      <td>1</td>\n",
       "      <td>1</td>\n",
       "      <td>1.000000</td>\n",
       "    </tr>\n",
       "  </tbody>\n",
       "</table>\n",
       "</div>"
      ],
      "text/plain": [
       "                     fltrd      all  pct_fltrd\n",
       "REACTION_ID        2254455  2606282   0.865008\n",
       "REPORT_ID           713703   750583   0.950865\n",
       "DURATION              1431     1593   0.898305\n",
       "DURATION_UNIT_ENG        9        9   1.000000\n",
       "DURATION_UNIT_FR         9        9   1.000000\n",
       "PT_NAME_ENG           3904    11993   0.325523\n",
       "PT_NAME_FR            3904    11993   0.325523\n",
       "SOC_NAME_ENG            27       27   1.000000\n",
       "SOC_NAME_FR             27       27   1.000000\n",
       "MEDDRA_VERSION           1        1   1.000000"
      ]
     },
     "execution_count": 37,
     "metadata": {},
     "output_type": "execute_result"
    }
   ],
   "source": [
    "reactions_matched"
   ]
  },
  {
   "cell_type": "code",
   "execution_count": 38,
   "metadata": {},
   "outputs": [],
   "source": [
    "# 96% of reports and 89% of reactions are still present. OK"
   ]
  },
  {
   "cell_type": "code",
   "execution_count": 39,
   "metadata": {},
   "outputs": [],
   "source": [
    "# check how many SIDER drugs are in DrugBank"
   ]
  },
  {
   "cell_type": "code",
   "execution_count": 40,
   "metadata": {},
   "outputs": [],
   "source": [
    "db_products = pd.read_csv(data_dir + 'drugbank/db/drugs.csv')\n",
    "db_syn = pd.read_csv(data_dir + 'drugbank/db/drug_syn.csv')"
   ]
  },
  {
   "cell_type": "code",
   "execution_count": 41,
   "metadata": {},
   "outputs": [
    {
     "data": {
      "text/html": [
       "<div>\n",
       "<style scoped>\n",
       "    .dataframe tbody tr th:only-of-type {\n",
       "        vertical-align: middle;\n",
       "    }\n",
       "\n",
       "    .dataframe tbody tr th {\n",
       "        vertical-align: top;\n",
       "    }\n",
       "\n",
       "    .dataframe thead th {\n",
       "        text-align: right;\n",
       "    }\n",
       "</style>\n",
       "<table border=\"1\" class=\"dataframe\">\n",
       "  <thead>\n",
       "    <tr style=\"text-align: right;\">\n",
       "      <th></th>\n",
       "      <th>primary_key</th>\n",
       "      <th>other_keys</th>\n",
       "      <th>type</th>\n",
       "      <th>created</th>\n",
       "      <th>updated</th>\n",
       "      <th>name</th>\n",
       "      <th>description</th>\n",
       "      <th>cas_number</th>\n",
       "      <th>unii</th>\n",
       "      <th>average_mass</th>\n",
       "      <th>monoisotopic_mass</th>\n",
       "      <th>state</th>\n",
       "      <th>groups_count</th>\n",
       "      <th>articles_count</th>\n",
       "      <th>books_count</th>\n",
       "      <th>links_count</th>\n",
       "      <th>synthesis_reference</th>\n",
       "      <th>indication</th>\n",
       "      <th>pharmacodynamics</th>\n",
       "      <th>mechanism_of_action</th>\n",
       "      <th>metabolism</th>\n",
       "      <th>absorption</th>\n",
       "      <th>half_life</th>\n",
       "      <th>protein_binding</th>\n",
       "      <th>route_of_elimination</th>\n",
       "      <th>volume_of_distribution</th>\n",
       "      <th>clearance</th>\n",
       "      <th>international_brands</th>\n",
       "      <th>pdb_entries</th>\n",
       "      <th>fda_label</th>\n",
       "      <th>msds</th>\n",
       "      <th>food_interactions</th>\n",
       "      <th>drug_interactions_count</th>\n",
       "      <th>toxicity</th>\n",
       "    </tr>\n",
       "  </thead>\n",
       "  <tbody>\n",
       "    <tr>\n",
       "      <th>0</th>\n",
       "      <td>DB00001</td>\n",
       "      <td>BTD00024,BIOD00024</td>\n",
       "      <td>biotech</td>\n",
       "      <td>2005-06-13</td>\n",
       "      <td>2020-01-02</td>\n",
       "      <td>Lepirudin</td>\n",
       "      <td>Lepirudin is identical to natural hirudin exce...</td>\n",
       "      <td>138068-37-8</td>\n",
       "      <td>Y43GF64R34</td>\n",
       "      <td>NaN</td>\n",
       "      <td>NaN</td>\n",
       "      <td>liquid</td>\n",
       "      <td>1</td>\n",
       "      <td>3</td>\n",
       "      <td>0</td>\n",
       "      <td>1</td>\n",
       "      <td>NaN</td>\n",
       "      <td>For the treatment of heparin-induced thrombocy...</td>\n",
       "      <td>Lepirudin is used to break up clots and to red...</td>\n",
       "      <td>Lepirudin forms a stable non-covalent complex ...</td>\n",
       "      <td>Lepirudin is thought to be metabolized by rele...</td>\n",
       "      <td>Bioavailability is 100% following injection.</td>\n",
       "      <td>Approximately 1.3 hours</td>\n",
       "      <td>NaN</td>\n",
       "      <td>Lepirudin is thought to be metabolized by rele...</td>\n",
       "      <td>* 12.2 L [Healthy young subjects (n = 18, age ...</td>\n",
       "      <td>* 164 ml/min [Healthy 18-60 yrs]\\r\\n* 139 ml/m...</td>\n",
       "      <td>NaN</td>\n",
       "      <td>0</td>\n",
       "      <td>//s3-us-west-2.amazonaws.com/drugbank/fda_labe...</td>\n",
       "      <td>//s3-us-west-2.amazonaws.com/drugbank/msds/DB0...</td>\n",
       "      <td>0</td>\n",
       "      <td>638</td>\n",
       "      <td>In case of overdose (eg, suggested by excessiv...</td>\n",
       "    </tr>\n",
       "  </tbody>\n",
       "</table>\n",
       "</div>"
      ],
      "text/plain": [
       "  primary_key          other_keys     type     created     updated       name  \\\n",
       "0     DB00001  BTD00024,BIOD00024  biotech  2005-06-13  2020-01-02  Lepirudin   \n",
       "\n",
       "                                         description   cas_number        unii  \\\n",
       "0  Lepirudin is identical to natural hirudin exce...  138068-37-8  Y43GF64R34   \n",
       "\n",
       "   average_mass  monoisotopic_mass   state  groups_count  articles_count  \\\n",
       "0           NaN                NaN  liquid             1               3   \n",
       "\n",
       "   books_count  links_count synthesis_reference  \\\n",
       "0            0            1                 NaN   \n",
       "\n",
       "                                          indication  \\\n",
       "0  For the treatment of heparin-induced thrombocy...   \n",
       "\n",
       "                                    pharmacodynamics  \\\n",
       "0  Lepirudin is used to break up clots and to red...   \n",
       "\n",
       "                                 mechanism_of_action  \\\n",
       "0  Lepirudin forms a stable non-covalent complex ...   \n",
       "\n",
       "                                          metabolism  \\\n",
       "0  Lepirudin is thought to be metabolized by rele...   \n",
       "\n",
       "                                     absorption                half_life  \\\n",
       "0  Bioavailability is 100% following injection.  Approximately 1.3 hours   \n",
       "\n",
       "  protein_binding                               route_of_elimination  \\\n",
       "0             NaN  Lepirudin is thought to be metabolized by rele...   \n",
       "\n",
       "                              volume_of_distribution  \\\n",
       "0  * 12.2 L [Healthy young subjects (n = 18, age ...   \n",
       "\n",
       "                                           clearance international_brands  \\\n",
       "0  * 164 ml/min [Healthy 18-60 yrs]\\r\\n* 139 ml/m...                  NaN   \n",
       "\n",
       "   pdb_entries                                          fda_label  \\\n",
       "0            0  //s3-us-west-2.amazonaws.com/drugbank/fda_labe...   \n",
       "\n",
       "                                                msds  food_interactions  \\\n",
       "0  //s3-us-west-2.amazonaws.com/drugbank/msds/DB0...                  0   \n",
       "\n",
       "   drug_interactions_count                                           toxicity  \n",
       "0                      638  In case of overdose (eg, suggested by excessiv...  "
      ]
     },
     "execution_count": 41,
     "metadata": {},
     "output_type": "execute_result"
    }
   ],
   "source": [
    "db_products.head(1)"
   ]
  },
  {
   "cell_type": "code",
   "execution_count": 42,
   "metadata": {},
   "outputs": [
    {
     "data": {
      "text/html": [
       "<div>\n",
       "<style scoped>\n",
       "    .dataframe tbody tr th:only-of-type {\n",
       "        vertical-align: middle;\n",
       "    }\n",
       "\n",
       "    .dataframe tbody tr th {\n",
       "        vertical-align: top;\n",
       "    }\n",
       "\n",
       "    .dataframe thead th {\n",
       "        text-align: right;\n",
       "    }\n",
       "</style>\n",
       "<table border=\"1\" class=\"dataframe\">\n",
       "  <thead>\n",
       "    <tr style=\"text-align: right;\">\n",
       "      <th></th>\n",
       "      <th>parent_key</th>\n",
       "      <th>synonym</th>\n",
       "      <th>language</th>\n",
       "      <th>coder</th>\n",
       "    </tr>\n",
       "  </thead>\n",
       "  <tbody>\n",
       "    <tr>\n",
       "      <th>0</th>\n",
       "      <td>DB00001</td>\n",
       "      <td>Hirudin variant-1</td>\n",
       "      <td>english</td>\n",
       "      <td>NaN</td>\n",
       "    </tr>\n",
       "  </tbody>\n",
       "</table>\n",
       "</div>"
      ],
      "text/plain": [
       "  parent_key            synonym language coder\n",
       "0    DB00001  Hirudin variant-1  english   NaN"
      ]
     },
     "execution_count": 42,
     "metadata": {},
     "output_type": "execute_result"
    }
   ],
   "source": [
    "db_syn.head(1)"
   ]
  },
  {
   "cell_type": "code",
   "execution_count": 43,
   "metadata": {},
   "outputs": [
    {
     "data": {
      "text/plain": [
       "CID                        1189\n",
       "DRUG                       1132\n",
       "ATC                        1376\n",
       "STITCH_FLAT                1189\n",
       "STITCH_STEREO              1301\n",
       "UMLS_CONCEPT_ID_LABEL      5651\n",
       "MEDDRA_CONCEPT_TYPE           2\n",
       "UMLS_CONCEPT_ID_MEDDDRA    5842\n",
       "SE                         5903\n",
       "dtype: int64"
      ]
     },
     "execution_count": 43,
     "metadata": {},
     "output_type": "execute_result"
    }
   ],
   "source": [
    "sider[(sider['DRUG'].str.upper().isin(db_products['name'].str.upper())) | (sider['DRUG'].str.upper().isin(db_syn['synonym'].str.upper()))].nunique()"
   ]
  },
  {
   "cell_type": "code",
   "execution_count": 44,
   "metadata": {},
   "outputs": [
    {
     "data": {
      "text/plain": [
       "CID                        195491\n",
       "DRUG                       195491\n",
       "ATC                        181012\n",
       "STITCH_FLAT                195491\n",
       "STITCH_STEREO              195491\n",
       "UMLS_CONCEPT_ID_LABEL      195491\n",
       "MEDDRA_CONCEPT_TYPE        195491\n",
       "UMLS_CONCEPT_ID_MEDDDRA    195491\n",
       "SE                         195491\n",
       "dtype: int64"
      ]
     },
     "execution_count": 44,
     "metadata": {},
     "output_type": "execute_result"
    }
   ],
   "source": [
    "# of drug-se pairs matched\n",
    "sider[((sider['DRUG'].str.upper().isin(db_products['name'].str.upper())) | (sider['DRUG'].str.upper().isin(db_syn['synonym'].str.upper()))) & (sider['MEDDRA_CONCEPT_TYPE']=='PT')].count()"
   ]
  },
  {
   "cell_type": "code",
   "execution_count": 45,
   "metadata": {},
   "outputs": [
    {
     "data": {
      "text/plain": [
       "CID                        1430\n",
       "DRUG                       1347\n",
       "ATC                        1560\n",
       "STITCH_FLAT                1430\n",
       "STITCH_STEREO              1556\n",
       "UMLS_CONCEPT_ID_LABEL      5868\n",
       "MEDDRA_CONCEPT_TYPE           2\n",
       "UMLS_CONCEPT_ID_MEDDDRA    6060\n",
       "SE                         6123\n",
       "dtype: int64"
      ]
     },
     "execution_count": 45,
     "metadata": {},
     "output_type": "execute_result"
    }
   ],
   "source": [
    "sider.nunique()"
   ]
  },
  {
   "cell_type": "code",
   "execution_count": 46,
   "metadata": {},
   "outputs": [
    {
     "data": {
      "text/plain": [
       "CID                        224733\n",
       "DRUG                       224733\n",
       "ATC                        202736\n",
       "STITCH_FLAT                224733\n",
       "STITCH_STEREO              224733\n",
       "UMLS_CONCEPT_ID_LABEL      224733\n",
       "MEDDRA_CONCEPT_TYPE        224733\n",
       "UMLS_CONCEPT_ID_MEDDDRA    224733\n",
       "SE                         224733\n",
       "dtype: int64"
      ]
     },
     "execution_count": 46,
     "metadata": {},
     "output_type": "execute_result"
    }
   ],
   "source": [
    "sider[sider['MEDDRA_CONCEPT_TYPE']=='PT'].count()"
   ]
  },
  {
   "cell_type": "code",
   "execution_count": 47,
   "metadata": {},
   "outputs": [
    {
     "data": {
      "text/html": [
       "<div>\n",
       "<style scoped>\n",
       "    .dataframe tbody tr th:only-of-type {\n",
       "        vertical-align: middle;\n",
       "    }\n",
       "\n",
       "    .dataframe tbody tr th {\n",
       "        vertical-align: top;\n",
       "    }\n",
       "\n",
       "    .dataframe thead th {\n",
       "        text-align: right;\n",
       "    }\n",
       "</style>\n",
       "<table border=\"1\" class=\"dataframe\">\n",
       "  <thead>\n",
       "    <tr style=\"text-align: right;\">\n",
       "      <th></th>\n",
       "      <th>resource</th>\n",
       "      <th>identifier</th>\n",
       "      <th>parent_key</th>\n",
       "    </tr>\n",
       "  </thead>\n",
       "  <tbody>\n",
       "    <tr>\n",
       "      <th>0</th>\n",
       "      <td>Drugs Product Database (DPD)</td>\n",
       "      <td>11916</td>\n",
       "      <td>DB00001</td>\n",
       "    </tr>\n",
       "  </tbody>\n",
       "</table>\n",
       "</div>"
      ],
      "text/plain": [
       "                       resource identifier parent_key\n",
       "0  Drugs Product Database (DPD)      11916    DB00001"
      ]
     },
     "execution_count": 47,
     "metadata": {},
     "output_type": "execute_result"
    }
   ],
   "source": [
    "db_ex_id = pd.read_csv(data_dir + 'drugbank/db/drug_external_identifiers.csv')\n",
    "db_ex_id.head(1)"
   ]
  },
  {
   "cell_type": "code",
   "execution_count": 48,
   "metadata": {},
   "outputs": [
    {
     "data": {
      "text/plain": [
       "resource      object\n",
       "identifier    object\n",
       "parent_key    object\n",
       "dtype: object"
      ]
     },
     "execution_count": 48,
     "metadata": {},
     "output_type": "execute_result"
    }
   ],
   "source": [
    "db_ex_id.dtypes"
   ]
  },
  {
   "cell_type": "code",
   "execution_count": 49,
   "metadata": {},
   "outputs": [],
   "source": [
    "db_pubchem = db_ex_id[db_ex_id['resource']=='PubChem Compound']\n"
   ]
  },
  {
   "cell_type": "code",
   "execution_count": 50,
   "metadata": {},
   "outputs": [
    {
     "data": {
      "text/html": [
       "<div>\n",
       "<style scoped>\n",
       "    .dataframe tbody tr th:only-of-type {\n",
       "        vertical-align: middle;\n",
       "    }\n",
       "\n",
       "    .dataframe tbody tr th {\n",
       "        vertical-align: top;\n",
       "    }\n",
       "\n",
       "    .dataframe thead th {\n",
       "        text-align: right;\n",
       "    }\n",
       "</style>\n",
       "<table border=\"1\" class=\"dataframe\">\n",
       "  <thead>\n",
       "    <tr style=\"text-align: right;\">\n",
       "      <th></th>\n",
       "      <th>resource</th>\n",
       "      <th>identifier</th>\n",
       "      <th>parent_key</th>\n",
       "    </tr>\n",
       "  </thead>\n",
       "  <tbody>\n",
       "  </tbody>\n",
       "</table>\n",
       "</div>"
      ],
      "text/plain": [
       "Empty DataFrame\n",
       "Columns: [resource, identifier, parent_key]\n",
       "Index: []"
      ]
     },
     "execution_count": 50,
     "metadata": {},
     "output_type": "execute_result"
    }
   ],
   "source": [
    "db_pubchem[db_pubchem['identifier']=='171306834']"
   ]
  },
  {
   "cell_type": "code",
   "execution_count": 51,
   "metadata": {},
   "outputs": [
    {
     "data": {
      "text/plain": [
       "0         100000085\n",
       "1         100000085\n",
       "2         100000085\n",
       "3         100000085\n",
       "4         100000085\n",
       "            ...    \n",
       "426775    171306834\n",
       "426776    171306834\n",
       "426777    171306834\n",
       "426778    171306834\n",
       "426779    171306834\n",
       "Name: CID, Length: 426780, dtype: object"
      ]
     },
     "execution_count": 51,
     "metadata": {},
     "output_type": "execute_result"
    }
   ],
   "source": [
    "sider['CID'].str.replace(\"CID\",\"\").astype('int').astype('str')"
   ]
  },
  {
   "cell_type": "code",
   "execution_count": 52,
   "metadata": {},
   "outputs": [
    {
     "data": {
      "text/plain": [
       "CID                         980\n",
       "DRUG                        963\n",
       "ATC                        1172\n",
       "STITCH_FLAT                 980\n",
       "STITCH_STEREO               998\n",
       "UMLS_CONCEPT_ID_LABEL      5285\n",
       "MEDDRA_CONCEPT_TYPE           2\n",
       "UMLS_CONCEPT_ID_MEDDDRA    5474\n",
       "SE                         5526\n",
       "dtype: int64"
      ]
     },
     "execution_count": 52,
     "metadata": {},
     "output_type": "execute_result"
    }
   ],
   "source": [
    "sider[sider['STITCH_STEREO'].str.replace(\"CID\",\"\").astype('int').astype('str').isin(db_pubchem['identifier'])].nunique()"
   ]
  },
  {
   "cell_type": "code",
   "execution_count": 53,
   "metadata": {},
   "outputs": [],
   "source": [
    "# for now, use the name matching between SIDER and DrugBank\n",
    "# 1132/1347 of drugs names are matched (84%)\n",
    "# can work on improving this later"
   ]
  },
  {
   "cell_type": "code",
   "execution_count": null,
   "metadata": {},
   "outputs": [],
   "source": []
  },
  {
   "cell_type": "markdown",
   "metadata": {},
   "source": [
    "## Generate the testing datasets"
   ]
  },
  {
   "cell_type": "markdown",
   "metadata": {},
   "source": [
    "For A side effects in D drugs, total number of side effect-drug pairs is A x D\n",
    "Total pairs for drugs matched by name to DrugBank:\n",
    "1132 x 5903 = 6,682,196\n",
    "\n",
    "\n",
    "Pairs in positive dataset: 195,491\n",
    "\n",
    "\n",
    "Positive/negative datasets should look like:\n",
    "drug | cid | atc | se_name | se_meddra | related\n",
    "\n",
    "Negative datset:\n",
    "For each drug, combine with all se.\n",
    "Randomly sample 200,000 from dataset. \n",
    "Do this three times. "
   ]
  },
  {
   "cell_type": "code",
   "execution_count": 54,
   "metadata": {},
   "outputs": [
    {
     "data": {
      "text/html": [
       "<div>\n",
       "<style scoped>\n",
       "    .dataframe tbody tr th:only-of-type {\n",
       "        vertical-align: middle;\n",
       "    }\n",
       "\n",
       "    .dataframe tbody tr th {\n",
       "        vertical-align: top;\n",
       "    }\n",
       "\n",
       "    .dataframe thead th {\n",
       "        text-align: right;\n",
       "    }\n",
       "</style>\n",
       "<table border=\"1\" class=\"dataframe\">\n",
       "  <thead>\n",
       "    <tr style=\"text-align: right;\">\n",
       "      <th></th>\n",
       "      <th>CID</th>\n",
       "      <th>DRUG</th>\n",
       "      <th>ATC</th>\n",
       "      <th>STITCH_FLAT</th>\n",
       "      <th>STITCH_STEREO</th>\n",
       "      <th>UMLS_CONCEPT_ID_LABEL</th>\n",
       "      <th>MEDDRA_CONCEPT_TYPE</th>\n",
       "      <th>UMLS_CONCEPT_ID_MEDDDRA</th>\n",
       "      <th>SE</th>\n",
       "    </tr>\n",
       "  </thead>\n",
       "  <tbody>\n",
       "    <tr>\n",
       "      <th>0</th>\n",
       "      <td>CID100000085</td>\n",
       "      <td>carnitine</td>\n",
       "      <td>A16AA01</td>\n",
       "      <td>CID100000085</td>\n",
       "      <td>CID000010917</td>\n",
       "      <td>C0000729</td>\n",
       "      <td>LLT</td>\n",
       "      <td>C0000729</td>\n",
       "      <td>Abdominal cramps</td>\n",
       "    </tr>\n",
       "    <tr>\n",
       "      <th>1</th>\n",
       "      <td>CID100000085</td>\n",
       "      <td>carnitine</td>\n",
       "      <td>A16AA01</td>\n",
       "      <td>CID100000085</td>\n",
       "      <td>CID000010917</td>\n",
       "      <td>C0000729</td>\n",
       "      <td>PT</td>\n",
       "      <td>C0000737</td>\n",
       "      <td>Abdominal pain</td>\n",
       "    </tr>\n",
       "    <tr>\n",
       "      <th>2</th>\n",
       "      <td>CID100000085</td>\n",
       "      <td>carnitine</td>\n",
       "      <td>A16AA01</td>\n",
       "      <td>CID100000085</td>\n",
       "      <td>CID000010917</td>\n",
       "      <td>C0000737</td>\n",
       "      <td>LLT</td>\n",
       "      <td>C0000737</td>\n",
       "      <td>Abdominal pain</td>\n",
       "    </tr>\n",
       "    <tr>\n",
       "      <th>3</th>\n",
       "      <td>CID100000085</td>\n",
       "      <td>carnitine</td>\n",
       "      <td>A16AA01</td>\n",
       "      <td>CID100000085</td>\n",
       "      <td>CID000010917</td>\n",
       "      <td>C0000737</td>\n",
       "      <td>PT</td>\n",
       "      <td>C0687713</td>\n",
       "      <td>Gastrointestinal pain</td>\n",
       "    </tr>\n",
       "    <tr>\n",
       "      <th>4</th>\n",
       "      <td>CID100000085</td>\n",
       "      <td>carnitine</td>\n",
       "      <td>A16AA01</td>\n",
       "      <td>CID100000085</td>\n",
       "      <td>CID000010917</td>\n",
       "      <td>C0000737</td>\n",
       "      <td>PT</td>\n",
       "      <td>C0000737</td>\n",
       "      <td>Abdominal pain</td>\n",
       "    </tr>\n",
       "  </tbody>\n",
       "</table>\n",
       "</div>"
      ],
      "text/plain": [
       "            CID       DRUG      ATC   STITCH_FLAT STITCH_STEREO  \\\n",
       "0  CID100000085  carnitine  A16AA01  CID100000085  CID000010917   \n",
       "1  CID100000085  carnitine  A16AA01  CID100000085  CID000010917   \n",
       "2  CID100000085  carnitine  A16AA01  CID100000085  CID000010917   \n",
       "3  CID100000085  carnitine  A16AA01  CID100000085  CID000010917   \n",
       "4  CID100000085  carnitine  A16AA01  CID100000085  CID000010917   \n",
       "\n",
       "  UMLS_CONCEPT_ID_LABEL MEDDRA_CONCEPT_TYPE UMLS_CONCEPT_ID_MEDDDRA  \\\n",
       "0              C0000729                 LLT                C0000729   \n",
       "1              C0000729                  PT                C0000737   \n",
       "2              C0000737                 LLT                C0000737   \n",
       "3              C0000737                  PT                C0687713   \n",
       "4              C0000737                  PT                C0000737   \n",
       "\n",
       "                      SE  \n",
       "0       Abdominal cramps  \n",
       "1         Abdominal pain  \n",
       "2         Abdominal pain  \n",
       "3  Gastrointestinal pain  \n",
       "4         Abdominal pain  "
      ]
     },
     "execution_count": 54,
     "metadata": {},
     "output_type": "execute_result"
    }
   ],
   "source": [
    "sider.head()"
   ]
  },
  {
   "cell_type": "code",
   "execution_count": 55,
   "metadata": {},
   "outputs": [],
   "source": [
    "# postive datset \n",
    "positives = sider[['DRUG', 'ATC', 'SE', 'UMLS_CONCEPT_ID_MEDDDRA']]\n",
    "positives.to_csv(data_dir + 'sider_positives.csv')"
   ]
  },
  {
   "cell_type": "code",
   "execution_count": 56,
   "metadata": {},
   "outputs": [],
   "source": [
    "# negative datset\n",
    "\n",
    "# create unique lists of drugs and se\n",
    "drug_list = sider['CID'].unique()\n",
    "se_list = sider['UMLS_CONCEPT_ID_MEDDDRA'].unique()\n",
    "\n",
    "# combine a drug with all se\n",
    "df1 = pd.DataFrame(se_list, columns=['se_meddra'])\n",
    "df1['index'] = 1\n",
    "\n",
    "\n",
    "# just do cross product on the index. "
   ]
  },
  {
   "cell_type": "code",
   "execution_count": 57,
   "metadata": {},
   "outputs": [
    {
     "data": {
      "text/html": [
       "<div>\n",
       "<style scoped>\n",
       "    .dataframe tbody tr th:only-of-type {\n",
       "        vertical-align: middle;\n",
       "    }\n",
       "\n",
       "    .dataframe tbody tr th {\n",
       "        vertical-align: top;\n",
       "    }\n",
       "\n",
       "    .dataframe thead th {\n",
       "        text-align: right;\n",
       "    }\n",
       "</style>\n",
       "<table border=\"1\" class=\"dataframe\">\n",
       "  <thead>\n",
       "    <tr style=\"text-align: right;\">\n",
       "      <th></th>\n",
       "      <th>se_meddra</th>\n",
       "      <th>index</th>\n",
       "    </tr>\n",
       "  </thead>\n",
       "  <tbody>\n",
       "    <tr>\n",
       "      <th>0</th>\n",
       "      <td>C0000729</td>\n",
       "      <td>1</td>\n",
       "    </tr>\n",
       "    <tr>\n",
       "      <th>1</th>\n",
       "      <td>C0000737</td>\n",
       "      <td>1</td>\n",
       "    </tr>\n",
       "    <tr>\n",
       "      <th>2</th>\n",
       "      <td>C0687713</td>\n",
       "      <td>1</td>\n",
       "    </tr>\n",
       "    <tr>\n",
       "      <th>3</th>\n",
       "      <td>C0002418</td>\n",
       "      <td>1</td>\n",
       "    </tr>\n",
       "    <tr>\n",
       "      <th>4</th>\n",
       "      <td>C0002871</td>\n",
       "      <td>1</td>\n",
       "    </tr>\n",
       "    <tr>\n",
       "      <th>...</th>\n",
       "      <td>...</td>\n",
       "      <td>...</td>\n",
       "    </tr>\n",
       "    <tr>\n",
       "      <th>6056</th>\n",
       "      <td>C0235802</td>\n",
       "      <td>1</td>\n",
       "    </tr>\n",
       "    <tr>\n",
       "      <th>6057</th>\n",
       "      <td>C0240846</td>\n",
       "      <td>1</td>\n",
       "    </tr>\n",
       "    <tr>\n",
       "      <th>6058</th>\n",
       "      <td>C0271036</td>\n",
       "      <td>1</td>\n",
       "    </tr>\n",
       "    <tr>\n",
       "      <th>6059</th>\n",
       "      <td>C0856117</td>\n",
       "      <td>1</td>\n",
       "    </tr>\n",
       "    <tr>\n",
       "      <th>6060</th>\n",
       "      <td>C0339268</td>\n",
       "      <td>1</td>\n",
       "    </tr>\n",
       "  </tbody>\n",
       "</table>\n",
       "<p>6061 rows × 2 columns</p>\n",
       "</div>"
      ],
      "text/plain": [
       "     se_meddra  index\n",
       "0     C0000729      1\n",
       "1     C0000737      1\n",
       "2     C0687713      1\n",
       "3     C0002418      1\n",
       "4     C0002871      1\n",
       "...        ...    ...\n",
       "6056  C0235802      1\n",
       "6057  C0240846      1\n",
       "6058  C0271036      1\n",
       "6059  C0856117      1\n",
       "6060  C0339268      1\n",
       "\n",
       "[6061 rows x 2 columns]"
      ]
     },
     "execution_count": 57,
     "metadata": {},
     "output_type": "execute_result"
    }
   ],
   "source": [
    "df1"
   ]
  },
  {
   "cell_type": "code",
   "execution_count": null,
   "metadata": {},
   "outputs": [],
   "source": []
  }
 ],
 "metadata": {
  "kernelspec": {
   "display_name": "Python 3",
   "language": "python",
   "name": "python3"
  },
  "language_info": {
   "codemirror_mode": {
    "name": "ipython",
    "version": 3
   },
   "file_extension": ".py",
   "mimetype": "text/x-python",
   "name": "python",
   "nbconvert_exporter": "python",
   "pygments_lexer": "ipython3",
   "version": "3.6.9"
  }
 },
 "nbformat": 4,
 "nbformat_minor": 4
}
