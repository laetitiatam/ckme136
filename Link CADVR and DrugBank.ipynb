{
 "cells": [
  {
   "cell_type": "code",
   "execution_count": 1,
   "metadata": {},
   "outputs": [],
   "source": [
    "# link CADVR to DrugBank"
   ]
  },
  {
   "cell_type": "code",
   "execution_count": 5,
   "metadata": {},
   "outputs": [],
   "source": [
    "import pandas as pd"
   ]
  },
  {
   "cell_type": "code",
   "execution_count": 6,
   "metadata": {},
   "outputs": [],
   "source": [
    "data_dir = 'data\\\\'"
   ]
  },
  {
   "cell_type": "code",
   "execution_count": 23,
   "metadata": {},
   "outputs": [],
   "source": [
    "# import CADVR \n",
    "drug_products = pd.read_csv(data_dir + 'drug_products.txt', delimiter='$', names=['DRUG_PRODUCT_ID', 'DRUGNAME'])"
   ]
  },
  {
   "cell_type": "code",
   "execution_count": 24,
   "metadata": {},
   "outputs": [
    {
     "data": {
      "text/html": [
       "<div>\n",
       "<style scoped>\n",
       "    .dataframe tbody tr th:only-of-type {\n",
       "        vertical-align: middle;\n",
       "    }\n",
       "\n",
       "    .dataframe tbody tr th {\n",
       "        vertical-align: top;\n",
       "    }\n",
       "\n",
       "    .dataframe thead th {\n",
       "        text-align: right;\n",
       "    }\n",
       "</style>\n",
       "<table border=\"1\" class=\"dataframe\">\n",
       "  <thead>\n",
       "    <tr style=\"text-align: right;\">\n",
       "      <th></th>\n",
       "      <th>DRUG_PRODUCT_ID</th>\n",
       "      <th>DRUGNAME</th>\n",
       "    </tr>\n",
       "  </thead>\n",
       "  <tbody>\n",
       "    <tr>\n",
       "      <th>0</th>\n",
       "      <td>1</td>\n",
       "      <td>ATIVAN TAB 2MG</td>\n",
       "    </tr>\n",
       "    <tr>\n",
       "      <th>1</th>\n",
       "      <td>2</td>\n",
       "      <td>AMIKIN</td>\n",
       "    </tr>\n",
       "    <tr>\n",
       "      <th>2</th>\n",
       "      <td>3</td>\n",
       "      <td>APO DIAZEPAM TAB 5MG</td>\n",
       "    </tr>\n",
       "  </tbody>\n",
       "</table>\n",
       "</div>"
      ],
      "text/plain": [
       "   DRUG_PRODUCT_ID              DRUGNAME\n",
       "0                1        ATIVAN TAB 2MG\n",
       "1                2                AMIKIN\n",
       "2                3  APO DIAZEPAM TAB 5MG"
      ]
     },
     "execution_count": 24,
     "metadata": {},
     "output_type": "execute_result"
    }
   ],
   "source": [
    "drug_products.head(3)"
   ]
  },
  {
   "cell_type": "code",
   "execution_count": 25,
   "metadata": {},
   "outputs": [
    {
     "data": {
      "text/plain": [
       "DRUG_PRODUCT_ID    34505\n",
       "DRUGNAME           26551\n",
       "dtype: int64"
      ]
     },
     "execution_count": 25,
     "metadata": {},
     "output_type": "execute_result"
    }
   ],
   "source": [
    "drug_products.nunique()"
   ]
  },
  {
   "cell_type": "code",
   "execution_count": 14,
   "metadata": {},
   "outputs": [
    {
     "data": {
      "text/html": [
       "<div>\n",
       "<style scoped>\n",
       "    .dataframe tbody tr th:only-of-type {\n",
       "        vertical-align: middle;\n",
       "    }\n",
       "\n",
       "    .dataframe tbody tr th {\n",
       "        vertical-align: top;\n",
       "    }\n",
       "\n",
       "    .dataframe thead th {\n",
       "        text-align: right;\n",
       "    }\n",
       "</style>\n",
       "<table border=\"1\" class=\"dataframe\">\n",
       "  <thead>\n",
       "    <tr style=\"text-align: right;\">\n",
       "      <th></th>\n",
       "      <th>primary_key</th>\n",
       "      <th>other_keys</th>\n",
       "      <th>type</th>\n",
       "      <th>created</th>\n",
       "      <th>updated</th>\n",
       "      <th>name</th>\n",
       "      <th>description</th>\n",
       "      <th>cas_number</th>\n",
       "      <th>unii</th>\n",
       "      <th>average_mass</th>\n",
       "      <th>...</th>\n",
       "      <th>route_of_elimination</th>\n",
       "      <th>volume_of_distribution</th>\n",
       "      <th>clearance</th>\n",
       "      <th>international_brands</th>\n",
       "      <th>pdb_entries</th>\n",
       "      <th>fda_label</th>\n",
       "      <th>msds</th>\n",
       "      <th>food_interactions</th>\n",
       "      <th>drug_interactions_count</th>\n",
       "      <th>toxicity</th>\n",
       "    </tr>\n",
       "  </thead>\n",
       "  <tbody>\n",
       "    <tr>\n",
       "      <th>0</th>\n",
       "      <td>DB00001</td>\n",
       "      <td>BTD00024,BIOD00024</td>\n",
       "      <td>biotech</td>\n",
       "      <td>2005-06-13</td>\n",
       "      <td>2020-01-02</td>\n",
       "      <td>Lepirudin</td>\n",
       "      <td>Lepirudin is identical to natural hirudin exce...</td>\n",
       "      <td>138068-37-8</td>\n",
       "      <td>Y43GF64R34</td>\n",
       "      <td>NaN</td>\n",
       "      <td>...</td>\n",
       "      <td>Lepirudin is thought to be metabolized by rele...</td>\n",
       "      <td>* 12.2 L [Healthy young subjects (n = 18, age ...</td>\n",
       "      <td>* 164 ml/min [Healthy 18-60 yrs]\\r\\n* 139 ml/m...</td>\n",
       "      <td>NaN</td>\n",
       "      <td>0</td>\n",
       "      <td>//s3-us-west-2.amazonaws.com/drugbank/fda_labe...</td>\n",
       "      <td>//s3-us-west-2.amazonaws.com/drugbank/msds/DB0...</td>\n",
       "      <td>0</td>\n",
       "      <td>638</td>\n",
       "      <td>In case of overdose (eg, suggested by excessiv...</td>\n",
       "    </tr>\n",
       "    <tr>\n",
       "      <th>1</th>\n",
       "      <td>DB00002</td>\n",
       "      <td>BTD00071,BIOD00071</td>\n",
       "      <td>biotech</td>\n",
       "      <td>2005-06-13</td>\n",
       "      <td>2020-01-02</td>\n",
       "      <td>Cetuximab</td>\n",
       "      <td>Cetuximab is an epidermal growth factor recept...</td>\n",
       "      <td>205923-56-4</td>\n",
       "      <td>PQX0D8J21J</td>\n",
       "      <td>NaN</td>\n",
       "      <td>...</td>\n",
       "      <td>NaN</td>\n",
       "      <td>appeared to be independent of dose and approxi...</td>\n",
       "      <td>Female patients had 25% lower intrinsic cleara...</td>\n",
       "      <td>NaN</td>\n",
       "      <td>0</td>\n",
       "      <td>//s3-us-west-2.amazonaws.com/drugbank/fda_labe...</td>\n",
       "      <td>//s3-us-west-2.amazonaws.com/drugbank/msds/DB0...</td>\n",
       "      <td>0</td>\n",
       "      <td>333</td>\n",
       "      <td>Pulmonary Toxicity\\r\\n\\r\\nInterstitial lung di...</td>\n",
       "    </tr>\n",
       "    <tr>\n",
       "      <th>2</th>\n",
       "      <td>DB00003</td>\n",
       "      <td>BTD00001,BIOD00001</td>\n",
       "      <td>biotech</td>\n",
       "      <td>2005-06-13</td>\n",
       "      <td>2020-01-02</td>\n",
       "      <td>Dornase alfa</td>\n",
       "      <td>Dornase alfa is a biosynthetic form of human d...</td>\n",
       "      <td>143831-71-4</td>\n",
       "      <td>953A26OA1Y</td>\n",
       "      <td>NaN</td>\n",
       "      <td>...</td>\n",
       "      <td>NaN</td>\n",
       "      <td>In studies in rats and monkeys, the initial vo...</td>\n",
       "      <td>Studies in rats indicate that, following aeros...</td>\n",
       "      <td>ViscozymeRoche (Chile)</td>\n",
       "      <td>0</td>\n",
       "      <td>//s3-us-west-2.amazonaws.com/drugbank/fda_labe...</td>\n",
       "      <td>//s3-us-west-2.amazonaws.com/drugbank/msds/DB0...</td>\n",
       "      <td>0</td>\n",
       "      <td>0</td>\n",
       "      <td>Adverse reactions occur at a frequency of &lt; 1/...</td>\n",
       "    </tr>\n",
       "  </tbody>\n",
       "</table>\n",
       "<p>3 rows × 34 columns</p>\n",
       "</div>"
      ],
      "text/plain": [
       "  primary_key          other_keys     type     created     updated  \\\n",
       "0     DB00001  BTD00024,BIOD00024  biotech  2005-06-13  2020-01-02   \n",
       "1     DB00002  BTD00071,BIOD00071  biotech  2005-06-13  2020-01-02   \n",
       "2     DB00003  BTD00001,BIOD00001  biotech  2005-06-13  2020-01-02   \n",
       "\n",
       "           name                                        description  \\\n",
       "0     Lepirudin  Lepirudin is identical to natural hirudin exce...   \n",
       "1     Cetuximab  Cetuximab is an epidermal growth factor recept...   \n",
       "2  Dornase alfa  Dornase alfa is a biosynthetic form of human d...   \n",
       "\n",
       "    cas_number        unii  average_mass  ...  \\\n",
       "0  138068-37-8  Y43GF64R34           NaN  ...   \n",
       "1  205923-56-4  PQX0D8J21J           NaN  ...   \n",
       "2  143831-71-4  953A26OA1Y           NaN  ...   \n",
       "\n",
       "                                route_of_elimination  \\\n",
       "0  Lepirudin is thought to be metabolized by rele...   \n",
       "1                                                NaN   \n",
       "2                                                NaN   \n",
       "\n",
       "                              volume_of_distribution  \\\n",
       "0  * 12.2 L [Healthy young subjects (n = 18, age ...   \n",
       "1  appeared to be independent of dose and approxi...   \n",
       "2  In studies in rats and monkeys, the initial vo...   \n",
       "\n",
       "                                           clearance    international_brands  \\\n",
       "0  * 164 ml/min [Healthy 18-60 yrs]\\r\\n* 139 ml/m...                     NaN   \n",
       "1  Female patients had 25% lower intrinsic cleara...                     NaN   \n",
       "2  Studies in rats indicate that, following aeros...  ViscozymeRoche (Chile)   \n",
       "\n",
       "   pdb_entries                                          fda_label  \\\n",
       "0            0  //s3-us-west-2.amazonaws.com/drugbank/fda_labe...   \n",
       "1            0  //s3-us-west-2.amazonaws.com/drugbank/fda_labe...   \n",
       "2            0  //s3-us-west-2.amazonaws.com/drugbank/fda_labe...   \n",
       "\n",
       "                                                msds food_interactions  \\\n",
       "0  //s3-us-west-2.amazonaws.com/drugbank/msds/DB0...                 0   \n",
       "1  //s3-us-west-2.amazonaws.com/drugbank/msds/DB0...                 0   \n",
       "2  //s3-us-west-2.amazonaws.com/drugbank/msds/DB0...                 0   \n",
       "\n",
       "  drug_interactions_count                                           toxicity  \n",
       "0                     638  In case of overdose (eg, suggested by excessiv...  \n",
       "1                     333  Pulmonary Toxicity\\r\\n\\r\\nInterstitial lung di...  \n",
       "2                       0  Adverse reactions occur at a frequency of < 1/...  \n",
       "\n",
       "[3 rows x 34 columns]"
      ]
     },
     "execution_count": 14,
     "metadata": {},
     "output_type": "execute_result"
    }
   ],
   "source": [
    "# import DrugBank drugs file\n",
    "\n",
    "db_drugs = pd.read_csv(data_dir + '/drugbank/drugs.csv')\n",
    "\n",
    "db_drugs.head(3)\n"
   ]
  },
  {
   "cell_type": "code",
   "execution_count": 26,
   "metadata": {},
   "outputs": [
    {
     "data": {
      "text/plain": [
       "primary_key                13475\n",
       "other_keys                  4443\n",
       "type                           2\n",
       "created                      505\n",
       "updated                       43\n",
       "name                       13475\n",
       "description                 7538\n",
       "cas_number                  7773\n",
       "unii                        9127\n",
       "average_mass                9184\n",
       "monoisotopic_mass           9225\n",
       "state                          3\n",
       "groups_count                   4\n",
       "articles_count                37\n",
       "books_count                    8\n",
       "links_count                   23\n",
       "synthesis_reference         1462\n",
       "indication                  3414\n",
       "pharmacodynamics            2777\n",
       "mechanism_of_action         3522\n",
       "metabolism                  1808\n",
       "absorption                  2013\n",
       "half_life                   1914\n",
       "protein_binding             1461\n",
       "route_of_elimination        1661\n",
       "volume_of_distribution      1314\n",
       "clearance                   1220\n",
       "international_brands        1847\n",
       "pdb_entries                  218\n",
       "fda_label                   1303\n",
       "msds                        1538\n",
       "food_interactions              7\n",
       "drug_interactions_count     1325\n",
       "toxicity                    2111\n",
       "dtype: int64"
      ]
     },
     "execution_count": 26,
     "metadata": {},
     "output_type": "execute_result"
    }
   ],
   "source": [
    "db_drugs.nunique()"
   ]
  },
  {
   "cell_type": "code",
   "execution_count": 38,
   "metadata": {},
   "outputs": [
    {
     "data": {
      "text/plain": [
       "DRUG_PRODUCT_ID    3666\n",
       "DRUGNAME           1557\n",
       "dtype: int64"
      ]
     },
     "execution_count": 38,
     "metadata": {},
     "output_type": "execute_result"
    }
   ],
   "source": [
    "drug_products[drug_products['DRUGNAME'].isin(db_drugs['name'].str.upper())].nunique()"
   ]
  },
  {
   "cell_type": "code",
   "execution_count": 39,
   "metadata": {},
   "outputs": [],
   "source": [
    "# looks like brand name doesnt match up. Try active ingredent."
   ]
  },
  {
   "cell_type": "code",
   "execution_count": 40,
   "metadata": {},
   "outputs": [],
   "source": [
    "drug_product_ingredients = pd.read_csv(data_dir + '/drug_product_ingredients.txt', \n",
    "                            delimiter='$',\n",
    "                            header = None,\n",
    "                            names = ['DRUG_PRODUCT_INGREDIENT_ID','DRUG_PRODUCT_ID','DRUGNAME','ACTIVE_INGREDIENT_ID','ACTIVE_INGREDIENT_NAME'],\n",
    "                            dtype = {'DRUG_PRODUCT_INGREDIENT_ID':'object', 'DRUG_PRODUCT_ID':'object','ACTIVE_INGREDIENT_ID':'object'})\n"
   ]
  },
  {
   "cell_type": "code",
   "execution_count": 41,
   "metadata": {},
   "outputs": [
    {
     "data": {
      "text/html": [
       "<div>\n",
       "<style scoped>\n",
       "    .dataframe tbody tr th:only-of-type {\n",
       "        vertical-align: middle;\n",
       "    }\n",
       "\n",
       "    .dataframe tbody tr th {\n",
       "        vertical-align: top;\n",
       "    }\n",
       "\n",
       "    .dataframe thead th {\n",
       "        text-align: right;\n",
       "    }\n",
       "</style>\n",
       "<table border=\"1\" class=\"dataframe\">\n",
       "  <thead>\n",
       "    <tr style=\"text-align: right;\">\n",
       "      <th></th>\n",
       "      <th>DRUG_PRODUCT_INGREDIENT_ID</th>\n",
       "      <th>DRUG_PRODUCT_ID</th>\n",
       "      <th>DRUGNAME</th>\n",
       "      <th>ACTIVE_INGREDIENT_ID</th>\n",
       "      <th>ACTIVE_INGREDIENT_NAME</th>\n",
       "    </tr>\n",
       "  </thead>\n",
       "  <tbody>\n",
       "    <tr>\n",
       "      <th>0</th>\n",
       "      <td>648802442</td>\n",
       "      <td>6488</td>\n",
       "      <td>CO CLOMIPRAMINE TABLETS 25MG</td>\n",
       "      <td>2442</td>\n",
       "      <td>clomipramine hydrochloride</td>\n",
       "    </tr>\n",
       "    <tr>\n",
       "      <th>1</th>\n",
       "      <td>64910755</td>\n",
       "      <td>6491</td>\n",
       "      <td>COPPERTONE OIL FREE LOTION SPF 45</td>\n",
       "      <td>755</td>\n",
       "      <td>avobenzone</td>\n",
       "    </tr>\n",
       "    <tr>\n",
       "      <th>2</th>\n",
       "      <td>65000701</td>\n",
       "      <td>6500</td>\n",
       "      <td>MULTIVITAMINS + MINERALS FOR ADULTS TABLET</td>\n",
       "      <td>701</td>\n",
       "      <td>vitamin e</td>\n",
       "    </tr>\n",
       "  </tbody>\n",
       "</table>\n",
       "</div>"
      ],
      "text/plain": [
       "  DRUG_PRODUCT_INGREDIENT_ID DRUG_PRODUCT_ID  \\\n",
       "0                  648802442            6488   \n",
       "1                   64910755            6491   \n",
       "2                   65000701            6500   \n",
       "\n",
       "                                     DRUGNAME ACTIVE_INGREDIENT_ID  \\\n",
       "0                CO CLOMIPRAMINE TABLETS 25MG                 2442   \n",
       "1           COPPERTONE OIL FREE LOTION SPF 45                  755   \n",
       "2  MULTIVITAMINS + MINERALS FOR ADULTS TABLET                  701   \n",
       "\n",
       "       ACTIVE_INGREDIENT_NAME  \n",
       "0  clomipramine hydrochloride  \n",
       "1                  avobenzone  \n",
       "2                   vitamin e  "
      ]
     },
     "execution_count": 41,
     "metadata": {},
     "output_type": "execute_result"
    }
   ],
   "source": [
    "drug_product_ingredients.head(3)"
   ]
  },
  {
   "cell_type": "code",
   "execution_count": 43,
   "metadata": {},
   "outputs": [
    {
     "data": {
      "text/html": [
       "<div>\n",
       "<style scoped>\n",
       "    .dataframe tbody tr th:only-of-type {\n",
       "        vertical-align: middle;\n",
       "    }\n",
       "\n",
       "    .dataframe tbody tr th {\n",
       "        vertical-align: top;\n",
       "    }\n",
       "\n",
       "    .dataframe thead th {\n",
       "        text-align: right;\n",
       "    }\n",
       "</style>\n",
       "<table border=\"1\" class=\"dataframe\">\n",
       "  <thead>\n",
       "    <tr style=\"text-align: right;\">\n",
       "      <th></th>\n",
       "      <th>DRUG_PRODUCT_INGREDIENT_ID</th>\n",
       "      <th>DRUG_PRODUCT_ID</th>\n",
       "      <th>DRUGNAME</th>\n",
       "      <th>ACTIVE_INGREDIENT_ID</th>\n",
       "      <th>ACTIVE_INGREDIENT_NAME</th>\n",
       "    </tr>\n",
       "  </thead>\n",
       "  <tbody>\n",
       "    <tr>\n",
       "      <th>6762</th>\n",
       "      <td>2268705011136</td>\n",
       "      <td>22687</td>\n",
       "      <td>SODIUM FERRIC GLUCONATE COMPLEX</td>\n",
       "      <td>5011136</td>\n",
       "      <td>SODIUM FERRIC GLUCONATE COMPLEX</td>\n",
       "    </tr>\n",
       "  </tbody>\n",
       "</table>\n",
       "</div>"
      ],
      "text/plain": [
       "     DRUG_PRODUCT_INGREDIENT_ID DRUG_PRODUCT_ID  \\\n",
       "6762              2268705011136           22687   \n",
       "\n",
       "                             DRUGNAME ACTIVE_INGREDIENT_ID  \\\n",
       "6762  SODIUM FERRIC GLUCONATE COMPLEX              5011136   \n",
       "\n",
       "               ACTIVE_INGREDIENT_NAME  \n",
       "6762  SODIUM FERRIC GLUCONATE COMPLEX  "
      ]
     },
     "execution_count": 43,
     "metadata": {},
     "output_type": "execute_result"
    }
   ],
   "source": [
    "drug_product_ingredients[drug_product_ingredients['ACTIVE_INGREDIENT_NAME'].isin(db_drugs['name'].str.upper())]."
   ]
  },
  {
   "cell_type": "code",
   "execution_count": 44,
   "metadata": {},
   "outputs": [],
   "source": [
    "#  DB 'name' does not look like an active ingredient either. Try UNIIs instead."
   ]
  },
  {
   "cell_type": "code",
   "execution_count": 51,
   "metadata": {},
   "outputs": [
    {
     "data": {
      "text/html": [
       "<div>\n",
       "<style scoped>\n",
       "    .dataframe tbody tr th:only-of-type {\n",
       "        vertical-align: middle;\n",
       "    }\n",
       "\n",
       "    .dataframe tbody tr th {\n",
       "        vertical-align: top;\n",
       "    }\n",
       "\n",
       "    .dataframe thead th {\n",
       "        text-align: right;\n",
       "    }\n",
       "</style>\n",
       "<table border=\"1\" class=\"dataframe\">\n",
       "  <thead>\n",
       "    <tr style=\"text-align: right;\">\n",
       "      <th></th>\n",
       "      <th>Name</th>\n",
       "      <th>TYPE</th>\n",
       "      <th>UNII</th>\n",
       "      <th>Display Name</th>\n",
       "    </tr>\n",
       "  </thead>\n",
       "  <tbody>\n",
       "    <tr>\n",
       "      <th>769932</th>\n",
       "      <td>N(SUP 1)-(4,6-BIETHYL-S-TRIAZIN-2-YL)SULFANILA...</td>\n",
       "      <td>cn</td>\n",
       "      <td>ZZZ3BU4OA7</td>\n",
       "      <td>SULFASYMAZINE</td>\n",
       "    </tr>\n",
       "    <tr>\n",
       "      <th>769933</th>\n",
       "      <td>SULFASYMAZINE [INN]</td>\n",
       "      <td>cn</td>\n",
       "      <td>ZZZ3BU4OA7</td>\n",
       "      <td>SULFASYMAZINE</td>\n",
       "    </tr>\n",
       "    <tr>\n",
       "      <th>769934</th>\n",
       "      <td>SULFASYMAZINE</td>\n",
       "      <td>of</td>\n",
       "      <td>ZZZ3BU4OA7</td>\n",
       "      <td>SULFASYMAZINE</td>\n",
       "    </tr>\n",
       "  </tbody>\n",
       "</table>\n",
       "</div>"
      ],
      "text/plain": [
       "                                                     Name TYPE        UNII  \\\n",
       "769932  N(SUP 1)-(4,6-BIETHYL-S-TRIAZIN-2-YL)SULFANILA...   cn  ZZZ3BU4OA7   \n",
       "769933                                SULFASYMAZINE [INN]   cn  ZZZ3BU4OA7   \n",
       "769934                                      SULFASYMAZINE   of  ZZZ3BU4OA7   \n",
       "\n",
       "         Display Name  \n",
       "769932  SULFASYMAZINE  \n",
       "769933  SULFASYMAZINE  \n",
       "769934  SULFASYMAZINE  "
      ]
     },
     "execution_count": 51,
     "metadata": {},
     "output_type": "execute_result"
    }
   ],
   "source": [
    "unii = pd.read_csv(data_dir + '/UNIIs/UNII_Names_12Jan2020.TXT', delimiter='\\t')\n",
    "\n",
    "unii.tail(3)\n"
   ]
  },
  {
   "cell_type": "code",
   "execution_count": 52,
   "metadata": {},
   "outputs": [
    {
     "data": {
      "text/html": [
       "<div>\n",
       "<style scoped>\n",
       "    .dataframe tbody tr th:only-of-type {\n",
       "        vertical-align: middle;\n",
       "    }\n",
       "\n",
       "    .dataframe tbody tr th {\n",
       "        vertical-align: top;\n",
       "    }\n",
       "\n",
       "    .dataframe thead th {\n",
       "        text-align: right;\n",
       "    }\n",
       "</style>\n",
       "<table border=\"1\" class=\"dataframe\">\n",
       "  <thead>\n",
       "    <tr style=\"text-align: right;\">\n",
       "      <th></th>\n",
       "      <th>Name</th>\n",
       "      <th>TYPE</th>\n",
       "      <th>UNII</th>\n",
       "      <th>Display Name</th>\n",
       "    </tr>\n",
       "  </thead>\n",
       "  <tbody>\n",
       "    <tr>\n",
       "      <th>769932</th>\n",
       "      <td>N(SUP 1)-(4,6-BIETHYL-S-TRIAZIN-2-YL)SULFANILA...</td>\n",
       "      <td>cn</td>\n",
       "      <td>ZZZ3BU4OA7</td>\n",
       "      <td>SULFASYMAZINE</td>\n",
       "    </tr>\n",
       "    <tr>\n",
       "      <th>769933</th>\n",
       "      <td>SULFASYMAZINE [INN]</td>\n",
       "      <td>cn</td>\n",
       "      <td>ZZZ3BU4OA7</td>\n",
       "      <td>SULFASYMAZINE</td>\n",
       "    </tr>\n",
       "    <tr>\n",
       "      <th>769934</th>\n",
       "      <td>SULFASYMAZINE</td>\n",
       "      <td>of</td>\n",
       "      <td>ZZZ3BU4OA7</td>\n",
       "      <td>SULFASYMAZINE</td>\n",
       "    </tr>\n",
       "  </tbody>\n",
       "</table>\n",
       "</div>"
      ],
      "text/plain": [
       "                                                     Name TYPE        UNII  \\\n",
       "769932  N(SUP 1)-(4,6-BIETHYL-S-TRIAZIN-2-YL)SULFANILA...   cn  ZZZ3BU4OA7   \n",
       "769933                                SULFASYMAZINE [INN]   cn  ZZZ3BU4OA7   \n",
       "769934                                      SULFASYMAZINE   of  ZZZ3BU4OA7   \n",
       "\n",
       "         Display Name  \n",
       "769932  SULFASYMAZINE  \n",
       "769933  SULFASYMAZINE  \n",
       "769934  SULFASYMAZINE  "
      ]
     },
     "execution_count": 52,
     "metadata": {},
     "output_type": "execute_result"
    }
   ],
   "source": [
    "unii_2 = pd.read_csv(data_dir + '/UNIIs/UNII_Records_12Jan2020.txt', delimiter='\\t')\n",
    "\n",
    "unii.tail(3)\n"
   ]
  },
  {
   "cell_type": "code",
   "execution_count": 48,
   "metadata": {},
   "outputs": [
    {
     "data": {
      "text/plain": [
       "UNII               108277\n",
       "PT                 108277\n",
       "RN                  73815\n",
       "EC                  23048\n",
       "NCIT                14936\n",
       "RXCUI               11377\n",
       "PUBCHEM             61982\n",
       "ITIS                 8488\n",
       "NCBI                11870\n",
       "PLANTS               5915\n",
       "GRIN                10012\n",
       "MPNS                 9551\n",
       "INN_ID               9871\n",
       "MF                  39158\n",
       "INCHIKEY            60581\n",
       "SMILES              72066\n",
       "INGREDIENT_TYPE         5\n",
       "dtype: int64"
      ]
     },
     "execution_count": 48,
     "metadata": {},
     "output_type": "execute_result"
    }
   ],
   "source": [
    "unii.nunique()"
   ]
  },
  {
   "cell_type": "code",
   "execution_count": 54,
   "metadata": {},
   "outputs": [
    {
     "data": {
      "text/html": [
       "<div>\n",
       "<style scoped>\n",
       "    .dataframe tbody tr th:only-of-type {\n",
       "        vertical-align: middle;\n",
       "    }\n",
       "\n",
       "    .dataframe tbody tr th {\n",
       "        vertical-align: top;\n",
       "    }\n",
       "\n",
       "    .dataframe thead th {\n",
       "        text-align: right;\n",
       "    }\n",
       "</style>\n",
       "<table border=\"1\" class=\"dataframe\">\n",
       "  <thead>\n",
       "    <tr style=\"text-align: right;\">\n",
       "      <th></th>\n",
       "      <th>DRUG_PRODUCT_INGREDIENT_ID</th>\n",
       "      <th>DRUG_PRODUCT_ID</th>\n",
       "      <th>DRUGNAME</th>\n",
       "      <th>ACTIVE_INGREDIENT_ID</th>\n",
       "      <th>ACTIVE_INGREDIENT_NAME</th>\n",
       "    </tr>\n",
       "  </thead>\n",
       "  <tbody>\n",
       "    <tr>\n",
       "      <th>6762</th>\n",
       "      <td>2268705011136</td>\n",
       "      <td>22687</td>\n",
       "      <td>SODIUM FERRIC GLUCONATE COMPLEX</td>\n",
       "      <td>5011136</td>\n",
       "      <td>SODIUM FERRIC GLUCONATE COMPLEX</td>\n",
       "    </tr>\n",
       "    <tr>\n",
       "      <th>178701</th>\n",
       "      <td>2135905011752</td>\n",
       "      <td>21359</td>\n",
       "      <td>DEFIBROTIDE</td>\n",
       "      <td>5011752</td>\n",
       "      <td>DEFIBROTIDE SODIUM</td>\n",
       "    </tr>\n",
       "  </tbody>\n",
       "</table>\n",
       "</div>"
      ],
      "text/plain": [
       "       DRUG_PRODUCT_INGREDIENT_ID DRUG_PRODUCT_ID  \\\n",
       "6762                2268705011136           22687   \n",
       "178701              2135905011752           21359   \n",
       "\n",
       "                               DRUGNAME ACTIVE_INGREDIENT_ID  \\\n",
       "6762    SODIUM FERRIC GLUCONATE COMPLEX              5011136   \n",
       "178701                      DEFIBROTIDE              5011752   \n",
       "\n",
       "                 ACTIVE_INGREDIENT_NAME  \n",
       "6762    SODIUM FERRIC GLUCONATE COMPLEX  \n",
       "178701               DEFIBROTIDE SODIUM  "
      ]
     },
     "execution_count": 54,
     "metadata": {},
     "output_type": "execute_result"
    }
   ],
   "source": [
    "# check for active ingreident in UNII 'Display Name'\n",
    "\n",
    "drug_product_ingredients[drug_product_ingredients['ACTIVE_INGREDIENT_NAME'].isin(unii['Display Name'].str.upper())]\n"
   ]
  },
  {
   "cell_type": "markdown",
   "metadata": {},
   "source": [
    "# Check for external links in DrugBank\n"
   ]
  },
  {
   "cell_type": "code",
   "execution_count": null,
   "metadata": {},
   "outputs": [],
   "source": []
  }
 ],
 "metadata": {
  "kernelspec": {
   "display_name": "Python 3",
   "language": "python",
   "name": "python3"
  },
  "language_info": {
   "codemirror_mode": {
    "name": "ipython",
    "version": 3
   },
   "file_extension": ".py",
   "mimetype": "text/x-python",
   "name": "python",
   "nbconvert_exporter": "python",
   "pygments_lexer": "ipython3",
   "version": "3.7.6"
  }
 },
 "nbformat": 4,
 "nbformat_minor": 4
}
