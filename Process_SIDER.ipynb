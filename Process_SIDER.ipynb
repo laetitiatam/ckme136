{
 "cells": [
  {
   "cell_type": "markdown",
   "metadata": {},
   "source": [
    "# SIDER Processing \n",
    "\n",
    "**Author:** Laetitia Tam\n",
    "\n",
    "**Last Modified**: 2020-03-06\n",
    "\n",
    "In this notebook, files from the SIDER dataset are imported and merged. Preliminary data cleaning is performed. "
   ]
  },
  {
   "cell_type": "code",
   "execution_count": 11,
   "metadata": {},
   "outputs": [],
   "source": [
    "# Import libraries\n",
    "\n",
    "import pandas as pd\n",
    "import numpy as np"
   ]
  },
  {
   "cell_type": "code",
   "execution_count": 12,
   "metadata": {},
   "outputs": [],
   "source": [
    "pd.set_option('display.max_columns', 1000)"
   ]
  },
  {
   "cell_type": "code",
   "execution_count": 13,
   "metadata": {},
   "outputs": [],
   "source": [
    "data_dir = '../data//'"
   ]
  },
  {
   "cell_type": "code",
   "execution_count": 14,
   "metadata": {},
   "outputs": [],
   "source": [
    "# load all drug-side effect pairs\n",
    "\n",
    "meddra_all_se = pd.read_csv(data_dir + 'sider/meddra_all_se.tsv', delimiter='\\t', header=None,\n",
    "                                          names=['STITCH_FLAT','STITCH_STEREO', 'UMLS_CONCEPT_ID_LABEL','MEDDRA_CONCEPT_TYPE','UMLS_CONCEPT_ID_MEDDDRA','SE'])"
   ]
  },
  {
   "cell_type": "code",
   "execution_count": 15,
   "metadata": {},
   "outputs": [
    {
     "data": {
      "text/html": [
       "<div>\n",
       "<style scoped>\n",
       "    .dataframe tbody tr th:only-of-type {\n",
       "        vertical-align: middle;\n",
       "    }\n",
       "\n",
       "    .dataframe tbody tr th {\n",
       "        vertical-align: top;\n",
       "    }\n",
       "\n",
       "    .dataframe thead th {\n",
       "        text-align: right;\n",
       "    }\n",
       "</style>\n",
       "<table border=\"1\" class=\"dataframe\">\n",
       "  <thead>\n",
       "    <tr style=\"text-align: right;\">\n",
       "      <th></th>\n",
       "      <th>STITCH_FLAT</th>\n",
       "      <th>STITCH_STEREO</th>\n",
       "      <th>UMLS_CONCEPT_ID_LABEL</th>\n",
       "      <th>MEDDRA_CONCEPT_TYPE</th>\n",
       "      <th>UMLS_CONCEPT_ID_MEDDDRA</th>\n",
       "      <th>SE</th>\n",
       "    </tr>\n",
       "  </thead>\n",
       "  <tbody>\n",
       "    <tr>\n",
       "      <th>0</th>\n",
       "      <td>CID100000085</td>\n",
       "      <td>CID000010917</td>\n",
       "      <td>C0000729</td>\n",
       "      <td>LLT</td>\n",
       "      <td>C0000729</td>\n",
       "      <td>Abdominal cramps</td>\n",
       "    </tr>\n",
       "    <tr>\n",
       "      <th>1</th>\n",
       "      <td>CID100000085</td>\n",
       "      <td>CID000010917</td>\n",
       "      <td>C0000729</td>\n",
       "      <td>PT</td>\n",
       "      <td>C0000737</td>\n",
       "      <td>Abdominal pain</td>\n",
       "    </tr>\n",
       "    <tr>\n",
       "      <th>2</th>\n",
       "      <td>CID100000085</td>\n",
       "      <td>CID000010917</td>\n",
       "      <td>C0000737</td>\n",
       "      <td>LLT</td>\n",
       "      <td>C0000737</td>\n",
       "      <td>Abdominal pain</td>\n",
       "    </tr>\n",
       "    <tr>\n",
       "      <th>3</th>\n",
       "      <td>CID100000085</td>\n",
       "      <td>CID000010917</td>\n",
       "      <td>C0000737</td>\n",
       "      <td>PT</td>\n",
       "      <td>C0687713</td>\n",
       "      <td>Gastrointestinal pain</td>\n",
       "    </tr>\n",
       "    <tr>\n",
       "      <th>4</th>\n",
       "      <td>CID100000085</td>\n",
       "      <td>CID000010917</td>\n",
       "      <td>C0000737</td>\n",
       "      <td>PT</td>\n",
       "      <td>C0000737</td>\n",
       "      <td>Abdominal pain</td>\n",
       "    </tr>\n",
       "  </tbody>\n",
       "</table>\n",
       "</div>"
      ],
      "text/plain": [
       "    STITCH_FLAT STITCH_STEREO UMLS_CONCEPT_ID_LABEL MEDDRA_CONCEPT_TYPE  \\\n",
       "0  CID100000085  CID000010917              C0000729                 LLT   \n",
       "1  CID100000085  CID000010917              C0000729                  PT   \n",
       "2  CID100000085  CID000010917              C0000737                 LLT   \n",
       "3  CID100000085  CID000010917              C0000737                  PT   \n",
       "4  CID100000085  CID000010917              C0000737                  PT   \n",
       "\n",
       "  UMLS_CONCEPT_ID_MEDDDRA                     SE  \n",
       "0                C0000729       Abdominal cramps  \n",
       "1                C0000737         Abdominal pain  \n",
       "2                C0000737         Abdominal pain  \n",
       "3                C0687713  Gastrointestinal pain  \n",
       "4                C0000737         Abdominal pain  "
      ]
     },
     "execution_count": 15,
     "metadata": {},
     "output_type": "execute_result"
    }
   ],
   "source": [
    "meddra_all_se.head()"
   ]
  },
  {
   "cell_type": "code",
   "execution_count": 16,
   "metadata": {},
   "outputs": [
    {
     "data": {
      "text/plain": [
       "(309849, 6)"
      ]
     },
     "execution_count": 16,
     "metadata": {},
     "output_type": "execute_result"
    }
   ],
   "source": [
    "meddra_all_se.shape"
   ]
  },
  {
   "cell_type": "code",
   "execution_count": 17,
   "metadata": {},
   "outputs": [
    {
     "data": {
      "text/plain": [
       "STITCH_FLAT                1430\n",
       "STITCH_STEREO              1556\n",
       "UMLS_CONCEPT_ID_LABEL      5868\n",
       "MEDDRA_CONCEPT_TYPE           2\n",
       "UMLS_CONCEPT_ID_MEDDDRA    6060\n",
       "SE                         6123\n",
       "dtype: int64"
      ]
     },
     "execution_count": 17,
     "metadata": {},
     "output_type": "execute_result"
    }
   ],
   "source": [
    "meddra_all_se.nunique()"
   ]
  },
  {
   "cell_type": "code",
   "execution_count": 18,
   "metadata": {},
   "outputs": [
    {
     "data": {
      "text/plain": [
       "SE\n",
       "Dizziness     1758\n",
       "Asthenia      1513\n",
       "Dermatitis    1433\n",
       "Nausea        1302\n",
       "Rash          1250\n",
       "Name: SE, dtype: int64"
      ]
     },
     "execution_count": 18,
     "metadata": {},
     "output_type": "execute_result"
    }
   ],
   "source": [
    "# have a look at the top side effects. \n",
    "# Filter for PT (MedDRA Preferred Terms)\n",
    "\n",
    "all_se_pt = meddra_all_se[meddra_all_se['MEDDRA_CONCEPT_TYPE']=='PT']\n",
    "\n",
    "top_se_pt = all_se_pt.groupby('SE')['SE'].count().sort_values(ascending=False)\n",
    "\n",
    "top_se_pt.head()"
   ]
  },
  {
   "cell_type": "code",
   "execution_count": 19,
   "metadata": {},
   "outputs": [
    {
     "data": {
      "text/plain": [
       "SE\n",
       "Nausea       1299\n",
       "Headache     1197\n",
       "Vomiting     1170\n",
       "Rash         1153\n",
       "Dizziness    1068\n",
       "Name: SE, dtype: int64"
      ]
     },
     "execution_count": 19,
     "metadata": {},
     "output_type": "execute_result"
    }
   ],
   "source": [
    "# Check the LLT (lowest level terms) for comparison\n",
    "\n",
    "all_se_llt = meddra_all_se[meddra_all_se['MEDDRA_CONCEPT_TYPE']=='LLT']\n",
    "top_se_llt = all_se_llt.groupby('SE')['SE'].count().sort_values(ascending=False)\n",
    "top_se_llt.head()"
   ]
  },
  {
   "cell_type": "code",
   "execution_count": 20,
   "metadata": {},
   "outputs": [],
   "source": [
    "# Import drug names and ATC code files for linking with the side effect file\n",
    "\n",
    "drug_names = pd.read_csv(data_dir + 'sider/drug_names.tsv', delimiter='\\t', names=['CID','DRUG'])\n",
    "atc = pd.read_csv(data_dir + 'sider/drug_atc.tsv', delimiter='\\t', names=['CID','ATC'])"
   ]
  },
  {
   "cell_type": "code",
   "execution_count": 21,
   "metadata": {},
   "outputs": [
    {
     "data": {
      "text/html": [
       "<div>\n",
       "<style scoped>\n",
       "    .dataframe tbody tr th:only-of-type {\n",
       "        vertical-align: middle;\n",
       "    }\n",
       "\n",
       "    .dataframe tbody tr th {\n",
       "        vertical-align: top;\n",
       "    }\n",
       "\n",
       "    .dataframe thead th {\n",
       "        text-align: right;\n",
       "    }\n",
       "</style>\n",
       "<table border=\"1\" class=\"dataframe\">\n",
       "  <thead>\n",
       "    <tr style=\"text-align: right;\">\n",
       "      <th></th>\n",
       "      <th>CID</th>\n",
       "      <th>DRUG</th>\n",
       "    </tr>\n",
       "  </thead>\n",
       "  <tbody>\n",
       "    <tr>\n",
       "      <th>0</th>\n",
       "      <td>CID100000085</td>\n",
       "      <td>carnitine</td>\n",
       "    </tr>\n",
       "    <tr>\n",
       "      <th>1</th>\n",
       "      <td>CID100000119</td>\n",
       "      <td>gamma-aminobutyric</td>\n",
       "    </tr>\n",
       "    <tr>\n",
       "      <th>2</th>\n",
       "      <td>CID100000137</td>\n",
       "      <td>5-aminolevulinic</td>\n",
       "    </tr>\n",
       "    <tr>\n",
       "      <th>3</th>\n",
       "      <td>CID100000143</td>\n",
       "      <td>leucovorin</td>\n",
       "    </tr>\n",
       "    <tr>\n",
       "      <th>4</th>\n",
       "      <td>CID100000146</td>\n",
       "      <td>5-methyltetrahydrofolate</td>\n",
       "    </tr>\n",
       "  </tbody>\n",
       "</table>\n",
       "</div>"
      ],
      "text/plain": [
       "            CID                      DRUG\n",
       "0  CID100000085                 carnitine\n",
       "1  CID100000119        gamma-aminobutyric\n",
       "2  CID100000137          5-aminolevulinic\n",
       "3  CID100000143                leucovorin\n",
       "4  CID100000146  5-methyltetrahydrofolate"
      ]
     },
     "execution_count": 21,
     "metadata": {},
     "output_type": "execute_result"
    }
   ],
   "source": [
    "drug_names.head()"
   ]
  },
  {
   "cell_type": "code",
   "execution_count": 22,
   "metadata": {},
   "outputs": [
    {
     "data": {
      "text/plain": [
       "(1430, 2)"
      ]
     },
     "execution_count": 22,
     "metadata": {},
     "output_type": "execute_result"
    }
   ],
   "source": [
    "drug_names.shape"
   ]
  },
  {
   "cell_type": "code",
   "execution_count": 23,
   "metadata": {},
   "outputs": [
    {
     "data": {
      "text/html": [
       "<div>\n",
       "<style scoped>\n",
       "    .dataframe tbody tr th:only-of-type {\n",
       "        vertical-align: middle;\n",
       "    }\n",
       "\n",
       "    .dataframe tbody tr th {\n",
       "        vertical-align: top;\n",
       "    }\n",
       "\n",
       "    .dataframe thead th {\n",
       "        text-align: right;\n",
       "    }\n",
       "</style>\n",
       "<table border=\"1\" class=\"dataframe\">\n",
       "  <thead>\n",
       "    <tr style=\"text-align: right;\">\n",
       "      <th></th>\n",
       "      <th>CID</th>\n",
       "      <th>ATC</th>\n",
       "    </tr>\n",
       "  </thead>\n",
       "  <tbody>\n",
       "    <tr>\n",
       "      <th>0</th>\n",
       "      <td>CID100000085</td>\n",
       "      <td>A16AA01</td>\n",
       "    </tr>\n",
       "    <tr>\n",
       "      <th>1</th>\n",
       "      <td>CID100000119</td>\n",
       "      <td>L03AA03</td>\n",
       "    </tr>\n",
       "    <tr>\n",
       "      <th>2</th>\n",
       "      <td>CID100000119</td>\n",
       "      <td>N03AG03</td>\n",
       "    </tr>\n",
       "    <tr>\n",
       "      <th>3</th>\n",
       "      <td>CID100000137</td>\n",
       "      <td>L01XD04</td>\n",
       "    </tr>\n",
       "    <tr>\n",
       "      <th>4</th>\n",
       "      <td>CID100000143</td>\n",
       "      <td>V03AF03</td>\n",
       "    </tr>\n",
       "  </tbody>\n",
       "</table>\n",
       "</div>"
      ],
      "text/plain": [
       "            CID      ATC\n",
       "0  CID100000085  A16AA01\n",
       "1  CID100000119  L03AA03\n",
       "2  CID100000119  N03AG03\n",
       "3  CID100000137  L01XD04\n",
       "4  CID100000143  V03AF03"
      ]
     },
     "execution_count": 23,
     "metadata": {},
     "output_type": "execute_result"
    }
   ],
   "source": [
    "atc.head()"
   ]
  },
  {
   "cell_type": "code",
   "execution_count": 24,
   "metadata": {},
   "outputs": [
    {
     "data": {
      "text/plain": [
       "(1560, 2)"
      ]
     },
     "execution_count": 24,
     "metadata": {},
     "output_type": "execute_result"
    }
   ],
   "source": [
    "atc.shape"
   ]
  },
  {
   "cell_type": "code",
   "execution_count": 25,
   "metadata": {},
   "outputs": [
    {
     "data": {
      "text/html": [
       "<div>\n",
       "<style scoped>\n",
       "    .dataframe tbody tr th:only-of-type {\n",
       "        vertical-align: middle;\n",
       "    }\n",
       "\n",
       "    .dataframe tbody tr th {\n",
       "        vertical-align: top;\n",
       "    }\n",
       "\n",
       "    .dataframe thead th {\n",
       "        text-align: right;\n",
       "    }\n",
       "</style>\n",
       "<table border=\"1\" class=\"dataframe\">\n",
       "  <thead>\n",
       "    <tr style=\"text-align: right;\">\n",
       "      <th></th>\n",
       "      <th>CID</th>\n",
       "      <th>DRUG</th>\n",
       "      <th>ATC</th>\n",
       "    </tr>\n",
       "  </thead>\n",
       "  <tbody>\n",
       "    <tr>\n",
       "      <th>0</th>\n",
       "      <td>CID100000085</td>\n",
       "      <td>carnitine</td>\n",
       "      <td>A16AA01</td>\n",
       "    </tr>\n",
       "    <tr>\n",
       "      <th>1</th>\n",
       "      <td>CID100000119</td>\n",
       "      <td>gamma-aminobutyric</td>\n",
       "      <td>L03AA03</td>\n",
       "    </tr>\n",
       "    <tr>\n",
       "      <th>2</th>\n",
       "      <td>CID100000119</td>\n",
       "      <td>gamma-aminobutyric</td>\n",
       "      <td>N03AG03</td>\n",
       "    </tr>\n",
       "    <tr>\n",
       "      <th>3</th>\n",
       "      <td>CID100000137</td>\n",
       "      <td>5-aminolevulinic</td>\n",
       "      <td>L01XD04</td>\n",
       "    </tr>\n",
       "    <tr>\n",
       "      <th>4</th>\n",
       "      <td>CID100000143</td>\n",
       "      <td>leucovorin</td>\n",
       "      <td>V03AF03</td>\n",
       "    </tr>\n",
       "  </tbody>\n",
       "</table>\n",
       "</div>"
      ],
      "text/plain": [
       "            CID                DRUG      ATC\n",
       "0  CID100000085           carnitine  A16AA01\n",
       "1  CID100000119  gamma-aminobutyric  L03AA03\n",
       "2  CID100000119  gamma-aminobutyric  N03AG03\n",
       "3  CID100000137    5-aminolevulinic  L01XD04\n",
       "4  CID100000143          leucovorin  V03AF03"
      ]
     },
     "execution_count": 25,
     "metadata": {},
     "output_type": "execute_result"
    }
   ],
   "source": [
    "# merge the atc codes to the drugs\n",
    "drug_atc = drug_names.merge(atc, how='left')\n",
    "drug_atc.head()"
   ]
  },
  {
   "cell_type": "code",
   "execution_count": 26,
   "metadata": {},
   "outputs": [
    {
     "data": {
      "text/plain": [
       "CID     1430\n",
       "DRUG    1347\n",
       "ATC     1560\n",
       "dtype: int64"
      ]
     },
     "execution_count": 26,
     "metadata": {},
     "output_type": "execute_result"
    }
   ],
   "source": [
    "drug_atc.nunique()"
   ]
  },
  {
   "cell_type": "code",
   "execution_count": 27,
   "metadata": {},
   "outputs": [
    {
     "data": {
      "text/plain": [
       "DRUG\n",
       "dexamethasone    22\n",
       "Insulin          13\n",
       "glucose          12\n",
       "neomycin         12\n",
       "sodium           11\n",
       "                 ..\n",
       "edrophonium       0\n",
       "spinosad          0\n",
       "pemirolast        0\n",
       "ecallantide       0\n",
       "phenylbutyric     0\n",
       "Name: ATC, Length: 1347, dtype: int64"
      ]
     },
     "execution_count": 27,
     "metadata": {},
     "output_type": "execute_result"
    }
   ],
   "source": [
    "# drugs with more than one ATC\n",
    "\n",
    "drug_atc.groupby('DRUG')['ATC'].count().sort_values(ascending=False)"
   ]
  },
  {
   "cell_type": "code",
   "execution_count": 28,
   "metadata": {},
   "outputs": [],
   "source": [
    "# create merge all dataframes together\n",
    "\n",
    "sider = drug_atc.merge(meddra_all_se, how='right', left_on='CID', right_on='STITCH_FLAT')"
   ]
  },
  {
   "cell_type": "code",
   "execution_count": 29,
   "metadata": {},
   "outputs": [
    {
     "data": {
      "text/html": [
       "<div>\n",
       "<style scoped>\n",
       "    .dataframe tbody tr th:only-of-type {\n",
       "        vertical-align: middle;\n",
       "    }\n",
       "\n",
       "    .dataframe tbody tr th {\n",
       "        vertical-align: top;\n",
       "    }\n",
       "\n",
       "    .dataframe thead th {\n",
       "        text-align: right;\n",
       "    }\n",
       "</style>\n",
       "<table border=\"1\" class=\"dataframe\">\n",
       "  <thead>\n",
       "    <tr style=\"text-align: right;\">\n",
       "      <th></th>\n",
       "      <th>CID</th>\n",
       "      <th>DRUG</th>\n",
       "      <th>ATC</th>\n",
       "      <th>STITCH_FLAT</th>\n",
       "      <th>STITCH_STEREO</th>\n",
       "      <th>UMLS_CONCEPT_ID_LABEL</th>\n",
       "      <th>MEDDRA_CONCEPT_TYPE</th>\n",
       "      <th>UMLS_CONCEPT_ID_MEDDDRA</th>\n",
       "      <th>SE</th>\n",
       "    </tr>\n",
       "  </thead>\n",
       "  <tbody>\n",
       "    <tr>\n",
       "      <th>0</th>\n",
       "      <td>CID100000085</td>\n",
       "      <td>carnitine</td>\n",
       "      <td>A16AA01</td>\n",
       "      <td>CID100000085</td>\n",
       "      <td>CID000010917</td>\n",
       "      <td>C0000729</td>\n",
       "      <td>LLT</td>\n",
       "      <td>C0000729</td>\n",
       "      <td>Abdominal cramps</td>\n",
       "    </tr>\n",
       "    <tr>\n",
       "      <th>1</th>\n",
       "      <td>CID100000085</td>\n",
       "      <td>carnitine</td>\n",
       "      <td>A16AA01</td>\n",
       "      <td>CID100000085</td>\n",
       "      <td>CID000010917</td>\n",
       "      <td>C0000729</td>\n",
       "      <td>PT</td>\n",
       "      <td>C0000737</td>\n",
       "      <td>Abdominal pain</td>\n",
       "    </tr>\n",
       "    <tr>\n",
       "      <th>2</th>\n",
       "      <td>CID100000085</td>\n",
       "      <td>carnitine</td>\n",
       "      <td>A16AA01</td>\n",
       "      <td>CID100000085</td>\n",
       "      <td>CID000010917</td>\n",
       "      <td>C0000737</td>\n",
       "      <td>LLT</td>\n",
       "      <td>C0000737</td>\n",
       "      <td>Abdominal pain</td>\n",
       "    </tr>\n",
       "    <tr>\n",
       "      <th>3</th>\n",
       "      <td>CID100000085</td>\n",
       "      <td>carnitine</td>\n",
       "      <td>A16AA01</td>\n",
       "      <td>CID100000085</td>\n",
       "      <td>CID000010917</td>\n",
       "      <td>C0000737</td>\n",
       "      <td>PT</td>\n",
       "      <td>C0687713</td>\n",
       "      <td>Gastrointestinal pain</td>\n",
       "    </tr>\n",
       "    <tr>\n",
       "      <th>4</th>\n",
       "      <td>CID100000085</td>\n",
       "      <td>carnitine</td>\n",
       "      <td>A16AA01</td>\n",
       "      <td>CID100000085</td>\n",
       "      <td>CID000010917</td>\n",
       "      <td>C0000737</td>\n",
       "      <td>PT</td>\n",
       "      <td>C0000737</td>\n",
       "      <td>Abdominal pain</td>\n",
       "    </tr>\n",
       "  </tbody>\n",
       "</table>\n",
       "</div>"
      ],
      "text/plain": [
       "            CID       DRUG      ATC   STITCH_FLAT STITCH_STEREO  \\\n",
       "0  CID100000085  carnitine  A16AA01  CID100000085  CID000010917   \n",
       "1  CID100000085  carnitine  A16AA01  CID100000085  CID000010917   \n",
       "2  CID100000085  carnitine  A16AA01  CID100000085  CID000010917   \n",
       "3  CID100000085  carnitine  A16AA01  CID100000085  CID000010917   \n",
       "4  CID100000085  carnitine  A16AA01  CID100000085  CID000010917   \n",
       "\n",
       "  UMLS_CONCEPT_ID_LABEL MEDDRA_CONCEPT_TYPE UMLS_CONCEPT_ID_MEDDDRA  \\\n",
       "0              C0000729                 LLT                C0000729   \n",
       "1              C0000729                  PT                C0000737   \n",
       "2              C0000737                 LLT                C0000737   \n",
       "3              C0000737                  PT                C0687713   \n",
       "4              C0000737                  PT                C0000737   \n",
       "\n",
       "                      SE  \n",
       "0       Abdominal cramps  \n",
       "1         Abdominal pain  \n",
       "2         Abdominal pain  \n",
       "3  Gastrointestinal pain  \n",
       "4         Abdominal pain  "
      ]
     },
     "execution_count": 29,
     "metadata": {},
     "output_type": "execute_result"
    }
   ],
   "source": [
    "sider.head()"
   ]
  },
  {
   "cell_type": "code",
   "execution_count": 30,
   "metadata": {},
   "outputs": [
    {
     "data": {
      "text/plain": [
       "(426780, 9)"
      ]
     },
     "execution_count": 30,
     "metadata": {},
     "output_type": "execute_result"
    }
   ],
   "source": [
    "sider.shape"
   ]
  },
  {
   "cell_type": "code",
   "execution_count": 31,
   "metadata": {},
   "outputs": [
    {
     "data": {
      "text/plain": [
       "(309849, 6)"
      ]
     },
     "execution_count": 31,
     "metadata": {},
     "output_type": "execute_result"
    }
   ],
   "source": [
    "meddra_all_se.shape"
   ]
  },
  {
   "cell_type": "code",
   "execution_count": 32,
   "metadata": {},
   "outputs": [
    {
     "data": {
      "text/plain": [
       "CID                        1430\n",
       "DRUG                       1347\n",
       "ATC                        1560\n",
       "STITCH_FLAT                1430\n",
       "STITCH_STEREO              1556\n",
       "UMLS_CONCEPT_ID_LABEL      5868\n",
       "MEDDRA_CONCEPT_TYPE           2\n",
       "UMLS_CONCEPT_ID_MEDDDRA    6060\n",
       "SE                         6123\n",
       "dtype: int64"
      ]
     },
     "execution_count": 32,
     "metadata": {},
     "output_type": "execute_result"
    }
   ],
   "source": [
    "sider.nunique()"
   ]
  },
  {
   "cell_type": "markdown",
   "metadata": {},
   "source": [
    "## Match to CVADR Reactions"
   ]
  },
  {
   "cell_type": "code",
   "execution_count": 33,
   "metadata": {},
   "outputs": [],
   "source": [
    "# SIDER and CVADR both use MedDRA (PT) Preferred Terms for side effects, so they can be linked.\n",
    "# Filter the SIDER dataset to only the PTs available in CVADR. \n",
    "\n",
    "CVADR_reactions = pd.read_csv(data_dir + 'CVADR/reactions.txt', \n",
    "                            delimiter='$',\n",
    "                              \n",
    "                            header = None,\n",
    "                            names = ['REACTION_ID','REPORT_ID','DURATION','DURATION_UNIT_ENG','DURATION_UNIT_FR','PT_NAME_ENG','PT_NAME_FR','SOC_NAME_ENG','SOC_NAME_FR','MEDDRA_VERSION'],\n",
    "                            dtype = {'REACTION_ID':'object','REPORT_ID':'object'})\n"
   ]
  },
  {
   "cell_type": "code",
   "execution_count": 34,
   "metadata": {},
   "outputs": [],
   "source": [
    "CVADR_se_fltrd = CVADR_reactions[CVADR_reactions.PT_NAME_ENG.isin(meddra_all_se.SE)]"
   ]
  },
  {
   "cell_type": "code",
   "execution_count": 35,
   "metadata": {},
   "outputs": [],
   "source": [
    "reactions_matched = pd.DataFrame(CVADR_se_fltrd.nunique(), columns=['fltrd'])\n",
    "\n",
    "reactions_matched['all'] = CVADR_reactions.nunique()\n",
    "reactions_matched['pct_fltrd'] = reactions_matched['fltrd']/reactions_matched['all']"
   ]
  },
  {
   "cell_type": "code",
   "execution_count": 36,
   "metadata": {},
   "outputs": [
    {
     "data": {
      "text/html": [
       "<div>\n",
       "<style scoped>\n",
       "    .dataframe tbody tr th:only-of-type {\n",
       "        vertical-align: middle;\n",
       "    }\n",
       "\n",
       "    .dataframe tbody tr th {\n",
       "        vertical-align: top;\n",
       "    }\n",
       "\n",
       "    .dataframe thead th {\n",
       "        text-align: right;\n",
       "    }\n",
       "</style>\n",
       "<table border=\"1\" class=\"dataframe\">\n",
       "  <thead>\n",
       "    <tr style=\"text-align: right;\">\n",
       "      <th></th>\n",
       "      <th>fltrd</th>\n",
       "      <th>all</th>\n",
       "      <th>pct_fltrd</th>\n",
       "    </tr>\n",
       "  </thead>\n",
       "  <tbody>\n",
       "    <tr>\n",
       "      <th>REACTION_ID</th>\n",
       "      <td>2254455</td>\n",
       "      <td>2606282</td>\n",
       "      <td>0.865008</td>\n",
       "    </tr>\n",
       "    <tr>\n",
       "      <th>REPORT_ID</th>\n",
       "      <td>713703</td>\n",
       "      <td>750583</td>\n",
       "      <td>0.950865</td>\n",
       "    </tr>\n",
       "    <tr>\n",
       "      <th>DURATION</th>\n",
       "      <td>1431</td>\n",
       "      <td>1593</td>\n",
       "      <td>0.898305</td>\n",
       "    </tr>\n",
       "    <tr>\n",
       "      <th>DURATION_UNIT_ENG</th>\n",
       "      <td>9</td>\n",
       "      <td>9</td>\n",
       "      <td>1.000000</td>\n",
       "    </tr>\n",
       "    <tr>\n",
       "      <th>DURATION_UNIT_FR</th>\n",
       "      <td>9</td>\n",
       "      <td>9</td>\n",
       "      <td>1.000000</td>\n",
       "    </tr>\n",
       "    <tr>\n",
       "      <th>PT_NAME_ENG</th>\n",
       "      <td>3904</td>\n",
       "      <td>11993</td>\n",
       "      <td>0.325523</td>\n",
       "    </tr>\n",
       "    <tr>\n",
       "      <th>PT_NAME_FR</th>\n",
       "      <td>3904</td>\n",
       "      <td>11993</td>\n",
       "      <td>0.325523</td>\n",
       "    </tr>\n",
       "    <tr>\n",
       "      <th>SOC_NAME_ENG</th>\n",
       "      <td>27</td>\n",
       "      <td>27</td>\n",
       "      <td>1.000000</td>\n",
       "    </tr>\n",
       "    <tr>\n",
       "      <th>SOC_NAME_FR</th>\n",
       "      <td>27</td>\n",
       "      <td>27</td>\n",
       "      <td>1.000000</td>\n",
       "    </tr>\n",
       "    <tr>\n",
       "      <th>MEDDRA_VERSION</th>\n",
       "      <td>1</td>\n",
       "      <td>1</td>\n",
       "      <td>1.000000</td>\n",
       "    </tr>\n",
       "  </tbody>\n",
       "</table>\n",
       "</div>"
      ],
      "text/plain": [
       "                     fltrd      all  pct_fltrd\n",
       "REACTION_ID        2254455  2606282   0.865008\n",
       "REPORT_ID           713703   750583   0.950865\n",
       "DURATION              1431     1593   0.898305\n",
       "DURATION_UNIT_ENG        9        9   1.000000\n",
       "DURATION_UNIT_FR         9        9   1.000000\n",
       "PT_NAME_ENG           3904    11993   0.325523\n",
       "PT_NAME_FR            3904    11993   0.325523\n",
       "SOC_NAME_ENG            27       27   1.000000\n",
       "SOC_NAME_FR             27       27   1.000000\n",
       "MEDDRA_VERSION           1        1   1.000000"
      ]
     },
     "execution_count": 36,
     "metadata": {},
     "output_type": "execute_result"
    }
   ],
   "source": [
    "# Over > 65% of the PTs in CVADR do not appear in SIDER. \n",
    "# This is unexpected because CVADR and SIDER claim to use MedDRA PTs version 15 and 16.1, respectively, \n",
    "# so they should be reasonably consistent. \n",
    "# Most likely, the CVADR data is not particularly clean. \n",
    "# Still, 96% of reports and 89% of reactions are present after filtering.\n",
    "\n",
    "reactions_matched"
   ]
  },
  {
   "cell_type": "code",
   "execution_count": 37,
   "metadata": {},
   "outputs": [],
   "source": [
    "# Export the data for further processing\n",
    "\n",
    "sider_positives = sider[['DRUG', 'ATC', 'SE', 'UMLS_CONCEPT_ID_MEDDDRA']]\n",
    "sider_positives.to_csv(data_dir + 'sider_positives.csv')"
   ]
  }
 ],
 "metadata": {
  "kernelspec": {
   "display_name": "Python 3",
   "language": "python",
   "name": "python3"
  },
  "language_info": {
   "codemirror_mode": {
    "name": "ipython",
    "version": 3
   },
   "file_extension": ".py",
   "mimetype": "text/x-python",
   "name": "python",
   "nbconvert_exporter": "python",
   "pygments_lexer": "ipython3",
   "version": "3.7.6"
  }
 },
 "nbformat": 4,
 "nbformat_minor": 4
}
