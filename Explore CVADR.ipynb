{
 "cells": [
  {
   "cell_type": "code",
   "execution_count": 45,
   "metadata": {},
   "outputs": [],
   "source": [
    "# Import libraries\n",
    "\n",
    "import pandas as pd\n",
    "import numpy as np\n",
    "import seaborn as sns\n",
    "import matplotlib.pyplot as plt"
   ]
  },
  {
   "cell_type": "code",
   "execution_count": 46,
   "metadata": {},
   "outputs": [],
   "source": [
    "pd.set_option('display.max_columns', None)\n",
    "pd.set_option('display.max_columns', 1000)"
   ]
  },
  {
   "cell_type": "raw",
   "metadata": {},
   "source": [
    "#######\n",
    "OK, need to add another binary column that states whether the SE is true or false in SIDER\n",
    "Then when you actually do the modeling, you need to remove the active ingredient name as a variable becausne name itself should not be predictive. Use ATC instead.\n",
    "This way it becomes a single binary classificiation problem. \n",
    "#####"
   ]
  },
  {
   "cell_type": "markdown",
   "metadata": {},
   "source": [
    "1. Descriptive Stats"
   ]
  },
  {
   "cell_type": "code",
   "execution_count": 47,
   "metadata": {},
   "outputs": [
    {
     "data": {
      "text/html": [
       "<div>\n",
       "<style scoped>\n",
       "    .dataframe tbody tr th:only-of-type {\n",
       "        vertical-align: middle;\n",
       "    }\n",
       "\n",
       "    .dataframe tbody tr th {\n",
       "        vertical-align: top;\n",
       "    }\n",
       "\n",
       "    .dataframe thead th {\n",
       "        text-align: right;\n",
       "    }\n",
       "</style>\n",
       "<table border=\"1\" class=\"dataframe\">\n",
       "  <thead>\n",
       "    <tr style=\"text-align: right;\">\n",
       "      <th></th>\n",
       "      <th>ROW_ID</th>\n",
       "      <th>DRUG_NAME</th>\n",
       "      <th>MASS</th>\n",
       "      <th>ATC_LEVEL_2</th>\n",
       "      <th>ATC_VECTOR</th>\n",
       "      <th>TARGETS</th>\n",
       "      <th>TARGET_VECTOR</th>\n",
       "      <th>REPORT_NO</th>\n",
       "      <th>DATE_RECEIVED</th>\n",
       "      <th>REPORT_TYPE</th>\n",
       "      <th>GENDER</th>\n",
       "      <th>AGE</th>\n",
       "      <th>DEATH</th>\n",
       "      <th>DISABILITY</th>\n",
       "      <th>CONGENITAL_ANOMALY</th>\n",
       "      <th>LIFE_THREATENING</th>\n",
       "      <th>HOSP_REQUIRED</th>\n",
       "      <th>OTHER_MEDICALLY_IMP_COND</th>\n",
       "      <th>REPORTER_TYPE</th>\n",
       "      <th>SOURCE</th>\n",
       "      <th>WEIGHT_KG</th>\n",
       "      <th>INVOLVEMENT</th>\n",
       "      <th>ADMIN_ROUTE</th>\n",
       "      <th>DOSAGE_FORM</th>\n",
       "      <th>CONCOMITANT_DRUGS</th>\n",
       "      <th>ACTIVE_INGREDIENT</th>\n",
       "      <th>REACTION</th>\n",
       "      <th>SOC</th>\n",
       "      <th>SIDER</th>\n",
       "    </tr>\n",
       "  </thead>\n",
       "  <tbody>\n",
       "    <tr>\n",
       "      <th>0</th>\n",
       "      <td>0</td>\n",
       "      <td>BIVALIRUDIN</td>\n",
       "      <td>2180.2853</td>\n",
       "      <td>{'ANTITHROMBOTIC AGENTS': 1}</td>\n",
       "      <td>[0.0, 0.0, 0.0, 0.0, 0.0, 0.0, 0.0, 0.0, 0.0, ...</td>\n",
       "      <td>{'Prothrombin': 1}</td>\n",
       "      <td>[0.0, 0.0, 0.0, 0.0, 0.0, 0.0, 0.0, 0.0, 0.0, ...</td>\n",
       "      <td>223127</td>\n",
       "      <td>9/10/2007</td>\n",
       "      <td>Spontaneous</td>\n",
       "      <td>Female</td>\n",
       "      <td>38.0</td>\n",
       "      <td>NaN</td>\n",
       "      <td>NaN</td>\n",
       "      <td>NaN</td>\n",
       "      <td>NaN</td>\n",
       "      <td>NaN</td>\n",
       "      <td>NaN</td>\n",
       "      <td>Pharmacist</td>\n",
       "      <td>MAH</td>\n",
       "      <td>NaN</td>\n",
       "      <td>Suspect</td>\n",
       "      <td>Intravenous (not otherwise specified)</td>\n",
       "      <td>POWDER FOR SOLUTION INTRAVENOUS</td>\n",
       "      <td>0</td>\n",
       "      <td>BIVALIRUDIN</td>\n",
       "      <td>International normalised ratio increased</td>\n",
       "      <td>Investigations</td>\n",
       "      <td>False</td>\n",
       "    </tr>\n",
       "    <tr>\n",
       "      <th>1</th>\n",
       "      <td>1</td>\n",
       "      <td>BIVALIRUDIN</td>\n",
       "      <td>2180.2853</td>\n",
       "      <td>{'ANTITHROMBOTIC AGENTS': 1}</td>\n",
       "      <td>[0.0, 0.0, 0.0, 0.0, 0.0, 0.0, 0.0, 0.0, 0.0, ...</td>\n",
       "      <td>{'Prothrombin': 1}</td>\n",
       "      <td>[0.0, 0.0, 0.0, 0.0, 0.0, 0.0, 0.0, 0.0, 0.0, ...</td>\n",
       "      <td>223127</td>\n",
       "      <td>9/10/2007</td>\n",
       "      <td>Spontaneous</td>\n",
       "      <td>Female</td>\n",
       "      <td>38.0</td>\n",
       "      <td>NaN</td>\n",
       "      <td>NaN</td>\n",
       "      <td>NaN</td>\n",
       "      <td>NaN</td>\n",
       "      <td>NaN</td>\n",
       "      <td>NaN</td>\n",
       "      <td>Pharmacist</td>\n",
       "      <td>MAH</td>\n",
       "      <td>NaN</td>\n",
       "      <td>Suspect</td>\n",
       "      <td>Intravenous (not otherwise specified)</td>\n",
       "      <td>POWDER FOR SOLUTION INTRAVENOUS</td>\n",
       "      <td>0</td>\n",
       "      <td>BIVALIRUDIN</td>\n",
       "      <td>Drug ineffective</td>\n",
       "      <td>General disorders and administration site cond...</td>\n",
       "      <td>False</td>\n",
       "    </tr>\n",
       "  </tbody>\n",
       "</table>\n",
       "</div>"
      ],
      "text/plain": [
       "   ROW_ID    DRUG_NAME       MASS                   ATC_LEVEL_2  \\\n",
       "0       0  BIVALIRUDIN  2180.2853  {'ANTITHROMBOTIC AGENTS': 1}   \n",
       "1       1  BIVALIRUDIN  2180.2853  {'ANTITHROMBOTIC AGENTS': 1}   \n",
       "\n",
       "                                          ATC_VECTOR             TARGETS  \\\n",
       "0  [0.0, 0.0, 0.0, 0.0, 0.0, 0.0, 0.0, 0.0, 0.0, ...  {'Prothrombin': 1}   \n",
       "1  [0.0, 0.0, 0.0, 0.0, 0.0, 0.0, 0.0, 0.0, 0.0, ...  {'Prothrombin': 1}   \n",
       "\n",
       "                                       TARGET_VECTOR  REPORT_NO DATE_RECEIVED  \\\n",
       "0  [0.0, 0.0, 0.0, 0.0, 0.0, 0.0, 0.0, 0.0, 0.0, ...     223127     9/10/2007   \n",
       "1  [0.0, 0.0, 0.0, 0.0, 0.0, 0.0, 0.0, 0.0, 0.0, ...     223127     9/10/2007   \n",
       "\n",
       "   REPORT_TYPE  GENDER   AGE  DEATH  DISABILITY  CONGENITAL_ANOMALY  \\\n",
       "0  Spontaneous  Female  38.0    NaN         NaN                 NaN   \n",
       "1  Spontaneous  Female  38.0    NaN         NaN                 NaN   \n",
       "\n",
       "   LIFE_THREATENING  HOSP_REQUIRED  OTHER_MEDICALLY_IMP_COND REPORTER_TYPE  \\\n",
       "0               NaN            NaN                       NaN    Pharmacist   \n",
       "1               NaN            NaN                       NaN    Pharmacist   \n",
       "\n",
       "  SOURCE  WEIGHT_KG INVOLVEMENT                            ADMIN_ROUTE  \\\n",
       "0    MAH        NaN     Suspect  Intravenous (not otherwise specified)   \n",
       "1    MAH        NaN     Suspect  Intravenous (not otherwise specified)   \n",
       "\n",
       "                       DOSAGE_FORM  CONCOMITANT_DRUGS ACTIVE_INGREDIENT  \\\n",
       "0  POWDER FOR SOLUTION INTRAVENOUS                  0       BIVALIRUDIN   \n",
       "1  POWDER FOR SOLUTION INTRAVENOUS                  0       BIVALIRUDIN   \n",
       "\n",
       "                                   REACTION  \\\n",
       "0  International normalised ratio increased   \n",
       "1                          Drug ineffective   \n",
       "\n",
       "                                                 SOC  SIDER  \n",
       "0                                     Investigations  False  \n",
       "1  General disorders and administration site cond...  False  "
      ]
     },
     "execution_count": 47,
     "metadata": {},
     "output_type": "execute_result"
    }
   ],
   "source": [
    "data_dir = 'data\\\\'\n",
    "cvadr = pd.read_csv(data_dir + 'final_dataset.csv')\n",
    "cvadr.head(2)"
   ]
  },
  {
   "cell_type": "code",
   "execution_count": 48,
   "metadata": {},
   "outputs": [
    {
     "data": {
      "text/html": [
       "<div>\n",
       "<style scoped>\n",
       "    .dataframe tbody tr th:only-of-type {\n",
       "        vertical-align: middle;\n",
       "    }\n",
       "\n",
       "    .dataframe tbody tr th {\n",
       "        vertical-align: top;\n",
       "    }\n",
       "\n",
       "    .dataframe thead th {\n",
       "        text-align: right;\n",
       "    }\n",
       "</style>\n",
       "<table border=\"1\" class=\"dataframe\">\n",
       "  <thead>\n",
       "    <tr style=\"text-align: right;\">\n",
       "      <th></th>\n",
       "      <th>ROW_ID</th>\n",
       "      <th>DRUG_NAME</th>\n",
       "      <th>MASS</th>\n",
       "      <th>ATC_LEVEL_2</th>\n",
       "      <th>ATC_VECTOR</th>\n",
       "      <th>TARGETS</th>\n",
       "      <th>TARGET_VECTOR</th>\n",
       "      <th>REPORT_NO</th>\n",
       "      <th>DATE_RECEIVED</th>\n",
       "      <th>REPORT_TYPE</th>\n",
       "      <th>GENDER</th>\n",
       "      <th>AGE</th>\n",
       "      <th>DEATH</th>\n",
       "      <th>DISABILITY</th>\n",
       "      <th>CONGENITAL_ANOMALY</th>\n",
       "      <th>LIFE_THREATENING</th>\n",
       "      <th>HOSP_REQUIRED</th>\n",
       "      <th>OTHER_MEDICALLY_IMP_COND</th>\n",
       "      <th>REPORTER_TYPE</th>\n",
       "      <th>SOURCE</th>\n",
       "      <th>WEIGHT_KG</th>\n",
       "      <th>INVOLVEMENT</th>\n",
       "      <th>ADMIN_ROUTE</th>\n",
       "      <th>DOSAGE_FORM</th>\n",
       "      <th>CONCOMITANT_DRUGS</th>\n",
       "      <th>ACTIVE_INGREDIENT</th>\n",
       "      <th>REACTION</th>\n",
       "      <th>SOC</th>\n",
       "      <th>SIDER</th>\n",
       "    </tr>\n",
       "  </thead>\n",
       "  <tbody>\n",
       "    <tr>\n",
       "      <th>0</th>\n",
       "      <td>0</td>\n",
       "      <td>BIVALIRUDIN</td>\n",
       "      <td>2180.2853</td>\n",
       "      <td>{'ANTITHROMBOTIC AGENTS': 1}</td>\n",
       "      <td>[0.0, 0.0, 0.0, 0.0, 0.0, 0.0, 0.0, 0.0, 0.0, ...</td>\n",
       "      <td>{'Prothrombin': 1}</td>\n",
       "      <td>[0.0, 0.0, 0.0, 0.0, 0.0, 0.0, 0.0, 0.0, 0.0, ...</td>\n",
       "      <td>223127</td>\n",
       "      <td>9/10/2007</td>\n",
       "      <td>Spontaneous</td>\n",
       "      <td>Female</td>\n",
       "      <td>38.0</td>\n",
       "      <td>NaN</td>\n",
       "      <td>NaN</td>\n",
       "      <td>NaN</td>\n",
       "      <td>NaN</td>\n",
       "      <td>NaN</td>\n",
       "      <td>NaN</td>\n",
       "      <td>Pharmacist</td>\n",
       "      <td>MAH</td>\n",
       "      <td>NaN</td>\n",
       "      <td>Suspect</td>\n",
       "      <td>Intravenous (not otherwise specified)</td>\n",
       "      <td>POWDER FOR SOLUTION INTRAVENOUS</td>\n",
       "      <td>0</td>\n",
       "      <td>BIVALIRUDIN</td>\n",
       "      <td>International normalised ratio increased</td>\n",
       "      <td>Investigations</td>\n",
       "      <td>False</td>\n",
       "    </tr>\n",
       "    <tr>\n",
       "      <th>1</th>\n",
       "      <td>1</td>\n",
       "      <td>BIVALIRUDIN</td>\n",
       "      <td>2180.2853</td>\n",
       "      <td>{'ANTITHROMBOTIC AGENTS': 1}</td>\n",
       "      <td>[0.0, 0.0, 0.0, 0.0, 0.0, 0.0, 0.0, 0.0, 0.0, ...</td>\n",
       "      <td>{'Prothrombin': 1}</td>\n",
       "      <td>[0.0, 0.0, 0.0, 0.0, 0.0, 0.0, 0.0, 0.0, 0.0, ...</td>\n",
       "      <td>223127</td>\n",
       "      <td>9/10/2007</td>\n",
       "      <td>Spontaneous</td>\n",
       "      <td>Female</td>\n",
       "      <td>38.0</td>\n",
       "      <td>NaN</td>\n",
       "      <td>NaN</td>\n",
       "      <td>NaN</td>\n",
       "      <td>NaN</td>\n",
       "      <td>NaN</td>\n",
       "      <td>NaN</td>\n",
       "      <td>Pharmacist</td>\n",
       "      <td>MAH</td>\n",
       "      <td>NaN</td>\n",
       "      <td>Suspect</td>\n",
       "      <td>Intravenous (not otherwise specified)</td>\n",
       "      <td>POWDER FOR SOLUTION INTRAVENOUS</td>\n",
       "      <td>0</td>\n",
       "      <td>BIVALIRUDIN</td>\n",
       "      <td>Drug ineffective</td>\n",
       "      <td>General disorders and administration site cond...</td>\n",
       "      <td>False</td>\n",
       "    </tr>\n",
       "    <tr>\n",
       "      <th>2</th>\n",
       "      <td>2</td>\n",
       "      <td>BIVALIRUDIN</td>\n",
       "      <td>2180.2853</td>\n",
       "      <td>{'ANTITHROMBOTIC AGENTS': 1}</td>\n",
       "      <td>[0.0, 0.0, 0.0, 0.0, 0.0, 0.0, 0.0, 0.0, 0.0, ...</td>\n",
       "      <td>{'Prothrombin': 1}</td>\n",
       "      <td>[0.0, 0.0, 0.0, 0.0, 0.0, 0.0, 0.0, 0.0, 0.0, ...</td>\n",
       "      <td>226246</td>\n",
       "      <td>12/7/2007</td>\n",
       "      <td>Spontaneous</td>\n",
       "      <td>Male</td>\n",
       "      <td>76.0</td>\n",
       "      <td>NaN</td>\n",
       "      <td>NaN</td>\n",
       "      <td>NaN</td>\n",
       "      <td>NaN</td>\n",
       "      <td>NaN</td>\n",
       "      <td>NaN</td>\n",
       "      <td>Other health professional</td>\n",
       "      <td>MAH</td>\n",
       "      <td>NaN</td>\n",
       "      <td>Suspect</td>\n",
       "      <td>Intravenous (not otherwise specified)</td>\n",
       "      <td>POWDER FOR SOLUTION INTRAVENOUS</td>\n",
       "      <td>1</td>\n",
       "      <td>BIVALIRUDIN</td>\n",
       "      <td>Drug ineffective</td>\n",
       "      <td>General disorders and administration site cond...</td>\n",
       "      <td>False</td>\n",
       "    </tr>\n",
       "  </tbody>\n",
       "</table>\n",
       "</div>"
      ],
      "text/plain": [
       "   ROW_ID    DRUG_NAME       MASS                   ATC_LEVEL_2  \\\n",
       "0       0  BIVALIRUDIN  2180.2853  {'ANTITHROMBOTIC AGENTS': 1}   \n",
       "1       1  BIVALIRUDIN  2180.2853  {'ANTITHROMBOTIC AGENTS': 1}   \n",
       "2       2  BIVALIRUDIN  2180.2853  {'ANTITHROMBOTIC AGENTS': 1}   \n",
       "\n",
       "                                          ATC_VECTOR             TARGETS  \\\n",
       "0  [0.0, 0.0, 0.0, 0.0, 0.0, 0.0, 0.0, 0.0, 0.0, ...  {'Prothrombin': 1}   \n",
       "1  [0.0, 0.0, 0.0, 0.0, 0.0, 0.0, 0.0, 0.0, 0.0, ...  {'Prothrombin': 1}   \n",
       "2  [0.0, 0.0, 0.0, 0.0, 0.0, 0.0, 0.0, 0.0, 0.0, ...  {'Prothrombin': 1}   \n",
       "\n",
       "                                       TARGET_VECTOR  REPORT_NO DATE_RECEIVED  \\\n",
       "0  [0.0, 0.0, 0.0, 0.0, 0.0, 0.0, 0.0, 0.0, 0.0, ...     223127     9/10/2007   \n",
       "1  [0.0, 0.0, 0.0, 0.0, 0.0, 0.0, 0.0, 0.0, 0.0, ...     223127     9/10/2007   \n",
       "2  [0.0, 0.0, 0.0, 0.0, 0.0, 0.0, 0.0, 0.0, 0.0, ...     226246     12/7/2007   \n",
       "\n",
       "   REPORT_TYPE  GENDER   AGE  DEATH  DISABILITY  CONGENITAL_ANOMALY  \\\n",
       "0  Spontaneous  Female  38.0    NaN         NaN                 NaN   \n",
       "1  Spontaneous  Female  38.0    NaN         NaN                 NaN   \n",
       "2  Spontaneous    Male  76.0    NaN         NaN                 NaN   \n",
       "\n",
       "   LIFE_THREATENING  HOSP_REQUIRED  OTHER_MEDICALLY_IMP_COND  \\\n",
       "0               NaN            NaN                       NaN   \n",
       "1               NaN            NaN                       NaN   \n",
       "2               NaN            NaN                       NaN   \n",
       "\n",
       "               REPORTER_TYPE SOURCE  WEIGHT_KG INVOLVEMENT  \\\n",
       "0                 Pharmacist    MAH        NaN     Suspect   \n",
       "1                 Pharmacist    MAH        NaN     Suspect   \n",
       "2  Other health professional    MAH        NaN     Suspect   \n",
       "\n",
       "                             ADMIN_ROUTE                      DOSAGE_FORM  \\\n",
       "0  Intravenous (not otherwise specified)  POWDER FOR SOLUTION INTRAVENOUS   \n",
       "1  Intravenous (not otherwise specified)  POWDER FOR SOLUTION INTRAVENOUS   \n",
       "2  Intravenous (not otherwise specified)  POWDER FOR SOLUTION INTRAVENOUS   \n",
       "\n",
       "   CONCOMITANT_DRUGS ACTIVE_INGREDIENT  \\\n",
       "0                  0       BIVALIRUDIN   \n",
       "1                  0       BIVALIRUDIN   \n",
       "2                  1       BIVALIRUDIN   \n",
       "\n",
       "                                   REACTION  \\\n",
       "0  International normalised ratio increased   \n",
       "1                          Drug ineffective   \n",
       "2                          Drug ineffective   \n",
       "\n",
       "                                                 SOC  SIDER  \n",
       "0                                     Investigations  False  \n",
       "1  General disorders and administration site cond...  False  \n",
       "2  General disorders and administration site cond...  False  "
      ]
     },
     "execution_count": 48,
     "metadata": {},
     "output_type": "execute_result"
    }
   ],
   "source": [
    "cvadr = cvadr.rename(columns={'Unnamed: 0': 'ROW_ID'})\n",
    "cvadr.head(3)"
   ]
  },
  {
   "cell_type": "code",
   "execution_count": 50,
   "metadata": {},
   "outputs": [],
   "source": [
    "cvadr['DATE_RECEIVED'] = pd.to_datetime(cvadr['DATE_RECEIVED'] , yearfirst=True)"
   ]
  },
  {
   "cell_type": "code",
   "execution_count": 51,
   "metadata": {},
   "outputs": [
    {
     "data": {
      "text/plain": [
       "ROW_ID                      3\n",
       "DRUG_NAME                   1\n",
       "MASS                        1\n",
       "ATC_LEVEL_2                 1\n",
       "ATC_VECTOR                  1\n",
       "TARGETS                     1\n",
       "TARGET_VECTOR               1\n",
       "REPORT_NO                   1\n",
       "DATE_RECEIVED               1\n",
       "REPORT_TYPE                 1\n",
       "GENDER                      1\n",
       "AGE                         1\n",
       "DEATH                       1\n",
       "DISABILITY                  1\n",
       "CONGENITAL_ANOMALY          1\n",
       "LIFE_THREATENING            1\n",
       "HOSP_REQUIRED               1\n",
       "OTHER_MEDICALLY_IMP_COND    1\n",
       "REPORTER_TYPE               1\n",
       "SOURCE                      1\n",
       "WEIGHT_KG                   0\n",
       "INVOLVEMENT                 1\n",
       "ADMIN_ROUTE                 1\n",
       "DOSAGE_FORM                 1\n",
       "CONCOMITANT_DRUGS           1\n",
       "ACTIVE_INGREDIENT           1\n",
       "REACTION                    3\n",
       "SOC                         3\n",
       "SIDER                       1\n",
       "dtype: int64"
      ]
     },
     "execution_count": 51,
     "metadata": {},
     "output_type": "execute_result"
    }
   ],
   "source": [
    "cvadr.groupby('REPORT_NO').nunique().max()"
   ]
  },
  {
   "cell_type": "code",
   "execution_count": 52,
   "metadata": {},
   "outputs": [
    {
     "data": {
      "text/plain": [
       "DRUG_NAME\n",
       "POLYMYXIN B    1\n",
       "BIVALIRUDIN    1\n",
       "Name: ACTIVE_INGREDIENT, dtype: int64"
      ]
     },
     "execution_count": 52,
     "metadata": {},
     "output_type": "execute_result"
    }
   ],
   "source": [
    "cvadr.groupby('DRUG_NAME')['ACTIVE_INGREDIENT'].nunique().sort_values(ascending=False)"
   ]
  },
  {
   "cell_type": "code",
   "execution_count": 53,
   "metadata": {},
   "outputs": [
    {
     "data": {
      "text/html": [
       "<div>\n",
       "<style scoped>\n",
       "    .dataframe tbody tr th:only-of-type {\n",
       "        vertical-align: middle;\n",
       "    }\n",
       "\n",
       "    .dataframe tbody tr th {\n",
       "        vertical-align: top;\n",
       "    }\n",
       "\n",
       "    .dataframe thead th {\n",
       "        text-align: right;\n",
       "    }\n",
       "</style>\n",
       "<table border=\"1\" class=\"dataframe\">\n",
       "  <thead>\n",
       "    <tr style=\"text-align: right;\">\n",
       "      <th></th>\n",
       "      <th>DRUG_NAME</th>\n",
       "      <th>ACTIVE_INGREDIENT</th>\n",
       "    </tr>\n",
       "  </thead>\n",
       "  <tbody>\n",
       "  </tbody>\n",
       "</table>\n",
       "</div>"
      ],
      "text/plain": [
       "Empty DataFrame\n",
       "Columns: [DRUG_NAME, ACTIVE_INGREDIENT]\n",
       "Index: []"
      ]
     },
     "execution_count": 53,
     "metadata": {},
     "output_type": "execute_result"
    }
   ],
   "source": [
    "cvadr[cvadr['DRUG_NAME']=='IRON SUCROSE'][['DRUG_NAME','ACTIVE_INGREDIENT']].drop_duplicates()"
   ]
  },
  {
   "cell_type": "code",
   "execution_count": 54,
   "metadata": {},
   "outputs": [],
   "source": [
    "# ehh...nevermind the druplicates. dropping duplicates and "
   ]
  },
  {
   "cell_type": "code",
   "execution_count": null,
   "metadata": {},
   "outputs": [],
   "source": []
  },
  {
   "cell_type": "code",
   "execution_count": null,
   "metadata": {},
   "outputs": [],
   "source": []
  },
  {
   "cell_type": "markdown",
   "metadata": {},
   "source": [
    "### 1. Descriptive Stats"
   ]
  },
  {
   "cell_type": "code",
   "execution_count": 55,
   "metadata": {},
   "outputs": [],
   "source": [
    "# count\n",
    "# distinct count\n",
    "# null count\n",
    "# min/max\n",
    "\n",
    "count = cvadr.count()\n",
    "dcount = cvadr.nunique()\n",
    "ncount = cvadr.isna().sum()\n",
    "dtypes = cvadr.dtypes\n"
   ]
  },
  {
   "cell_type": "code",
   "execution_count": 56,
   "metadata": {},
   "outputs": [
    {
     "data": {
      "text/html": [
       "<style  type=\"text/css\" >\n",
       "</style><table id=\"T_1bad2130_5fb8_11ea_9189_98e743969085\" ><thead>    <tr>        <th class=\"blank level0\" ></th>        <th class=\"col_heading level0 col0\" >count</th>        <th class=\"col_heading level0 col1\" >empty</th>        <th class=\"col_heading level0 col2\" >unique count</th>        <th class=\"col_heading level0 col3\" >data type</th>        <th class=\"col_heading level0 col4\" >empty_%</th>    </tr></thead><tbody>\n",
       "                <tr>\n",
       "                        <th id=\"T_1bad2130_5fb8_11ea_9189_98e743969085level0_row0\" class=\"row_heading level0 row0\" >ROW_ID</th>\n",
       "                        <td id=\"T_1bad2130_5fb8_11ea_9189_98e743969085row0_col0\" class=\"data row0 col0\" >10</td>\n",
       "                        <td id=\"T_1bad2130_5fb8_11ea_9189_98e743969085row0_col1\" class=\"data row0 col1\" >0</td>\n",
       "                        <td id=\"T_1bad2130_5fb8_11ea_9189_98e743969085row0_col2\" class=\"data row0 col2\" >10</td>\n",
       "                        <td id=\"T_1bad2130_5fb8_11ea_9189_98e743969085row0_col3\" class=\"data row0 col3\" >int64</td>\n",
       "                        <td id=\"T_1bad2130_5fb8_11ea_9189_98e743969085row0_col4\" class=\"data row0 col4\" >0.00%</td>\n",
       "            </tr>\n",
       "            <tr>\n",
       "                        <th id=\"T_1bad2130_5fb8_11ea_9189_98e743969085level0_row1\" class=\"row_heading level0 row1\" >DRUG_NAME</th>\n",
       "                        <td id=\"T_1bad2130_5fb8_11ea_9189_98e743969085row1_col0\" class=\"data row1 col0\" >10</td>\n",
       "                        <td id=\"T_1bad2130_5fb8_11ea_9189_98e743969085row1_col1\" class=\"data row1 col1\" >0</td>\n",
       "                        <td id=\"T_1bad2130_5fb8_11ea_9189_98e743969085row1_col2\" class=\"data row1 col2\" >2</td>\n",
       "                        <td id=\"T_1bad2130_5fb8_11ea_9189_98e743969085row1_col3\" class=\"data row1 col3\" >object</td>\n",
       "                        <td id=\"T_1bad2130_5fb8_11ea_9189_98e743969085row1_col4\" class=\"data row1 col4\" >0.00%</td>\n",
       "            </tr>\n",
       "            <tr>\n",
       "                        <th id=\"T_1bad2130_5fb8_11ea_9189_98e743969085level0_row2\" class=\"row_heading level0 row2\" >MASS</th>\n",
       "                        <td id=\"T_1bad2130_5fb8_11ea_9189_98e743969085row2_col0\" class=\"data row2 col0\" >10</td>\n",
       "                        <td id=\"T_1bad2130_5fb8_11ea_9189_98e743969085row2_col1\" class=\"data row2 col1\" >0</td>\n",
       "                        <td id=\"T_1bad2130_5fb8_11ea_9189_98e743969085row2_col2\" class=\"data row2 col2\" >2</td>\n",
       "                        <td id=\"T_1bad2130_5fb8_11ea_9189_98e743969085row2_col3\" class=\"data row2 col3\" >float64</td>\n",
       "                        <td id=\"T_1bad2130_5fb8_11ea_9189_98e743969085row2_col4\" class=\"data row2 col4\" >0.00%</td>\n",
       "            </tr>\n",
       "            <tr>\n",
       "                        <th id=\"T_1bad2130_5fb8_11ea_9189_98e743969085level0_row3\" class=\"row_heading level0 row3\" >ATC_LEVEL_2</th>\n",
       "                        <td id=\"T_1bad2130_5fb8_11ea_9189_98e743969085row3_col0\" class=\"data row3 col0\" >10</td>\n",
       "                        <td id=\"T_1bad2130_5fb8_11ea_9189_98e743969085row3_col1\" class=\"data row3 col1\" >0</td>\n",
       "                        <td id=\"T_1bad2130_5fb8_11ea_9189_98e743969085row3_col2\" class=\"data row3 col2\" >2</td>\n",
       "                        <td id=\"T_1bad2130_5fb8_11ea_9189_98e743969085row3_col3\" class=\"data row3 col3\" >object</td>\n",
       "                        <td id=\"T_1bad2130_5fb8_11ea_9189_98e743969085row3_col4\" class=\"data row3 col4\" >0.00%</td>\n",
       "            </tr>\n",
       "            <tr>\n",
       "                        <th id=\"T_1bad2130_5fb8_11ea_9189_98e743969085level0_row4\" class=\"row_heading level0 row4\" >ATC_VECTOR</th>\n",
       "                        <td id=\"T_1bad2130_5fb8_11ea_9189_98e743969085row4_col0\" class=\"data row4 col0\" >10</td>\n",
       "                        <td id=\"T_1bad2130_5fb8_11ea_9189_98e743969085row4_col1\" class=\"data row4 col1\" >0</td>\n",
       "                        <td id=\"T_1bad2130_5fb8_11ea_9189_98e743969085row4_col2\" class=\"data row4 col2\" >1</td>\n",
       "                        <td id=\"T_1bad2130_5fb8_11ea_9189_98e743969085row4_col3\" class=\"data row4 col3\" >object</td>\n",
       "                        <td id=\"T_1bad2130_5fb8_11ea_9189_98e743969085row4_col4\" class=\"data row4 col4\" >0.00%</td>\n",
       "            </tr>\n",
       "            <tr>\n",
       "                        <th id=\"T_1bad2130_5fb8_11ea_9189_98e743969085level0_row5\" class=\"row_heading level0 row5\" >TARGETS</th>\n",
       "                        <td id=\"T_1bad2130_5fb8_11ea_9189_98e743969085row5_col0\" class=\"data row5 col0\" >10</td>\n",
       "                        <td id=\"T_1bad2130_5fb8_11ea_9189_98e743969085row5_col1\" class=\"data row5 col1\" >0</td>\n",
       "                        <td id=\"T_1bad2130_5fb8_11ea_9189_98e743969085row5_col2\" class=\"data row5 col2\" >2</td>\n",
       "                        <td id=\"T_1bad2130_5fb8_11ea_9189_98e743969085row5_col3\" class=\"data row5 col3\" >object</td>\n",
       "                        <td id=\"T_1bad2130_5fb8_11ea_9189_98e743969085row5_col4\" class=\"data row5 col4\" >0.00%</td>\n",
       "            </tr>\n",
       "            <tr>\n",
       "                        <th id=\"T_1bad2130_5fb8_11ea_9189_98e743969085level0_row6\" class=\"row_heading level0 row6\" >TARGET_VECTOR</th>\n",
       "                        <td id=\"T_1bad2130_5fb8_11ea_9189_98e743969085row6_col0\" class=\"data row6 col0\" >10</td>\n",
       "                        <td id=\"T_1bad2130_5fb8_11ea_9189_98e743969085row6_col1\" class=\"data row6 col1\" >0</td>\n",
       "                        <td id=\"T_1bad2130_5fb8_11ea_9189_98e743969085row6_col2\" class=\"data row6 col2\" >1</td>\n",
       "                        <td id=\"T_1bad2130_5fb8_11ea_9189_98e743969085row6_col3\" class=\"data row6 col3\" >object</td>\n",
       "                        <td id=\"T_1bad2130_5fb8_11ea_9189_98e743969085row6_col4\" class=\"data row6 col4\" >0.00%</td>\n",
       "            </tr>\n",
       "            <tr>\n",
       "                        <th id=\"T_1bad2130_5fb8_11ea_9189_98e743969085level0_row7\" class=\"row_heading level0 row7\" >REPORT_NO</th>\n",
       "                        <td id=\"T_1bad2130_5fb8_11ea_9189_98e743969085row7_col0\" class=\"data row7 col0\" >10</td>\n",
       "                        <td id=\"T_1bad2130_5fb8_11ea_9189_98e743969085row7_col1\" class=\"data row7 col1\" >0</td>\n",
       "                        <td id=\"T_1bad2130_5fb8_11ea_9189_98e743969085row7_col2\" class=\"data row7 col2\" >5</td>\n",
       "                        <td id=\"T_1bad2130_5fb8_11ea_9189_98e743969085row7_col3\" class=\"data row7 col3\" >int64</td>\n",
       "                        <td id=\"T_1bad2130_5fb8_11ea_9189_98e743969085row7_col4\" class=\"data row7 col4\" >0.00%</td>\n",
       "            </tr>\n",
       "            <tr>\n",
       "                        <th id=\"T_1bad2130_5fb8_11ea_9189_98e743969085level0_row8\" class=\"row_heading level0 row8\" >DATE_RECEIVED</th>\n",
       "                        <td id=\"T_1bad2130_5fb8_11ea_9189_98e743969085row8_col0\" class=\"data row8 col0\" >10</td>\n",
       "                        <td id=\"T_1bad2130_5fb8_11ea_9189_98e743969085row8_col1\" class=\"data row8 col1\" >0</td>\n",
       "                        <td id=\"T_1bad2130_5fb8_11ea_9189_98e743969085row8_col2\" class=\"data row8 col2\" >5</td>\n",
       "                        <td id=\"T_1bad2130_5fb8_11ea_9189_98e743969085row8_col3\" class=\"data row8 col3\" >datetime64[ns]</td>\n",
       "                        <td id=\"T_1bad2130_5fb8_11ea_9189_98e743969085row8_col4\" class=\"data row8 col4\" >0.00%</td>\n",
       "            </tr>\n",
       "            <tr>\n",
       "                        <th id=\"T_1bad2130_5fb8_11ea_9189_98e743969085level0_row9\" class=\"row_heading level0 row9\" >REPORT_TYPE</th>\n",
       "                        <td id=\"T_1bad2130_5fb8_11ea_9189_98e743969085row9_col0\" class=\"data row9 col0\" >10</td>\n",
       "                        <td id=\"T_1bad2130_5fb8_11ea_9189_98e743969085row9_col1\" class=\"data row9 col1\" >0</td>\n",
       "                        <td id=\"T_1bad2130_5fb8_11ea_9189_98e743969085row9_col2\" class=\"data row9 col2\" >1</td>\n",
       "                        <td id=\"T_1bad2130_5fb8_11ea_9189_98e743969085row9_col3\" class=\"data row9 col3\" >object</td>\n",
       "                        <td id=\"T_1bad2130_5fb8_11ea_9189_98e743969085row9_col4\" class=\"data row9 col4\" >0.00%</td>\n",
       "            </tr>\n",
       "            <tr>\n",
       "                        <th id=\"T_1bad2130_5fb8_11ea_9189_98e743969085level0_row10\" class=\"row_heading level0 row10\" >GENDER</th>\n",
       "                        <td id=\"T_1bad2130_5fb8_11ea_9189_98e743969085row10_col0\" class=\"data row10 col0\" >10</td>\n",
       "                        <td id=\"T_1bad2130_5fb8_11ea_9189_98e743969085row10_col1\" class=\"data row10 col1\" >0</td>\n",
       "                        <td id=\"T_1bad2130_5fb8_11ea_9189_98e743969085row10_col2\" class=\"data row10 col2\" >2</td>\n",
       "                        <td id=\"T_1bad2130_5fb8_11ea_9189_98e743969085row10_col3\" class=\"data row10 col3\" >object</td>\n",
       "                        <td id=\"T_1bad2130_5fb8_11ea_9189_98e743969085row10_col4\" class=\"data row10 col4\" >0.00%</td>\n",
       "            </tr>\n",
       "            <tr>\n",
       "                        <th id=\"T_1bad2130_5fb8_11ea_9189_98e743969085level0_row11\" class=\"row_heading level0 row11\" >AGE</th>\n",
       "                        <td id=\"T_1bad2130_5fb8_11ea_9189_98e743969085row11_col0\" class=\"data row11 col0\" >10</td>\n",
       "                        <td id=\"T_1bad2130_5fb8_11ea_9189_98e743969085row11_col1\" class=\"data row11 col1\" >0</td>\n",
       "                        <td id=\"T_1bad2130_5fb8_11ea_9189_98e743969085row11_col2\" class=\"data row11 col2\" >5</td>\n",
       "                        <td id=\"T_1bad2130_5fb8_11ea_9189_98e743969085row11_col3\" class=\"data row11 col3\" >float64</td>\n",
       "                        <td id=\"T_1bad2130_5fb8_11ea_9189_98e743969085row11_col4\" class=\"data row11 col4\" >0.00%</td>\n",
       "            </tr>\n",
       "            <tr>\n",
       "                        <th id=\"T_1bad2130_5fb8_11ea_9189_98e743969085level0_row12\" class=\"row_heading level0 row12\" >DEATH</th>\n",
       "                        <td id=\"T_1bad2130_5fb8_11ea_9189_98e743969085row12_col0\" class=\"data row12 col0\" >5</td>\n",
       "                        <td id=\"T_1bad2130_5fb8_11ea_9189_98e743969085row12_col1\" class=\"data row12 col1\" >5</td>\n",
       "                        <td id=\"T_1bad2130_5fb8_11ea_9189_98e743969085row12_col2\" class=\"data row12 col2\" >1</td>\n",
       "                        <td id=\"T_1bad2130_5fb8_11ea_9189_98e743969085row12_col3\" class=\"data row12 col3\" >float64</td>\n",
       "                        <td id=\"T_1bad2130_5fb8_11ea_9189_98e743969085row12_col4\" class=\"data row12 col4\" >0.00%</td>\n",
       "            </tr>\n",
       "            <tr>\n",
       "                        <th id=\"T_1bad2130_5fb8_11ea_9189_98e743969085level0_row13\" class=\"row_heading level0 row13\" >DISABILITY</th>\n",
       "                        <td id=\"T_1bad2130_5fb8_11ea_9189_98e743969085row13_col0\" class=\"data row13 col0\" >5</td>\n",
       "                        <td id=\"T_1bad2130_5fb8_11ea_9189_98e743969085row13_col1\" class=\"data row13 col1\" >5</td>\n",
       "                        <td id=\"T_1bad2130_5fb8_11ea_9189_98e743969085row13_col2\" class=\"data row13 col2\" >1</td>\n",
       "                        <td id=\"T_1bad2130_5fb8_11ea_9189_98e743969085row13_col3\" class=\"data row13 col3\" >float64</td>\n",
       "                        <td id=\"T_1bad2130_5fb8_11ea_9189_98e743969085row13_col4\" class=\"data row13 col4\" >0.00%</td>\n",
       "            </tr>\n",
       "            <tr>\n",
       "                        <th id=\"T_1bad2130_5fb8_11ea_9189_98e743969085level0_row14\" class=\"row_heading level0 row14\" >CONGENITAL_ANOMALY</th>\n",
       "                        <td id=\"T_1bad2130_5fb8_11ea_9189_98e743969085row14_col0\" class=\"data row14 col0\" >5</td>\n",
       "                        <td id=\"T_1bad2130_5fb8_11ea_9189_98e743969085row14_col1\" class=\"data row14 col1\" >5</td>\n",
       "                        <td id=\"T_1bad2130_5fb8_11ea_9189_98e743969085row14_col2\" class=\"data row14 col2\" >1</td>\n",
       "                        <td id=\"T_1bad2130_5fb8_11ea_9189_98e743969085row14_col3\" class=\"data row14 col3\" >float64</td>\n",
       "                        <td id=\"T_1bad2130_5fb8_11ea_9189_98e743969085row14_col4\" class=\"data row14 col4\" >0.00%</td>\n",
       "            </tr>\n",
       "            <tr>\n",
       "                        <th id=\"T_1bad2130_5fb8_11ea_9189_98e743969085level0_row15\" class=\"row_heading level0 row15\" >LIFE_THREATENING</th>\n",
       "                        <td id=\"T_1bad2130_5fb8_11ea_9189_98e743969085row15_col0\" class=\"data row15 col0\" >5</td>\n",
       "                        <td id=\"T_1bad2130_5fb8_11ea_9189_98e743969085row15_col1\" class=\"data row15 col1\" >5</td>\n",
       "                        <td id=\"T_1bad2130_5fb8_11ea_9189_98e743969085row15_col2\" class=\"data row15 col2\" >2</td>\n",
       "                        <td id=\"T_1bad2130_5fb8_11ea_9189_98e743969085row15_col3\" class=\"data row15 col3\" >float64</td>\n",
       "                        <td id=\"T_1bad2130_5fb8_11ea_9189_98e743969085row15_col4\" class=\"data row15 col4\" >0.00%</td>\n",
       "            </tr>\n",
       "            <tr>\n",
       "                        <th id=\"T_1bad2130_5fb8_11ea_9189_98e743969085level0_row16\" class=\"row_heading level0 row16\" >HOSP_REQUIRED</th>\n",
       "                        <td id=\"T_1bad2130_5fb8_11ea_9189_98e743969085row16_col0\" class=\"data row16 col0\" >5</td>\n",
       "                        <td id=\"T_1bad2130_5fb8_11ea_9189_98e743969085row16_col1\" class=\"data row16 col1\" >5</td>\n",
       "                        <td id=\"T_1bad2130_5fb8_11ea_9189_98e743969085row16_col2\" class=\"data row16 col2\" >2</td>\n",
       "                        <td id=\"T_1bad2130_5fb8_11ea_9189_98e743969085row16_col3\" class=\"data row16 col3\" >float64</td>\n",
       "                        <td id=\"T_1bad2130_5fb8_11ea_9189_98e743969085row16_col4\" class=\"data row16 col4\" >0.00%</td>\n",
       "            </tr>\n",
       "            <tr>\n",
       "                        <th id=\"T_1bad2130_5fb8_11ea_9189_98e743969085level0_row17\" class=\"row_heading level0 row17\" >OTHER_MEDICALLY_IMP_COND</th>\n",
       "                        <td id=\"T_1bad2130_5fb8_11ea_9189_98e743969085row17_col0\" class=\"data row17 col0\" >7</td>\n",
       "                        <td id=\"T_1bad2130_5fb8_11ea_9189_98e743969085row17_col1\" class=\"data row17 col1\" >3</td>\n",
       "                        <td id=\"T_1bad2130_5fb8_11ea_9189_98e743969085row17_col2\" class=\"data row17 col2\" >2</td>\n",
       "                        <td id=\"T_1bad2130_5fb8_11ea_9189_98e743969085row17_col3\" class=\"data row17 col3\" >float64</td>\n",
       "                        <td id=\"T_1bad2130_5fb8_11ea_9189_98e743969085row17_col4\" class=\"data row17 col4\" >0.00%</td>\n",
       "            </tr>\n",
       "            <tr>\n",
       "                        <th id=\"T_1bad2130_5fb8_11ea_9189_98e743969085level0_row18\" class=\"row_heading level0 row18\" >REPORTER_TYPE</th>\n",
       "                        <td id=\"T_1bad2130_5fb8_11ea_9189_98e743969085row18_col0\" class=\"data row18 col0\" >10</td>\n",
       "                        <td id=\"T_1bad2130_5fb8_11ea_9189_98e743969085row18_col1\" class=\"data row18 col1\" >0</td>\n",
       "                        <td id=\"T_1bad2130_5fb8_11ea_9189_98e743969085row18_col2\" class=\"data row18 col2\" >3</td>\n",
       "                        <td id=\"T_1bad2130_5fb8_11ea_9189_98e743969085row18_col3\" class=\"data row18 col3\" >object</td>\n",
       "                        <td id=\"T_1bad2130_5fb8_11ea_9189_98e743969085row18_col4\" class=\"data row18 col4\" >0.00%</td>\n",
       "            </tr>\n",
       "            <tr>\n",
       "                        <th id=\"T_1bad2130_5fb8_11ea_9189_98e743969085level0_row19\" class=\"row_heading level0 row19\" >SOURCE</th>\n",
       "                        <td id=\"T_1bad2130_5fb8_11ea_9189_98e743969085row19_col0\" class=\"data row19 col0\" >10</td>\n",
       "                        <td id=\"T_1bad2130_5fb8_11ea_9189_98e743969085row19_col1\" class=\"data row19 col1\" >0</td>\n",
       "                        <td id=\"T_1bad2130_5fb8_11ea_9189_98e743969085row19_col2\" class=\"data row19 col2\" >2</td>\n",
       "                        <td id=\"T_1bad2130_5fb8_11ea_9189_98e743969085row19_col3\" class=\"data row19 col3\" >object</td>\n",
       "                        <td id=\"T_1bad2130_5fb8_11ea_9189_98e743969085row19_col4\" class=\"data row19 col4\" >0.00%</td>\n",
       "            </tr>\n",
       "            <tr>\n",
       "                        <th id=\"T_1bad2130_5fb8_11ea_9189_98e743969085level0_row20\" class=\"row_heading level0 row20\" >WEIGHT_KG</th>\n",
       "                        <td id=\"T_1bad2130_5fb8_11ea_9189_98e743969085row20_col0\" class=\"data row20 col0\" >0</td>\n",
       "                        <td id=\"T_1bad2130_5fb8_11ea_9189_98e743969085row20_col1\" class=\"data row20 col1\" >10</td>\n",
       "                        <td id=\"T_1bad2130_5fb8_11ea_9189_98e743969085row20_col2\" class=\"data row20 col2\" >0</td>\n",
       "                        <td id=\"T_1bad2130_5fb8_11ea_9189_98e743969085row20_col3\" class=\"data row20 col3\" >float64</td>\n",
       "                        <td id=\"T_1bad2130_5fb8_11ea_9189_98e743969085row20_col4\" class=\"data row20 col4\" >0.00%</td>\n",
       "            </tr>\n",
       "            <tr>\n",
       "                        <th id=\"T_1bad2130_5fb8_11ea_9189_98e743969085level0_row21\" class=\"row_heading level0 row21\" >INVOLVEMENT</th>\n",
       "                        <td id=\"T_1bad2130_5fb8_11ea_9189_98e743969085row21_col0\" class=\"data row21 col0\" >10</td>\n",
       "                        <td id=\"T_1bad2130_5fb8_11ea_9189_98e743969085row21_col1\" class=\"data row21 col1\" >0</td>\n",
       "                        <td id=\"T_1bad2130_5fb8_11ea_9189_98e743969085row21_col2\" class=\"data row21 col2\" >1</td>\n",
       "                        <td id=\"T_1bad2130_5fb8_11ea_9189_98e743969085row21_col3\" class=\"data row21 col3\" >object</td>\n",
       "                        <td id=\"T_1bad2130_5fb8_11ea_9189_98e743969085row21_col4\" class=\"data row21 col4\" >0.00%</td>\n",
       "            </tr>\n",
       "            <tr>\n",
       "                        <th id=\"T_1bad2130_5fb8_11ea_9189_98e743969085level0_row22\" class=\"row_heading level0 row22\" >ADMIN_ROUTE</th>\n",
       "                        <td id=\"T_1bad2130_5fb8_11ea_9189_98e743969085row22_col0\" class=\"data row22 col0\" >10</td>\n",
       "                        <td id=\"T_1bad2130_5fb8_11ea_9189_98e743969085row22_col1\" class=\"data row22 col1\" >0</td>\n",
       "                        <td id=\"T_1bad2130_5fb8_11ea_9189_98e743969085row22_col2\" class=\"data row22 col2\" >4</td>\n",
       "                        <td id=\"T_1bad2130_5fb8_11ea_9189_98e743969085row22_col3\" class=\"data row22 col3\" >object</td>\n",
       "                        <td id=\"T_1bad2130_5fb8_11ea_9189_98e743969085row22_col4\" class=\"data row22 col4\" >0.00%</td>\n",
       "            </tr>\n",
       "            <tr>\n",
       "                        <th id=\"T_1bad2130_5fb8_11ea_9189_98e743969085level0_row23\" class=\"row_heading level0 row23\" >DOSAGE_FORM</th>\n",
       "                        <td id=\"T_1bad2130_5fb8_11ea_9189_98e743969085row23_col0\" class=\"data row23 col0\" >7</td>\n",
       "                        <td id=\"T_1bad2130_5fb8_11ea_9189_98e743969085row23_col1\" class=\"data row23 col1\" >3</td>\n",
       "                        <td id=\"T_1bad2130_5fb8_11ea_9189_98e743969085row23_col2\" class=\"data row23 col2\" >2</td>\n",
       "                        <td id=\"T_1bad2130_5fb8_11ea_9189_98e743969085row23_col3\" class=\"data row23 col3\" >object</td>\n",
       "                        <td id=\"T_1bad2130_5fb8_11ea_9189_98e743969085row23_col4\" class=\"data row23 col4\" >0.00%</td>\n",
       "            </tr>\n",
       "            <tr>\n",
       "                        <th id=\"T_1bad2130_5fb8_11ea_9189_98e743969085level0_row24\" class=\"row_heading level0 row24\" >CONCOMITANT_DRUGS</th>\n",
       "                        <td id=\"T_1bad2130_5fb8_11ea_9189_98e743969085row24_col0\" class=\"data row24 col0\" >10</td>\n",
       "                        <td id=\"T_1bad2130_5fb8_11ea_9189_98e743969085row24_col1\" class=\"data row24 col1\" >0</td>\n",
       "                        <td id=\"T_1bad2130_5fb8_11ea_9189_98e743969085row24_col2\" class=\"data row24 col2\" >4</td>\n",
       "                        <td id=\"T_1bad2130_5fb8_11ea_9189_98e743969085row24_col3\" class=\"data row24 col3\" >int64</td>\n",
       "                        <td id=\"T_1bad2130_5fb8_11ea_9189_98e743969085row24_col4\" class=\"data row24 col4\" >0.00%</td>\n",
       "            </tr>\n",
       "            <tr>\n",
       "                        <th id=\"T_1bad2130_5fb8_11ea_9189_98e743969085level0_row25\" class=\"row_heading level0 row25\" >ACTIVE_INGREDIENT</th>\n",
       "                        <td id=\"T_1bad2130_5fb8_11ea_9189_98e743969085row25_col0\" class=\"data row25 col0\" >10</td>\n",
       "                        <td id=\"T_1bad2130_5fb8_11ea_9189_98e743969085row25_col1\" class=\"data row25 col1\" >0</td>\n",
       "                        <td id=\"T_1bad2130_5fb8_11ea_9189_98e743969085row25_col2\" class=\"data row25 col2\" >2</td>\n",
       "                        <td id=\"T_1bad2130_5fb8_11ea_9189_98e743969085row25_col3\" class=\"data row25 col3\" >object</td>\n",
       "                        <td id=\"T_1bad2130_5fb8_11ea_9189_98e743969085row25_col4\" class=\"data row25 col4\" >0.00%</td>\n",
       "            </tr>\n",
       "            <tr>\n",
       "                        <th id=\"T_1bad2130_5fb8_11ea_9189_98e743969085level0_row26\" class=\"row_heading level0 row26\" >REACTION</th>\n",
       "                        <td id=\"T_1bad2130_5fb8_11ea_9189_98e743969085row26_col0\" class=\"data row26 col0\" >10</td>\n",
       "                        <td id=\"T_1bad2130_5fb8_11ea_9189_98e743969085row26_col1\" class=\"data row26 col1\" >0</td>\n",
       "                        <td id=\"T_1bad2130_5fb8_11ea_9189_98e743969085row26_col2\" class=\"data row26 col2\" >9</td>\n",
       "                        <td id=\"T_1bad2130_5fb8_11ea_9189_98e743969085row26_col3\" class=\"data row26 col3\" >object</td>\n",
       "                        <td id=\"T_1bad2130_5fb8_11ea_9189_98e743969085row26_col4\" class=\"data row26 col4\" >0.00%</td>\n",
       "            </tr>\n",
       "            <tr>\n",
       "                        <th id=\"T_1bad2130_5fb8_11ea_9189_98e743969085level0_row27\" class=\"row_heading level0 row27\" >SOC</th>\n",
       "                        <td id=\"T_1bad2130_5fb8_11ea_9189_98e743969085row27_col0\" class=\"data row27 col0\" >10</td>\n",
       "                        <td id=\"T_1bad2130_5fb8_11ea_9189_98e743969085row27_col1\" class=\"data row27 col1\" >0</td>\n",
       "                        <td id=\"T_1bad2130_5fb8_11ea_9189_98e743969085row27_col2\" class=\"data row27 col2\" >6</td>\n",
       "                        <td id=\"T_1bad2130_5fb8_11ea_9189_98e743969085row27_col3\" class=\"data row27 col3\" >object</td>\n",
       "                        <td id=\"T_1bad2130_5fb8_11ea_9189_98e743969085row27_col4\" class=\"data row27 col4\" >0.00%</td>\n",
       "            </tr>\n",
       "            <tr>\n",
       "                        <th id=\"T_1bad2130_5fb8_11ea_9189_98e743969085level0_row28\" class=\"row_heading level0 row28\" >SIDER</th>\n",
       "                        <td id=\"T_1bad2130_5fb8_11ea_9189_98e743969085row28_col0\" class=\"data row28 col0\" >10</td>\n",
       "                        <td id=\"T_1bad2130_5fb8_11ea_9189_98e743969085row28_col1\" class=\"data row28 col1\" >0</td>\n",
       "                        <td id=\"T_1bad2130_5fb8_11ea_9189_98e743969085row28_col2\" class=\"data row28 col2\" >1</td>\n",
       "                        <td id=\"T_1bad2130_5fb8_11ea_9189_98e743969085row28_col3\" class=\"data row28 col3\" >bool</td>\n",
       "                        <td id=\"T_1bad2130_5fb8_11ea_9189_98e743969085row28_col4\" class=\"data row28 col4\" >0.00%</td>\n",
       "            </tr>\n",
       "    </tbody></table>"
      ],
      "text/plain": [
       "<pandas.io.formats.style.Styler at 0x23f63811188>"
      ]
     },
     "execution_count": 56,
     "metadata": {},
     "output_type": "execute_result"
    }
   ],
   "source": [
    "desc_stats = pd.concat([count, ncount, dcount, dtypes], axis=1)\n",
    "desc_stats.columns = ['count', 'empty', 'unique count', 'data type']\n",
    "desc_stats['empty_%'] = desc_stats['empty']/1034772*100\n",
    "\n",
    "\n",
    "desc_stats.style.format({'empty_%': '{:,.2f}%'})"
   ]
  },
  {
   "cell_type": "code",
   "execution_count": 58,
   "metadata": {},
   "outputs": [],
   "source": [
    "desc_stats.to_csv(data_dir + 'desc_stats.csv')"
   ]
  },
  {
   "cell_type": "code",
   "execution_count": 59,
   "metadata": {},
   "outputs": [
    {
     "data": {
      "text/html": [
       "<div>\n",
       "<style scoped>\n",
       "    .dataframe tbody tr th:only-of-type {\n",
       "        vertical-align: middle;\n",
       "    }\n",
       "\n",
       "    .dataframe tbody tr th {\n",
       "        vertical-align: top;\n",
       "    }\n",
       "\n",
       "    .dataframe thead th {\n",
       "        text-align: right;\n",
       "    }\n",
       "</style>\n",
       "<table border=\"1\" class=\"dataframe\">\n",
       "  <thead>\n",
       "    <tr style=\"text-align: right;\">\n",
       "      <th></th>\n",
       "      <th>ROW_ID</th>\n",
       "      <th>MASS</th>\n",
       "      <th>REPORT_NO</th>\n",
       "      <th>AGE</th>\n",
       "      <th>DEATH</th>\n",
       "      <th>DISABILITY</th>\n",
       "      <th>CONGENITAL_ANOMALY</th>\n",
       "      <th>LIFE_THREATENING</th>\n",
       "      <th>HOSP_REQUIRED</th>\n",
       "      <th>OTHER_MEDICALLY_IMP_COND</th>\n",
       "      <th>WEIGHT_KG</th>\n",
       "      <th>CONCOMITANT_DRUGS</th>\n",
       "    </tr>\n",
       "  </thead>\n",
       "  <tbody>\n",
       "    <tr>\n",
       "      <th>count</th>\n",
       "      <td>10.0</td>\n",
       "      <td>10.0</td>\n",
       "      <td>10.0</td>\n",
       "      <td>10.0</td>\n",
       "      <td>5.0</td>\n",
       "      <td>5.0</td>\n",
       "      <td>5.0</td>\n",
       "      <td>5.0</td>\n",
       "      <td>5.0</td>\n",
       "      <td>7.0</td>\n",
       "      <td>0.0</td>\n",
       "      <td>10.0</td>\n",
       "    </tr>\n",
       "    <tr>\n",
       "      <th>mean</th>\n",
       "      <td>661945.0</td>\n",
       "      <td>1692.0</td>\n",
       "      <td>451382649.0</td>\n",
       "      <td>39.0</td>\n",
       "      <td>2.0</td>\n",
       "      <td>2.0</td>\n",
       "      <td>2.0</td>\n",
       "      <td>1.0</td>\n",
       "      <td>1.0</td>\n",
       "      <td>1.0</td>\n",
       "      <td>NaN</td>\n",
       "      <td>2.0</td>\n",
       "    </tr>\n",
       "    <tr>\n",
       "      <th>std</th>\n",
       "      <td>697749.0</td>\n",
       "      <td>515.0</td>\n",
       "      <td>475476309.0</td>\n",
       "      <td>29.0</td>\n",
       "      <td>0.0</td>\n",
       "      <td>0.0</td>\n",
       "      <td>0.0</td>\n",
       "      <td>1.0</td>\n",
       "      <td>1.0</td>\n",
       "      <td>0.0</td>\n",
       "      <td>NaN</td>\n",
       "      <td>4.0</td>\n",
       "    </tr>\n",
       "    <tr>\n",
       "      <th>min</th>\n",
       "      <td>0.0</td>\n",
       "      <td>1203.0</td>\n",
       "      <td>223127.0</td>\n",
       "      <td>2.0</td>\n",
       "      <td>2.0</td>\n",
       "      <td>2.0</td>\n",
       "      <td>2.0</td>\n",
       "      <td>1.0</td>\n",
       "      <td>1.0</td>\n",
       "      <td>1.0</td>\n",
       "      <td>NaN</td>\n",
       "      <td>0.0</td>\n",
       "    </tr>\n",
       "    <tr>\n",
       "      <th>25%</th>\n",
       "      <td>2.0</td>\n",
       "      <td>1203.0</td>\n",
       "      <td>277019.0</td>\n",
       "      <td>11.0</td>\n",
       "      <td>2.0</td>\n",
       "      <td>2.0</td>\n",
       "      <td>2.0</td>\n",
       "      <td>1.0</td>\n",
       "      <td>1.0</td>\n",
       "      <td>1.0</td>\n",
       "      <td>NaN</td>\n",
       "      <td>0.0</td>\n",
       "    </tr>\n",
       "    <tr>\n",
       "      <th>50%</th>\n",
       "      <td>661945.0</td>\n",
       "      <td>1692.0</td>\n",
       "      <td>451381387.0</td>\n",
       "      <td>41.0</td>\n",
       "      <td>2.0</td>\n",
       "      <td>2.0</td>\n",
       "      <td>2.0</td>\n",
       "      <td>1.0</td>\n",
       "      <td>1.0</td>\n",
       "      <td>1.0</td>\n",
       "      <td>NaN</td>\n",
       "      <td>0.0</td>\n",
       "    </tr>\n",
       "    <tr>\n",
       "      <th>75%</th>\n",
       "      <td>1323888.0</td>\n",
       "      <td>2180.0</td>\n",
       "      <td>902333437.0</td>\n",
       "      <td>64.0</td>\n",
       "      <td>2.0</td>\n",
       "      <td>2.0</td>\n",
       "      <td>2.0</td>\n",
       "      <td>2.0</td>\n",
       "      <td>2.0</td>\n",
       "      <td>2.0</td>\n",
       "      <td>NaN</td>\n",
       "      <td>2.0</td>\n",
       "    </tr>\n",
       "    <tr>\n",
       "      <th>max</th>\n",
       "      <td>1323890.0</td>\n",
       "      <td>2180.0</td>\n",
       "      <td>902647503.0</td>\n",
       "      <td>76.0</td>\n",
       "      <td>2.0</td>\n",
       "      <td>2.0</td>\n",
       "      <td>2.0</td>\n",
       "      <td>2.0</td>\n",
       "      <td>2.0</td>\n",
       "      <td>2.0</td>\n",
       "      <td>NaN</td>\n",
       "      <td>9.0</td>\n",
       "    </tr>\n",
       "  </tbody>\n",
       "</table>\n",
       "</div>"
      ],
      "text/plain": [
       "          ROW_ID    MASS    REPORT_NO   AGE  DEATH  DISABILITY  \\\n",
       "count       10.0    10.0         10.0  10.0    5.0         5.0   \n",
       "mean    661945.0  1692.0  451382649.0  39.0    2.0         2.0   \n",
       "std     697749.0   515.0  475476309.0  29.0    0.0         0.0   \n",
       "min          0.0  1203.0     223127.0   2.0    2.0         2.0   \n",
       "25%          2.0  1203.0     277019.0  11.0    2.0         2.0   \n",
       "50%     661945.0  1692.0  451381387.0  41.0    2.0         2.0   \n",
       "75%    1323888.0  2180.0  902333437.0  64.0    2.0         2.0   \n",
       "max    1323890.0  2180.0  902647503.0  76.0    2.0         2.0   \n",
       "\n",
       "       CONGENITAL_ANOMALY  LIFE_THREATENING  HOSP_REQUIRED  \\\n",
       "count                 5.0               5.0            5.0   \n",
       "mean                  2.0               1.0            1.0   \n",
       "std                   0.0               1.0            1.0   \n",
       "min                   2.0               1.0            1.0   \n",
       "25%                   2.0               1.0            1.0   \n",
       "50%                   2.0               1.0            1.0   \n",
       "75%                   2.0               2.0            2.0   \n",
       "max                   2.0               2.0            2.0   \n",
       "\n",
       "       OTHER_MEDICALLY_IMP_COND  WEIGHT_KG  CONCOMITANT_DRUGS  \n",
       "count                       7.0        0.0               10.0  \n",
       "mean                        1.0        NaN                2.0  \n",
       "std                         0.0        NaN                4.0  \n",
       "min                         1.0        NaN                0.0  \n",
       "25%                         1.0        NaN                0.0  \n",
       "50%                         1.0        NaN                0.0  \n",
       "75%                         2.0        NaN                2.0  \n",
       "max                         2.0        NaN                9.0  "
      ]
     },
     "execution_count": 59,
     "metadata": {},
     "output_type": "execute_result"
    }
   ],
   "source": [
    "cvadr.describe().round()"
   ]
  },
  {
   "cell_type": "raw",
   "metadata": {},
   "source": [
    "# Univariate Plots"
   ]
  },
  {
   "cell_type": "code",
   "execution_count": null,
   "metadata": {},
   "outputs": [],
   "source": []
  },
  {
   "cell_type": "code",
   "execution_count": null,
   "metadata": {},
   "outputs": [],
   "source": [
    "# count distinct reorts, drugs, and SE per year\n",
    "# fix dates prior to 1970\n",
    "\n",
    "counts_by_year = cvadr.groupby(cvadr['DATE_RECEIVED'].dt.year)['REPORT_NO','ACTIVE_INGREDIENT','REACTION',].nunique()\n",
    "counts_by_year['REPORTS'] = cvadr.groupby(cvadr['DATE_RECEIVED'].dt.year)['REPORT_NO'].count()\n",
    "counts_by_year = counts_by_year.reset_index()\n",
    "counts_by_year['DATE_RECEIVED'] = counts_by_year['DATE_RECEIVED'].apply(lambda x: x if x < 2020 else x-100)\n",
    "counts_by_year.head()\n",
    "\n",
    "# melt for plotting\n",
    "counts_by_year_melt = counts_by_year.melt(id_vars='DATE_RECEIVED', value_vars=['REPORT_NO','ACTIVE_INGREDIENT','REACTION', 'REPORTS'], var_name='VAR', value_name='COUNT')\n"
   ]
  },
  {
   "cell_type": "code",
   "execution_count": null,
   "metadata": {},
   "outputs": [],
   "source": [
    "counts_by_year.head()"
   ]
  },
  {
   "cell_type": "code",
   "execution_count": null,
   "metadata": {},
   "outputs": [],
   "source": [
    "\n",
    "fig, ax = plt.subplots(figsize=(15,5))\n",
    "\n",
    "sns.lineplot(x='DATE_RECEIVED', y='COUNT', data=counts_by_year_melt, hue='VAR', ax=ax)\n",
    "\n",
    "plot1 = plt.xlabel('Year')\n",
    "plot1 = plt.ylabel('Count')\n",
    "plot1 = plt.title(\"Reports, Drugs, and Active Ingredients by Year\")\n",
    "\n",
    "plot1_labels = ax.get_legend_handles_labels()[0][1:5]\n",
    "ax.legend(plot1_labels, ['Unique Reports','Unique Ingredients','Unique Side Effects', 'Total Rows'])\n",
    "\n",
    "# fig.autofmt_xdate()\n",
    "\n",
    "plt.show()"
   ]
  },
  {
   "cell_type": "code",
   "execution_count": 65,
   "metadata": {},
   "outputs": [
    {
     "data": {
      "image/png": "[encoded data removed]",
      "text/plain": [
       "<Figure size 432x288 with 1 Axes>"
      ]
     },
     "metadata": {
      "needs_background": "light"
     },
     "output_type": "display_data"
    }
   ],
   "source": [
    "# histogram for mass\n",
    "\n",
    "x = cvadr[['MASS']]\n",
    "ax = sns.distplot(x, axlabel='atomic mass', kde=False)\n",
    "\n"
   ]
  },
  {
   "cell_type": "code",
   "execution_count": null,
   "metadata": {},
   "outputs": [],
   "source": [
    "# tree plot of atc category\n",
    "# T/F for colour"
   ]
  },
  {
   "cell_type": "code",
   "execution_count": null,
   "metadata": {},
   "outputs": [],
   "source": [
    "# tree plot for targets\n",
    "# T/F for colour"
   ]
  },
  {
   "cell_type": "code",
   "execution_count": null,
   "metadata": {},
   "outputs": [],
   "source": [
    "# bar plot for report type"
   ]
  },
  {
   "cell_type": "code",
   "execution_count": null,
   "metadata": {},
   "outputs": [],
   "source": [
    "# bar plot for gender"
   ]
  },
  {
   "cell_type": "code",
   "execution_count": null,
   "metadata": {},
   "outputs": [],
   "source": [
    "# stacked bar plto for seriousness flags"
   ]
  },
  {
   "cell_type": "code",
   "execution_count": null,
   "metadata": {},
   "outputs": [],
   "source": [
    "# bar plot for reporter type"
   ]
  },
  {
   "cell_type": "code",
   "execution_count": null,
   "metadata": {},
   "outputs": [],
   "source": [
    "# bar plot for source type"
   ]
  },
  {
   "cell_type": "code",
   "execution_count": 73,
   "metadata": {},
   "outputs": [
    {
     "ename": "ZeroDivisionError",
     "evalue": "division by zero",
     "output_type": "error",
     "traceback": [
      "\u001b[1;31m-----------------\u001b[0m",
      "\u001b[1;31mZeroDivisionError\u001b[0mTraceback (most recent call last)",
      "\u001b[1;32m<ipython-input-73-22cbe47e0afa>\u001b[0m in \u001b[0;36m<module>\u001b[1;34m\u001b[0m\n\u001b[0;32m      2\u001b[0m \u001b[1;33m\u001b[0m\u001b[0m\n\u001b[0;32m      3\u001b[0m \u001b[0mx\u001b[0m \u001b[1;33m=\u001b[0m \u001b[0mcvadr\u001b[0m\u001b[1;33m[\u001b[0m\u001b[0mcvadr\u001b[0m\u001b[1;33m[\u001b[0m\u001b[1;34m'WEIGHT_KG'\u001b[0m\u001b[1;33m]\u001b[0m\u001b[1;33m.\u001b[0m\u001b[0mnotnull\u001b[0m\u001b[1;33m(\u001b[0m\u001b[1;33m)\u001b[0m\u001b[1;33m]\u001b[0m\u001b[1;33m\u001b[0m\u001b[1;33m\u001b[0m\u001b[0m\n\u001b[1;32m----> 4\u001b[1;33m \u001b[0max\u001b[0m \u001b[1;33m=\u001b[0m \u001b[0msns\u001b[0m\u001b[1;33m.\u001b[0m\u001b[0mdistplot\u001b[0m\u001b[1;33m(\u001b[0m\u001b[0mx\u001b[0m\u001b[1;33m,\u001b[0m \u001b[0maxlabel\u001b[0m\u001b[1;33m=\u001b[0m\u001b[1;34m'Patient Weight (kg)'\u001b[0m\u001b[1;33m,\u001b[0m \u001b[0mkde\u001b[0m\u001b[1;33m=\u001b[0m\u001b[1;32mFalse\u001b[0m\u001b[1;33m)\u001b[0m\u001b[1;33m\u001b[0m\u001b[1;33m\u001b[0m\u001b[0m\n\u001b[0m",
      "\u001b[1;32mC:\\Users\\v.ltam\\Downloads\\WPy64-3760\\python-3.7.6.amd64\\lib\\site-packages\\seaborn\\distributions.py\u001b[0m in \u001b[0;36mdistplot\u001b[1;34m(a, bins, hist, kde, rug, fit, hist_kws, kde_kws, rug_kws, fit_kws, color, vertical, norm_hist, axlabel, label, ax)\u001b[0m\n\u001b[0;32m    196\u001b[0m             \u001b[0mline\u001b[0m\u001b[1;33m,\u001b[0m \u001b[1;33m=\u001b[0m \u001b[0max\u001b[0m\u001b[1;33m.\u001b[0m\u001b[0mplot\u001b[0m\u001b[1;33m(\u001b[0m\u001b[1;36m0\u001b[0m\u001b[1;33m,\u001b[0m \u001b[0ma\u001b[0m\u001b[1;33m.\u001b[0m\u001b[0mmean\u001b[0m\u001b[1;33m(\u001b[0m\u001b[1;33m)\u001b[0m\u001b[1;33m)\u001b[0m\u001b[1;33m\u001b[0m\u001b[1;33m\u001b[0m\u001b[0m\n\u001b[0;32m    197\u001b[0m         \u001b[1;32melse\u001b[0m\u001b[1;33m:\u001b[0m\u001b[1;33m\u001b[0m\u001b[1;33m\u001b[0m\u001b[0m\n\u001b[1;32m--> 198\u001b[1;33m             \u001b[0mline\u001b[0m\u001b[1;33m,\u001b[0m \u001b[1;33m=\u001b[0m \u001b[0max\u001b[0m\u001b[1;33m.\u001b[0m\u001b[0mplot\u001b[0m\u001b[1;33m(\u001b[0m\u001b[0ma\u001b[0m\u001b[1;33m.\u001b[0m\u001b[0mmean\u001b[0m\u001b[1;33m(\u001b[0m\u001b[1;33m)\u001b[0m\u001b[1;33m,\u001b[0m \u001b[1;36m0\u001b[0m\u001b[1;33m)\u001b[0m\u001b[1;33m\u001b[0m\u001b[1;33m\u001b[0m\u001b[0m\n\u001b[0m\u001b[0;32m    199\u001b[0m         \u001b[0mcolor\u001b[0m \u001b[1;33m=\u001b[0m \u001b[0mline\u001b[0m\u001b[1;33m.\u001b[0m\u001b[0mget_color\u001b[0m\u001b[1;33m(\u001b[0m\u001b[1;33m)\u001b[0m\u001b[1;33m\u001b[0m\u001b[1;33m\u001b[0m\u001b[0m\n\u001b[0;32m    200\u001b[0m         \u001b[0mline\u001b[0m\u001b[1;33m.\u001b[0m\u001b[0mremove\u001b[0m\u001b[1;33m(\u001b[0m\u001b[1;33m)\u001b[0m\u001b[1;33m\u001b[0m\u001b[1;33m\u001b[0m\u001b[0m\n",
      "\u001b[1;32mC:\\Users\\v.ltam\\Downloads\\WPy64-3760\\python-3.7.6.amd64\\lib\\site-packages\\numpy\\core\\_methods.py\u001b[0m in \u001b[0;36m_mean\u001b[1;34m(a, axis, dtype, out, keepdims)\u001b[0m\n\u001b[0;32m    161\u001b[0m             \u001b[0mret\u001b[0m \u001b[1;33m=\u001b[0m \u001b[0mret\u001b[0m\u001b[1;33m.\u001b[0m\u001b[0mdtype\u001b[0m\u001b[1;33m.\u001b[0m\u001b[0mtype\u001b[0m\u001b[1;33m(\u001b[0m\u001b[0mret\u001b[0m \u001b[1;33m/\u001b[0m \u001b[0mrcount\u001b[0m\u001b[1;33m)\u001b[0m\u001b[1;33m\u001b[0m\u001b[1;33m\u001b[0m\u001b[0m\n\u001b[0;32m    162\u001b[0m     \u001b[1;32melse\u001b[0m\u001b[1;33m:\u001b[0m\u001b[1;33m\u001b[0m\u001b[1;33m\u001b[0m\u001b[0m\n\u001b[1;32m--> 163\u001b[1;33m         \u001b[0mret\u001b[0m \u001b[1;33m=\u001b[0m \u001b[0mret\u001b[0m \u001b[1;33m/\u001b[0m \u001b[0mrcount\u001b[0m\u001b[1;33m\u001b[0m\u001b[1;33m\u001b[0m\u001b[0m\n\u001b[0m\u001b[0;32m    164\u001b[0m \u001b[1;33m\u001b[0m\u001b[0m\n\u001b[0;32m    165\u001b[0m     \u001b[1;32mreturn\u001b[0m \u001b[0mret\u001b[0m\u001b[1;33m\u001b[0m\u001b[1;33m\u001b[0m\u001b[0m\n",
      "\u001b[1;31mZeroDivisionError\u001b[0m: division by zero"
     ]
    },
    {
     "data": {
      "image/png": "[encoded data removed]",
      "text/plain": [
       "<Figure size 432x288 with 1 Axes>"
      ]
     },
     "metadata": {
      "needs_background": "light"
     },
     "output_type": "display_data"
    }
   ],
   "source": [
    "# histogram for weight\n",
    "\n",
    "x = cvadr[cvadr['WEIGHT_KG'].notnull()]\n",
    "ax = sns.distplot(x, axlabel='Patient Weight (kg)', kde=False)"
   ]
  },
  {
   "cell_type": "code",
   "execution_count": 64,
   "metadata": {},
   "outputs": [
    {
     "data": {
      "image/png": "[encoded data removed]",
      "text/plain": [
       "<Figure size 432x288 with 1 Axes>"
      ]
     },
     "metadata": {
      "needs_background": "light"
     },
     "output_type": "display_data"
    }
   ],
   "source": [
    "# histogram for concomitant drugs\n",
    "\n",
    "x = cvadr[['CONCOMITANT_DRUGS']]\n",
    "ax = sns.distplot(x, axlabel='Number of Concomitant Drugs', kde=False)"
   ]
  },
  {
   "cell_type": "code",
   "execution_count": null,
   "metadata": {},
   "outputs": [],
   "source": [
    "# Plot number of S/E per report and per active ingredients\n",
    "\n",
    "se_ratio = pd.concat([counts_by_year['DATE_RECEIVED'], counts_by_year['REACTION']/counts_by_year['ACTIVE_INGREDIENT'], counts_by_year['REACTION']/counts_by_year['REPORT_NO']], axis=1)\n",
    "\n",
    "se_ratio.columns = ['YEAR', 'REACTIONS_PER_INGR', 'REACTIONS_PER_REPORT']\n",
    "\n",
    "se_ratio.head()"
   ]
  },
  {
   "cell_type": "code",
   "execution_count": null,
   "metadata": {},
   "outputs": [],
   "source": [
    "# melt for plotting\n",
    "se_ratio_melt = se_ratio.melt(id_vars='YEAR', value_vars=['REACTIONS_PER_INGR', 'REACTIONS_PER_REPORT'], var_name='VAR', value_name='COUNT')"
   ]
  },
  {
   "cell_type": "code",
   "execution_count": null,
   "metadata": {},
   "outputs": [],
   "source": [
    "fig, ax = plt.subplots(figsize=(15,5))\n",
    "\n",
    "sns.lineplot(x='YEAR', y='COUNT', data=se_ratio_melt, hue='VAR', ax=ax)\n",
    "\n",
    "plot2 = plt.xlabel('Year')\n",
    "plot2 = plt.ylabel('Count')\n",
    "plot2 = plt.title(\"Number of Side Effects Per Ingredient and Report by Year\")\n",
    "\n",
    "plot1_labels = ax.get_legend_handles_labels()[0][1:3]\n",
    "ax.legend(plot1_labels, ['Per Ingredient','Per Report'])\n",
    "\n",
    "# fig.autofmt_xdate()\n",
    "\n",
    "plt.show()"
   ]
  },
  {
   "cell_type": "code",
   "execution_count": null,
   "metadata": {},
   "outputs": [],
   "source": [
    "\n"
   ]
  },
  {
   "cell_type": "code",
   "execution_count": null,
   "metadata": {},
   "outputs": [],
   "source": [
    "import textwrap\n",
    "\n",
    "fig, ax = plt.subplots(2,3, figsize=(15,10), sharex=False)\n",
    "plt.subplots_adjust(hspace=.6, wspace=.4)\n",
    "\n",
    "plot3 = sns.countplot(x='REPORT_TYPE', data=cvadr, ax=ax[0,0])\n",
    "plot3.set_xticklabels([textwrap.fill(e.get_text(),20) for e in list(plot3.get_xticklabels())], rotation=45, horizontalalignment='right')\n",
    "plot3 = plt.xlabel('Report Type')\n",
    "plot3 = plt.ylabel('Count')\n",
    "\n",
    "plot4 = sns.countplot(x='REPORTER_TYPE', data=cvadr, ax=ax[1,0])\n",
    "plot4.set_xticklabels([textwrap.fill(e.get_text(),20) for e in list(plot4.get_xticklabels())], rotation=45, horizontalalignment='right')\n",
    "plot4 = plt.xlabel('Report Type')\n",
    "plot4 = plt.ylabel('Count')\n",
    "\n",
    "plot5 = sns.countplot(x='SOURCE', data=cvadr, ax=ax[0,1])\n",
    "plot5.set_xticklabels([textwrap.fill(e.get_text(),20) for e in list(plot5.get_xticklabels())], rotation=45, horizontalalignment='right')\n",
    "plot5 = plt.xlabel('Source')\n",
    "plot5 = plt.ylabel('Count')\n",
    "\n",
    "plot6 = sns.countplot(x='GENDER', data=cvadr, ax=ax[1,1])\n",
    "plot6.set_xticklabels([textwrap.fill(e.get_text(),20) for e in list(plot6.get_xticklabels())], rotation=45, horizontalalignment='right')\n",
    "plot6 = plt.xlabel('Gender')\n",
    "plot6 = plt.ylabel('Count')\n",
    "\n",
    "#plot7 = sns.countplot(x='SERIOUSNESS_ENG', data=cvadr, ax=ax[0,2])\n",
    "#plot7.set_xticklabels([textwrap.fill(e.get_text(),20) for e in list(plot7.get_xticklabels())], rotation=45, horizontalalignment='right')\n",
    "#plot7 = plt.xlabel('Seriousness')\n",
    "#plot7 = plt.ylabel('Count')\n",
    "\n",
    "plot8 = sns.distplot(cvadr['AGE'], ax=ax[1,2], kde=False)\n",
    "plot8 = plt.xlabel('Age')\n",
    "plot8 = plt.ylabel('Count')\n",
    "\n",
    "\n",
    "# Show plot\n",
    "plt.show()"
   ]
  },
  {
   "cell_type": "code",
   "execution_count": null,
   "metadata": {},
   "outputs": [],
   "source": [
    "# there doesn't seem to be a relationship bewteen age ad concomitant drugs\n",
    "\n",
    "cvadr1 = cvadr[['GENDER',\n",
    "       'AGE', 'REPORTER_TYPE', 'SOURCE',\n",
    "       'ADMIN_ROUTE', 'CONCOMITANT_DRUGS']]\n",
    "\n",
    "sns.pairplot(cvadr1)\n",
    "\n",
    "plt.show()"
   ]
  },
  {
   "cell_type": "code",
   "execution_count": null,
   "metadata": {},
   "outputs": [],
   "source": []
  },
  {
   "cell_type": "raw",
   "metadata": {},
   "source": [
    "# bivariate plots"
   ]
  },
  {
   "cell_type": "code",
   "execution_count": null,
   "metadata": {},
   "outputs": [],
   "source": [
    "# box and whisker plot for mass"
   ]
  },
  {
   "cell_type": "code",
   "execution_count": null,
   "metadata": {},
   "outputs": [],
   "source": [
    "# time series plot wtih color for outcomes"
   ]
  },
  {
   "cell_type": "code",
   "execution_count": null,
   "metadata": {},
   "outputs": [],
   "source": [
    "# scatter plot/box and whisker plot for report type"
   ]
  },
  {
   "cell_type": "code",
   "execution_count": null,
   "metadata": {},
   "outputs": [],
   "source": [
    "# scatter plot/box and whisker plot for gender"
   ]
  },
  {
   "cell_type": "code",
   "execution_count": null,
   "metadata": {},
   "outputs": [],
   "source": [
    "# scatter plot/box and whisker plot for report type"
   ]
  },
  {
   "cell_type": "code",
   "execution_count": null,
   "metadata": {},
   "outputs": [],
   "source": [
    "# scatter plot/box  for age with outcome as colour"
   ]
  },
  {
   "cell_type": "code",
   "execution_count": null,
   "metadata": {},
   "outputs": [],
   "source": [
    "# scatter plot for each seriousness flag?"
   ]
  },
  {
   "cell_type": "code",
   "execution_count": null,
   "metadata": {},
   "outputs": [],
   "source": [
    "# reporter type: scatter plot with reporter type as colour; mosaic plot"
   ]
  },
  {
   "cell_type": "code",
   "execution_count": null,
   "metadata": {},
   "outputs": [],
   "source": [
    "# source: scatter plot with reporter type as colour; mosaic plot"
   ]
  },
  {
   "cell_type": "code",
   "execution_count": null,
   "metadata": {},
   "outputs": [],
   "source": [
    "# weight: box and whisker"
   ]
  },
  {
   "cell_type": "code",
   "execution_count": null,
   "metadata": {},
   "outputs": [],
   "source": [
    "# admin route: scatter plot with dosage as color"
   ]
  },
  {
   "cell_type": "code",
   "execution_count": null,
   "metadata": {},
   "outputs": [],
   "source": [
    "# dosage form: scatter plot with dosage as color"
   ]
  },
  {
   "cell_type": "code",
   "execution_count": null,
   "metadata": {},
   "outputs": [],
   "source": [
    "# concomitant drugs: scattter plot"
   ]
  }
 ],
 "metadata": {
  "kernelspec": {
   "display_name": "Python 3",
   "language": "python",
   "name": "python3"
  },
  "language_info": {
   "codemirror_mode": {
    "name": "ipython",
    "version": 3
   },
   "file_extension": ".py",
   "mimetype": "text/x-python",
   "name": "python",
   "nbconvert_exporter": "python",
   "pygments_lexer": "ipython3",
   "version": "3.7.6"
  }
 },
 "nbformat": 4,
 "nbformat_minor": 4
}
